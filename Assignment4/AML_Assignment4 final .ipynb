{
  "nbformat": 4,
  "nbformat_minor": 0,
  "metadata": {
    "colab": {
      "provenance": [],
      "gpuType": "T4"
    },
    "kernelspec": {
      "name": "python3",
      "display_name": "Python 3"
    },
    "language_info": {
      "name": "python"
    },
    "accelerator": "GPU"
  },
  "cells": [
    {
      "cell_type": "markdown",
      "source": [
        "Getting  and downloading the Imdb Dataset."
      ],
      "metadata": {
        "id": "BohQH8fzYZ-V"
      }
    },
    {
      "cell_type": "code",
      "execution_count": 1,
      "metadata": {
        "colab": {
          "base_uri": "https://localhost:8080/"
        },
        "id": "8jpjNgcC1dz9",
        "outputId": "affe9d0d-6e74-4316-9e88-cd30559f56ac"
      },
      "outputs": [
        {
          "output_type": "stream",
          "name": "stdout",
          "text": [
            "  % Total    % Received % Xferd  Average Speed   Time    Time     Time  Current\n",
            "                                 Dload  Upload   Total   Spent    Left  Speed\n",
            "100 80.2M  100 80.2M    0     0  17.8M      0  0:00:04  0:00:04 --:--:-- 17.8M\n"
          ]
        }
      ],
      "source": [
        "!curl -O https://ai.stanford.edu/~amaas/data/sentiment/aclImdb_v1.tar.gz\n",
        "!tar -xf aclImdb_v1.tar.gz\n",
        "!rm -r aclImdb/train/unsup"
      ]
    },
    {
      "cell_type": "code",
      "source": [
        "!pip install tensorflow==2.12"
      ],
      "metadata": {
        "colab": {
          "base_uri": "https://localhost:8080/"
        },
        "id": "lKBqRF5x4r6d",
        "outputId": "201606c1-8f9e-4a4f-812a-b1a760f0d1dd"
      },
      "execution_count": 2,
      "outputs": [
        {
          "output_type": "stream",
          "name": "stdout",
          "text": [
            "Collecting tensorflow==2.12\n",
            "  Downloading tensorflow-2.12.0-cp310-cp310-manylinux_2_17_x86_64.manylinux2014_x86_64.whl (585.9 MB)\n",
            "\u001b[2K     \u001b[90m━━━━━━━━━━━━━━━━━━━━━━━━━━━━━━━━━━━━━━━━\u001b[0m \u001b[32m585.9/585.9 MB\u001b[0m \u001b[31m3.0 MB/s\u001b[0m eta \u001b[36m0:00:00\u001b[0m\n",
            "\u001b[?25hRequirement already satisfied: absl-py>=1.0.0 in /usr/local/lib/python3.10/dist-packages (from tensorflow==2.12) (1.4.0)\n",
            "Requirement already satisfied: astunparse>=1.6.0 in /usr/local/lib/python3.10/dist-packages (from tensorflow==2.12) (1.6.3)\n",
            "Requirement already satisfied: flatbuffers>=2.0 in /usr/local/lib/python3.10/dist-packages (from tensorflow==2.12) (23.5.26)\n",
            "Collecting gast<=0.4.0,>=0.2.1 (from tensorflow==2.12)\n",
            "  Downloading gast-0.4.0-py3-none-any.whl (9.8 kB)\n",
            "Requirement already satisfied: google-pasta>=0.1.1 in /usr/local/lib/python3.10/dist-packages (from tensorflow==2.12) (0.2.0)\n",
            "Requirement already satisfied: grpcio<2.0,>=1.24.3 in /usr/local/lib/python3.10/dist-packages (from tensorflow==2.12) (1.59.2)\n",
            "Requirement already satisfied: h5py>=2.9.0 in /usr/local/lib/python3.10/dist-packages (from tensorflow==2.12) (3.9.0)\n",
            "Requirement already satisfied: jax>=0.3.15 in /usr/local/lib/python3.10/dist-packages (from tensorflow==2.12) (0.4.20)\n",
            "Collecting keras<2.13,>=2.12.0 (from tensorflow==2.12)\n",
            "  Downloading keras-2.12.0-py2.py3-none-any.whl (1.7 MB)\n",
            "\u001b[2K     \u001b[90m━━━━━━━━━━━━━━━━━━━━━━━━━━━━━━━━━━━━━━━━\u001b[0m \u001b[32m1.7/1.7 MB\u001b[0m \u001b[31m66.6 MB/s\u001b[0m eta \u001b[36m0:00:00\u001b[0m\n",
            "\u001b[?25hRequirement already satisfied: libclang>=13.0.0 in /usr/local/lib/python3.10/dist-packages (from tensorflow==2.12) (16.0.6)\n",
            "Requirement already satisfied: numpy<1.24,>=1.22 in /usr/local/lib/python3.10/dist-packages (from tensorflow==2.12) (1.23.5)\n",
            "Requirement already satisfied: opt-einsum>=2.3.2 in /usr/local/lib/python3.10/dist-packages (from tensorflow==2.12) (3.3.0)\n",
            "Requirement already satisfied: packaging in /usr/local/lib/python3.10/dist-packages (from tensorflow==2.12) (23.2)\n",
            "Requirement already satisfied: protobuf!=4.21.0,!=4.21.1,!=4.21.2,!=4.21.3,!=4.21.4,!=4.21.5,<5.0.0dev,>=3.20.3 in /usr/local/lib/python3.10/dist-packages (from tensorflow==2.12) (3.20.3)\n",
            "Requirement already satisfied: setuptools in /usr/local/lib/python3.10/dist-packages (from tensorflow==2.12) (67.7.2)\n",
            "Requirement already satisfied: six>=1.12.0 in /usr/local/lib/python3.10/dist-packages (from tensorflow==2.12) (1.16.0)\n",
            "Collecting tensorboard<2.13,>=2.12 (from tensorflow==2.12)\n",
            "  Downloading tensorboard-2.12.3-py3-none-any.whl (5.6 MB)\n",
            "\u001b[2K     \u001b[90m━━━━━━━━━━━━━━━━━━━━━━━━━━━━━━━━━━━━━━━━\u001b[0m \u001b[32m5.6/5.6 MB\u001b[0m \u001b[31m68.6 MB/s\u001b[0m eta \u001b[36m0:00:00\u001b[0m\n",
            "\u001b[?25hCollecting tensorflow-estimator<2.13,>=2.12.0 (from tensorflow==2.12)\n",
            "  Downloading tensorflow_estimator-2.12.0-py2.py3-none-any.whl (440 kB)\n",
            "\u001b[2K     \u001b[90m━━━━━━━━━━━━━━━━━━━━━━━━━━━━━━━━━━━━━━━━\u001b[0m \u001b[32m440.7/440.7 kB\u001b[0m \u001b[31m39.2 MB/s\u001b[0m eta \u001b[36m0:00:00\u001b[0m\n",
            "\u001b[?25hRequirement already satisfied: termcolor>=1.1.0 in /usr/local/lib/python3.10/dist-packages (from tensorflow==2.12) (2.3.0)\n",
            "Requirement already satisfied: typing-extensions>=3.6.6 in /usr/local/lib/python3.10/dist-packages (from tensorflow==2.12) (4.5.0)\n",
            "Requirement already satisfied: wrapt<1.15,>=1.11.0 in /usr/local/lib/python3.10/dist-packages (from tensorflow==2.12) (1.14.1)\n",
            "Requirement already satisfied: tensorflow-io-gcs-filesystem>=0.23.1 in /usr/local/lib/python3.10/dist-packages (from tensorflow==2.12) (0.34.0)\n",
            "Requirement already satisfied: wheel<1.0,>=0.23.0 in /usr/local/lib/python3.10/dist-packages (from astunparse>=1.6.0->tensorflow==2.12) (0.41.3)\n",
            "Requirement already satisfied: ml-dtypes>=0.2.0 in /usr/local/lib/python3.10/dist-packages (from jax>=0.3.15->tensorflow==2.12) (0.2.0)\n",
            "Requirement already satisfied: scipy>=1.9 in /usr/local/lib/python3.10/dist-packages (from jax>=0.3.15->tensorflow==2.12) (1.11.3)\n",
            "Requirement already satisfied: google-auth<3,>=1.6.3 in /usr/local/lib/python3.10/dist-packages (from tensorboard<2.13,>=2.12->tensorflow==2.12) (2.17.3)\n",
            "Requirement already satisfied: google-auth-oauthlib<1.1,>=0.5 in /usr/local/lib/python3.10/dist-packages (from tensorboard<2.13,>=2.12->tensorflow==2.12) (1.0.0)\n",
            "Requirement already satisfied: markdown>=2.6.8 in /usr/local/lib/python3.10/dist-packages (from tensorboard<2.13,>=2.12->tensorflow==2.12) (3.5.1)\n",
            "Requirement already satisfied: requests<3,>=2.21.0 in /usr/local/lib/python3.10/dist-packages (from tensorboard<2.13,>=2.12->tensorflow==2.12) (2.31.0)\n",
            "Requirement already satisfied: tensorboard-data-server<0.8.0,>=0.7.0 in /usr/local/lib/python3.10/dist-packages (from tensorboard<2.13,>=2.12->tensorflow==2.12) (0.7.2)\n",
            "Requirement already satisfied: werkzeug>=1.0.1 in /usr/local/lib/python3.10/dist-packages (from tensorboard<2.13,>=2.12->tensorflow==2.12) (3.0.1)\n",
            "Requirement already satisfied: cachetools<6.0,>=2.0.0 in /usr/local/lib/python3.10/dist-packages (from google-auth<3,>=1.6.3->tensorboard<2.13,>=2.12->tensorflow==2.12) (5.3.2)\n",
            "Requirement already satisfied: pyasn1-modules>=0.2.1 in /usr/local/lib/python3.10/dist-packages (from google-auth<3,>=1.6.3->tensorboard<2.13,>=2.12->tensorflow==2.12) (0.3.0)\n",
            "Requirement already satisfied: rsa<5,>=3.1.4 in /usr/local/lib/python3.10/dist-packages (from google-auth<3,>=1.6.3->tensorboard<2.13,>=2.12->tensorflow==2.12) (4.9)\n",
            "Requirement already satisfied: requests-oauthlib>=0.7.0 in /usr/local/lib/python3.10/dist-packages (from google-auth-oauthlib<1.1,>=0.5->tensorboard<2.13,>=2.12->tensorflow==2.12) (1.3.1)\n",
            "Requirement already satisfied: charset-normalizer<4,>=2 in /usr/local/lib/python3.10/dist-packages (from requests<3,>=2.21.0->tensorboard<2.13,>=2.12->tensorflow==2.12) (3.3.2)\n",
            "Requirement already satisfied: idna<4,>=2.5 in /usr/local/lib/python3.10/dist-packages (from requests<3,>=2.21.0->tensorboard<2.13,>=2.12->tensorflow==2.12) (3.4)\n",
            "Requirement already satisfied: urllib3<3,>=1.21.1 in /usr/local/lib/python3.10/dist-packages (from requests<3,>=2.21.0->tensorboard<2.13,>=2.12->tensorflow==2.12) (2.0.7)\n",
            "Requirement already satisfied: certifi>=2017.4.17 in /usr/local/lib/python3.10/dist-packages (from requests<3,>=2.21.0->tensorboard<2.13,>=2.12->tensorflow==2.12) (2023.7.22)\n",
            "Requirement already satisfied: MarkupSafe>=2.1.1 in /usr/local/lib/python3.10/dist-packages (from werkzeug>=1.0.1->tensorboard<2.13,>=2.12->tensorflow==2.12) (2.1.3)\n",
            "Requirement already satisfied: pyasn1<0.6.0,>=0.4.6 in /usr/local/lib/python3.10/dist-packages (from pyasn1-modules>=0.2.1->google-auth<3,>=1.6.3->tensorboard<2.13,>=2.12->tensorflow==2.12) (0.5.0)\n",
            "Requirement already satisfied: oauthlib>=3.0.0 in /usr/local/lib/python3.10/dist-packages (from requests-oauthlib>=0.7.0->google-auth-oauthlib<1.1,>=0.5->tensorboard<2.13,>=2.12->tensorflow==2.12) (3.2.2)\n",
            "Installing collected packages: tensorflow-estimator, keras, gast, tensorboard, tensorflow\n",
            "  Attempting uninstall: tensorflow-estimator\n",
            "    Found existing installation: tensorflow-estimator 2.14.0\n",
            "    Uninstalling tensorflow-estimator-2.14.0:\n",
            "      Successfully uninstalled tensorflow-estimator-2.14.0\n",
            "  Attempting uninstall: keras\n",
            "    Found existing installation: keras 2.14.0\n",
            "    Uninstalling keras-2.14.0:\n",
            "      Successfully uninstalled keras-2.14.0\n",
            "  Attempting uninstall: gast\n",
            "    Found existing installation: gast 0.5.4\n",
            "    Uninstalling gast-0.5.4:\n",
            "      Successfully uninstalled gast-0.5.4\n",
            "  Attempting uninstall: tensorboard\n",
            "    Found existing installation: tensorboard 2.14.1\n",
            "    Uninstalling tensorboard-2.14.1:\n",
            "      Successfully uninstalled tensorboard-2.14.1\n",
            "  Attempting uninstall: tensorflow\n",
            "    Found existing installation: tensorflow 2.14.0\n",
            "    Uninstalling tensorflow-2.14.0:\n",
            "      Successfully uninstalled tensorflow-2.14.0\n",
            "Successfully installed gast-0.4.0 keras-2.12.0 tensorboard-2.12.3 tensorflow-2.12.0 tensorflow-estimator-2.12.0\n"
          ]
        }
      ]
    },
    {
      "cell_type": "markdown",
      "source": [
        "Preparing the data"
      ],
      "metadata": {
        "id": "OB3rQIvc2efx"
      }
    },
    {
      "cell_type": "code",
      "source": [
        "import os, pathlib, shutil, random\n",
        "from tensorflow import keras\n",
        "batch_size =32\n",
        "base_dir = pathlib.Path(\"aclImdb\")\n",
        "val_dir = base_dir / \"val\"\n",
        "train_dir = base_dir / \"train\"\n",
        "for category in (\"neg\", \"pos\"):\n",
        "    os.makedirs(val_dir / category)\n",
        "    files = os.listdir(train_dir / category)\n",
        "    random.Random(1337).shuffle(files)\n",
        "    num_val_samples = int(0.2 * len(files))\n",
        "    val_files = files[-num_val_samples:]\n",
        "    for fname in val_files:\n",
        "        shutil.move(train_dir / category / fname,\n",
        "                    val_dir / category / fname)\n",
        "\n",
        "train_ds = keras.utils.text_dataset_from_directory(\n",
        "    \"aclImdb/train\", batch_size=batch_size\n",
        ")\n",
        "val_ds = keras.utils.text_dataset_from_directory(\n",
        "    \"aclImdb/val\", batch_size=batch_size\n",
        ")\n",
        "test_ds = keras.utils.text_dataset_from_directory(\n",
        "    \"aclImdb/test\", batch_size=batch_size\n",
        ")\n",
        "text_only_train_ds = train_ds.map(lambda x, y: x)"
      ],
      "metadata": {
        "colab": {
          "base_uri": "https://localhost:8080/"
        },
        "id": "DFnl4dPQ1jcp",
        "outputId": "8fc8e9da-bb8c-44eb-c21c-7192b08a2adb"
      },
      "execution_count": 3,
      "outputs": [
        {
          "output_type": "stream",
          "name": "stdout",
          "text": [
            "Found 20000 files belonging to 2 classes.\n",
            "Found 5000 files belonging to 2 classes.\n",
            "Found 25000 files belonging to 2 classes.\n"
          ]
        }
      ]
    },
    {
      "cell_type": "markdown",
      "source": [
        "Vectorizing the data"
      ],
      "metadata": {
        "id": "xOwokI4Z22aa"
      }
    },
    {
      "cell_type": "code",
      "source": [
        "from tensorflow.keras import layers\n",
        "\n",
        "max_length = 150\n",
        "max_tokens = 10000\n",
        "text_vectorization = layers.TextVectorization(\n",
        "    max_tokens=max_tokens,\n",
        "    output_mode=\"int\",\n",
        "    output_sequence_length=max_length,\n",
        ")\n",
        "text_vectorization.adapt(text_only_train_ds)\n",
        "\n",
        "int_train_ds = train_ds.map(\n",
        "    lambda x, y: (text_vectorization(x), y),\n",
        "    num_parallel_calls=4).take(100)\n",
        "int_val_ds = val_ds.map(\n",
        "    lambda x, y: (text_vectorization(x), y),\n",
        "    num_parallel_calls=4).take(10000)\n",
        "int_test_ds = test_ds.map(\n",
        "    lambda x, y: (text_vectorization(x), y),\n",
        "    num_parallel_calls=4)"
      ],
      "metadata": {
        "id": "XmmOGNpc1jwS"
      },
      "execution_count": 4,
      "outputs": []
    },
    {
      "cell_type": "markdown",
      "source": [
        "Transformer encoder implemented as a subclassed Layer"
      ],
      "metadata": {
        "id": "aa4EVWPp3Mzp"
      }
    },
    {
      "cell_type": "code",
      "source": [
        "import tensorflow as tf\n",
        "from tensorflow import keras\n",
        "from tensorflow.keras import layers\n",
        "\n",
        "class TransformerEncoder(layers.Layer):\n",
        "    def __init__(self, embed_dim, dense_dim, num_heads, **kwargs):\n",
        "        super().__init__(**kwargs)\n",
        "        self.embed_dim = embed_dim\n",
        "        self.dense_dim = dense_dim\n",
        "        self.num_heads = num_heads\n",
        "        self.attention = layers.MultiHeadAttention(\n",
        "            num_heads=num_heads, key_dim=embed_dim)\n",
        "        self.dense_proj = keras.Sequential(\n",
        "            [layers.Dense(dense_dim, activation=\"relu\"),\n",
        "             layers.Dense(embed_dim),]\n",
        "        )\n",
        "        self.layernorm_1 = layers.LayerNormalization()\n",
        "        self.layernorm_2 = layers.LayerNormalization()\n",
        "\n",
        "    def call(self, inputs, mask=None):\n",
        "        if mask is not None:\n",
        "            mask = mask[:, tf.newaxis, :]\n",
        "        attention_output = self.attention(\n",
        "            inputs, inputs, attention_mask=mask)\n",
        "        proj_input = self.layernorm_1(inputs + attention_output)\n",
        "        proj_output = self.dense_proj(proj_input)\n",
        "        return self.layernorm_2(proj_input + proj_output)\n",
        "\n",
        "    def get_config(self):\n",
        "        config = super().get_config()\n",
        "        config.update({\n",
        "            \"embed_dim\": self.embed_dim,\n",
        "            \"num_heads\": self.num_heads,\n",
        "            \"dense_dim\": self.dense_dim,\n",
        "        })\n",
        "        return config"
      ],
      "metadata": {
        "id": "g8zfvQwf3NG3"
      },
      "execution_count": 5,
      "outputs": []
    },
    {
      "cell_type": "markdown",
      "source": [
        "Using the Transformer encoder for text classification"
      ],
      "metadata": {
        "id": "Fo5qQySo3W3F"
      }
    },
    {
      "cell_type": "code",
      "source": [
        "vocab_size = 10000\n",
        "embed_dim = 256\n",
        "num_heads = 2\n",
        "dense_dim = 32\n",
        "\n",
        "inputs = keras.Input(shape=(None,), dtype=\"int64\")\n",
        "x = layers.Embedding(vocab_size, embed_dim)(inputs)\n",
        "x = TransformerEncoder(embed_dim, dense_dim, num_heads)(x)\n",
        "x = layers.GlobalMaxPooling1D()(x)\n",
        "x = layers.Dropout(0.5)(x)\n",
        "outputs = layers.Dense(1, activation=\"sigmoid\")(x)\n",
        "model = keras.Model(inputs, outputs)\n",
        "model.compile(optimizer=\"rmsprop\",\n",
        "              loss=\"binary_crossentropy\",\n",
        "              metrics=[\"accuracy\"])\n",
        "model.summary()"
      ],
      "metadata": {
        "colab": {
          "base_uri": "https://localhost:8080/"
        },
        "id": "OdjqxZGg3bL6",
        "outputId": "5d87c0b5-e0f2-4891-ebc4-d3f68d5a8a6f"
      },
      "execution_count": 6,
      "outputs": [
        {
          "output_type": "stream",
          "name": "stdout",
          "text": [
            "Model: \"model\"\n",
            "_________________________________________________________________\n",
            " Layer (type)                Output Shape              Param #   \n",
            "=================================================================\n",
            " input_1 (InputLayer)        [(None, None)]            0         \n",
            "                                                                 \n",
            " embedding (Embedding)       (None, None, 256)         2560000   \n",
            "                                                                 \n",
            " transformer_encoder (Transf  (None, None, 256)        543776    \n",
            " ormerEncoder)                                                   \n",
            "                                                                 \n",
            " global_max_pooling1d (Globa  (None, 256)              0         \n",
            " lMaxPooling1D)                                                  \n",
            "                                                                 \n",
            " dropout (Dropout)           (None, 256)               0         \n",
            "                                                                 \n",
            " dense_2 (Dense)             (None, 1)                 257       \n",
            "                                                                 \n",
            "=================================================================\n",
            "Total params: 3,104,033\n",
            "Trainable params: 3,104,033\n",
            "Non-trainable params: 0\n",
            "_________________________________________________________________\n"
          ]
        }
      ]
    },
    {
      "cell_type": "code",
      "source": [
        "callbacks = [\n",
        "    keras.callbacks.ModelCheckpoint(\"transformer_encoder.keras\",\n",
        "                                    save_best_only=True)\n",
        "]\n",
        "model.fit(int_train_ds, validation_data=int_val_ds, epochs=10, callbacks=callbacks)\n",
        "model = keras.models.load_model(\n",
        "    \"transformer_encoder.keras\",\n",
        "    custom_objects={\"TransformerEncoder\": TransformerEncoder})\n",
        "print(f\"Test acc: {model.evaluate(int_test_ds)[1]:.3f}\")"
      ],
      "metadata": {
        "colab": {
          "base_uri": "https://localhost:8080/"
        },
        "id": "W2kcwcF13y0I",
        "outputId": "51fc0cd5-5d90-4c64-cff0-f93433e78e79"
      },
      "execution_count": 7,
      "outputs": [
        {
          "output_type": "stream",
          "name": "stdout",
          "text": [
            "Epoch 1/10\n",
            "100/100 [==============================] - 26s 171ms/step - loss: 0.8423 - accuracy: 0.5716 - val_loss: 0.5522 - val_accuracy: 0.6998\n",
            "Epoch 2/10\n",
            "100/100 [==============================] - 11s 104ms/step - loss: 0.5106 - accuracy: 0.7631 - val_loss: 0.4375 - val_accuracy: 0.7966\n",
            "Epoch 3/10\n",
            "100/100 [==============================] - 9s 91ms/step - loss: 0.4003 - accuracy: 0.8216 - val_loss: 0.4356 - val_accuracy: 0.7970\n",
            "Epoch 4/10\n",
            "100/100 [==============================] - 6s 58ms/step - loss: 0.3133 - accuracy: 0.8741 - val_loss: 0.4270 - val_accuracy: 0.8110\n",
            "Epoch 5/10\n",
            "100/100 [==============================] - 7s 70ms/step - loss: 0.2625 - accuracy: 0.8950 - val_loss: 0.4294 - val_accuracy: 0.8128\n",
            "Epoch 6/10\n",
            "100/100 [==============================] - 4s 43ms/step - loss: 0.1867 - accuracy: 0.9275 - val_loss: 0.4788 - val_accuracy: 0.8040\n",
            "Epoch 7/10\n",
            "100/100 [==============================] - 6s 58ms/step - loss: 0.1317 - accuracy: 0.9538 - val_loss: 0.5002 - val_accuracy: 0.8072\n",
            "Epoch 8/10\n",
            "100/100 [==============================] - 4s 43ms/step - loss: 0.1024 - accuracy: 0.9641 - val_loss: 0.5479 - val_accuracy: 0.8068\n",
            "Epoch 9/10\n",
            "100/100 [==============================] - 5s 52ms/step - loss: 0.0668 - accuracy: 0.9750 - val_loss: 0.6323 - val_accuracy: 0.8054\n",
            "Epoch 10/10\n",
            "100/100 [==============================] - 4s 34ms/step - loss: 0.0459 - accuracy: 0.9844 - val_loss: 1.0196 - val_accuracy: 0.7676\n",
            "782/782 [==============================] - 12s 15ms/step - loss: 0.4095 - accuracy: 0.8134\n",
            "Test acc: 0.813\n"
          ]
        }
      ]
    },
    {
      "cell_type": "markdown",
      "source": [
        "Using positional encoding to re-inject order information\n",
        "Implementing positional embedding as a subclassed layer"
      ],
      "metadata": {
        "id": "ZxEbzYci-oB2"
      }
    },
    {
      "cell_type": "code",
      "source": [
        "class PositionalEmbedding(layers.Layer):\n",
        "    def __init__(self, sequence_length, input_dim, output_dim, **kwargs):\n",
        "        super().__init__(**kwargs)\n",
        "        self.token_embeddings = layers.Embedding(\n",
        "            input_dim=input_dim, output_dim=output_dim)\n",
        "        self.position_embeddings = layers.Embedding(\n",
        "            input_dim=sequence_length, output_dim=output_dim)\n",
        "        self.sequence_length = sequence_length\n",
        "        self.input_dim = input_dim\n",
        "        self.output_dim = output_dim\n",
        "\n",
        "    def call(self, inputs):\n",
        "        length = tf.shape(inputs)[-1]\n",
        "        positions = tf.range(start=0, limit=length, delta=1)\n",
        "        embedded_tokens = self.token_embeddings(inputs)\n",
        "        embedded_positions = self.position_embeddings(positions)\n",
        "        return embedded_tokens + embedded_positions\n",
        "\n",
        "    def compute_mask(self, inputs, mask=None):\n",
        "        return tf.math.not_equal(inputs, 0)\n",
        "\n",
        "    def get_config(self):\n",
        "        config = super().get_config()\n",
        "        config.update({\n",
        "            \"output_dim\": self.output_dim,\n",
        "            \"sequence_length\": self.sequence_length,\n",
        "            \"input_dim\": self.input_dim,\n",
        "        })\n",
        "        return config"
      ],
      "metadata": {
        "id": "WAIRzI6O-ogG"
      },
      "execution_count": 8,
      "outputs": []
    },
    {
      "cell_type": "markdown",
      "source": [
        "Putting it all together: A text-classification Transformer\n",
        "Combining the Transformer encoder with positional embedding"
      ],
      "metadata": {
        "id": "M7EVvXEv-zwW"
      }
    },
    {
      "cell_type": "code",
      "source": [
        "vocab_size = 10000\n",
        "sequence_length = 150\n",
        "embed_dim = 256\n",
        "num_heads = 2\n",
        "dense_dim = 32\n",
        "\n",
        "inputs = keras.Input(shape=(None,), dtype=\"int64\")\n",
        "x = PositionalEmbedding(sequence_length, vocab_size, embed_dim)(inputs)\n",
        "x = TransformerEncoder(embed_dim, dense_dim, num_heads)(x)\n",
        "x = layers.GlobalMaxPooling1D()(x)\n",
        "x = layers.Dropout(0.5)(x)\n",
        "outputs = layers.Dense(1, activation=\"sigmoid\")(x)\n",
        "model = keras.Model(inputs, outputs)\n",
        "model.compile(optimizer=\"rmsprop\",\n",
        "              loss=\"binary_crossentropy\",\n",
        "              metrics=[\"accuracy\"])\n",
        "model.summary()\n",
        "\n",
        "callbacks = [\n",
        "    keras.callbacks.ModelCheckpoint(\"full_transformer_encoder.keras\",\n",
        "                                    save_best_only=True)\n",
        "]\n",
        "model.fit(int_train_ds, validation_data=int_val_ds, epochs=10, callbacks=callbacks)\n",
        "model = keras.models.load_model(\n",
        "    \"full_transformer_encoder.keras\",\n",
        "    custom_objects={\"TransformerEncoder\": TransformerEncoder,\n",
        "                    \"PositionalEmbedding\": PositionalEmbedding})\n",
        "print(f\"Test acc: {model.evaluate(int_test_ds)[1]:.3f}\")"
      ],
      "metadata": {
        "colab": {
          "base_uri": "https://localhost:8080/"
        },
        "id": "6LoPpCxd_As9",
        "outputId": "65af4bd3-f668-42cd-8a8f-71c176cc83dc"
      },
      "execution_count": 58,
      "outputs": [
        {
          "output_type": "stream",
          "name": "stdout",
          "text": [
            "Model: \"model_19\"\n",
            "_________________________________________________________________\n",
            " Layer (type)                Output Shape              Param #   \n",
            "=================================================================\n",
            " input_20 (InputLayer)       [(None, None)]            0         \n",
            "                                                                 \n",
            " positional_embedding_1 (Pos  (None, None, 256)        2598400   \n",
            " itionalEmbedding)                                               \n",
            "                                                                 \n",
            " transformer_encoder_2 (Tran  (None, None, 256)        543776    \n",
            " sformerEncoder)                                                 \n",
            "                                                                 \n",
            " global_max_pooling1d_2 (Glo  (None, 256)              0         \n",
            " balMaxPooling1D)                                                \n",
            "                                                                 \n",
            " dropout_19 (Dropout)        (None, 256)               0         \n",
            "                                                                 \n",
            " dense_29 (Dense)            (None, 1)                 257       \n",
            "                                                                 \n",
            "=================================================================\n",
            "Total params: 3,142,433\n",
            "Trainable params: 3,142,433\n",
            "Non-trainable params: 0\n",
            "_________________________________________________________________\n",
            "Epoch 1/10\n",
            "625/625 [==============================] - 40s 57ms/step - loss: 0.5856 - accuracy: 0.7040 - val_loss: 0.3832 - val_accuracy: 0.8308\n",
            "Epoch 2/10\n",
            "625/625 [==============================] - 14s 22ms/step - loss: 0.3692 - accuracy: 0.8374 - val_loss: 0.3666 - val_accuracy: 0.8464\n",
            "Epoch 3/10\n",
            "625/625 [==============================] - 13s 21ms/step - loss: 0.3047 - accuracy: 0.8692 - val_loss: 0.3528 - val_accuracy: 0.8494\n",
            "Epoch 4/10\n",
            "625/625 [==============================] - 13s 20ms/step - loss: 0.2654 - accuracy: 0.8903 - val_loss: 0.3694 - val_accuracy: 0.8528\n",
            "Epoch 5/10\n",
            "625/625 [==============================] - 16s 25ms/step - loss: 0.2341 - accuracy: 0.9069 - val_loss: 0.4131 - val_accuracy: 0.8434\n",
            "Epoch 6/10\n",
            "625/625 [==============================] - 13s 20ms/step - loss: 0.2099 - accuracy: 0.9166 - val_loss: 0.3580 - val_accuracy: 0.8450\n",
            "Epoch 7/10\n",
            "625/625 [==============================] - 12s 20ms/step - loss: 0.1841 - accuracy: 0.9290 - val_loss: 0.4052 - val_accuracy: 0.8436\n",
            "Epoch 8/10\n",
            "625/625 [==============================] - 12s 19ms/step - loss: 0.1565 - accuracy: 0.9429 - val_loss: 0.4270 - val_accuracy: 0.8412\n",
            "Epoch 9/10\n",
            "625/625 [==============================] - 12s 19ms/step - loss: 0.1280 - accuracy: 0.9535 - val_loss: 0.5259 - val_accuracy: 0.8352\n",
            "Epoch 10/10\n",
            "625/625 [==============================] - 12s 19ms/step - loss: 0.1037 - accuracy: 0.9627 - val_loss: 0.4858 - val_accuracy: 0.8368\n",
            "782/782 [==============================] - 6s 8ms/step - loss: 0.3622 - accuracy: 0.8386\n",
            "Test acc: 0.839\n"
          ]
        }
      ]
    },
    {
      "cell_type": "markdown",
      "source": [
        "**Considering  both a embedding layer, and a pretrained word embedding.**"
      ],
      "metadata": {
        "id": "l-zIzeBbL_Lt"
      }
    },
    {
      "cell_type": "markdown",
      "source": [
        "A sequence model built on one-hot encoded vector sequences"
      ],
      "metadata": {
        "id": "oSspN2xBJOGf"
      }
    },
    {
      "cell_type": "code",
      "source": [
        "import tensorflow as tf\n",
        "inputs = keras.Input(shape=(None,), dtype=\"int64\")\n",
        "embedded = tf.one_hot(inputs, depth=max_tokens)\n",
        "x = layers.Bidirectional(layers.LSTM(32))(embedded)\n",
        "x = layers.Dropout(0.5)(x)\n",
        "outputs = layers.Dense(1, activation=\"sigmoid\")(x)\n",
        "model = keras.Model(inputs, outputs)\n",
        "model.compile(optimizer=\"rmsprop\",\n",
        "              loss=\"binary_crossentropy\",\n",
        "              metrics=[\"accuracy\"])\n",
        "model.summary()"
      ],
      "metadata": {
        "colab": {
          "base_uri": "https://localhost:8080/"
        },
        "id": "6VlSGih_JLse",
        "outputId": "ec21cc9b-6a75-4ba8-f441-e6d8483ff733"
      },
      "execution_count": 10,
      "outputs": [
        {
          "output_type": "stream",
          "name": "stdout",
          "text": [
            "Model: \"model_2\"\n",
            "_________________________________________________________________\n",
            " Layer (type)                Output Shape              Param #   \n",
            "=================================================================\n",
            " input_3 (InputLayer)        [(None, None)]            0         \n",
            "                                                                 \n",
            " tf.one_hot (TFOpLambda)     (None, None, 10000)       0         \n",
            "                                                                 \n",
            " bidirectional (Bidirectiona  (None, 64)               2568448   \n",
            " l)                                                              \n",
            "                                                                 \n",
            " dropout_2 (Dropout)         (None, 64)                0         \n",
            "                                                                 \n",
            " dense_10 (Dense)            (None, 1)                 65        \n",
            "                                                                 \n",
            "=================================================================\n",
            "Total params: 2,568,513\n",
            "Trainable params: 2,568,513\n",
            "Non-trainable params: 0\n",
            "_________________________________________________________________\n"
          ]
        }
      ]
    },
    {
      "cell_type": "markdown",
      "source": [
        "Training a first basic sequence model"
      ],
      "metadata": {
        "id": "MaRtPVTMJ0lL"
      }
    },
    {
      "cell_type": "code",
      "source": [
        "callbacks = [\n",
        "    keras.callbacks.ModelCheckpoint(\"one_hot_bidir_lstm.keras\",\n",
        "                                    save_best_only=True)\n",
        "]\n",
        "model.fit(int_train_ds, validation_data=int_val_ds, epochs=10, callbacks=callbacks)\n",
        "model = keras.models.load_model(\"one_hot_bidir_lstm.keras\")\n",
        "print(f\"Test acc: {model.evaluate(int_test_ds)[1]:.3f}\")"
      ],
      "metadata": {
        "colab": {
          "base_uri": "https://localhost:8080/"
        },
        "id": "j9kp7o3WJL4O",
        "outputId": "19efaa03-2adb-4cd9-9748-b335bbec6f95"
      },
      "execution_count": 11,
      "outputs": [
        {
          "output_type": "stream",
          "name": "stdout",
          "text": [
            "Epoch 1/10\n",
            "100/100 [==============================] - 13s 78ms/step - loss: 0.6926 - accuracy: 0.5172 - val_loss: 0.6907 - val_accuracy: 0.5720\n",
            "Epoch 2/10\n",
            "100/100 [==============================] - 7s 73ms/step - loss: 0.6601 - accuracy: 0.6350 - val_loss: 0.6033 - val_accuracy: 0.7040\n",
            "Epoch 3/10\n",
            "100/100 [==============================] - 7s 70ms/step - loss: 0.5270 - accuracy: 0.7697 - val_loss: 0.5045 - val_accuracy: 0.7582\n",
            "Epoch 4/10\n",
            "100/100 [==============================] - 9s 92ms/step - loss: 0.4191 - accuracy: 0.8363 - val_loss: 0.4679 - val_accuracy: 0.7976\n",
            "Epoch 5/10\n",
            "100/100 [==============================] - 7s 71ms/step - loss: 0.3343 - accuracy: 0.8928 - val_loss: 0.5189 - val_accuracy: 0.7220\n",
            "Epoch 6/10\n",
            "100/100 [==============================] - 7s 68ms/step - loss: 0.2726 - accuracy: 0.9144 - val_loss: 0.4649 - val_accuracy: 0.8084\n",
            "Epoch 7/10\n",
            "100/100 [==============================] - 7s 69ms/step - loss: 0.2306 - accuracy: 0.9306 - val_loss: 0.6598 - val_accuracy: 0.7886\n",
            "Epoch 8/10\n",
            "100/100 [==============================] - 7s 67ms/step - loss: 0.1874 - accuracy: 0.9419 - val_loss: 0.6134 - val_accuracy: 0.8046\n",
            "Epoch 9/10\n",
            "100/100 [==============================] - 7s 69ms/step - loss: 0.1552 - accuracy: 0.9541 - val_loss: 0.5508 - val_accuracy: 0.8090\n",
            "Epoch 10/10\n",
            "100/100 [==============================] - 7s 67ms/step - loss: 0.1309 - accuracy: 0.9616 - val_loss: 0.4839 - val_accuracy: 0.8036\n",
            "782/782 [==============================] - 17s 21ms/step - loss: 0.4615 - accuracy: 0.8059\n",
            "Test acc: 0.806\n"
          ]
        }
      ]
    },
    {
      "cell_type": "markdown",
      "source": [
        "Understanding and Learning word embeddings with the Embedding layer"
      ],
      "metadata": {
        "id": "uP54Cc0WKB4l"
      }
    },
    {
      "cell_type": "code",
      "source": [
        "embedding_layer = layers.Embedding(input_dim=max_tokens, output_dim=256)"
      ],
      "metadata": {
        "id": "JtvBVOARJMCt"
      },
      "execution_count": 12,
      "outputs": []
    },
    {
      "cell_type": "markdown",
      "source": [
        "Model that uses an Embedding layer trained from scratch"
      ],
      "metadata": {
        "id": "1usk7TifKfuR"
      }
    },
    {
      "cell_type": "code",
      "source": [
        "inputs = keras.Input(shape=(None,), dtype=\"int64\")\n",
        "embedded = layers.Embedding(input_dim=max_tokens, output_dim=256)(inputs)\n",
        "x = layers.Bidirectional(layers.LSTM(32))(embedded)\n",
        "x = layers.Dropout(0.5)(x)\n",
        "outputs = layers.Dense(1, activation=\"sigmoid\")(x)\n",
        "model = keras.Model(inputs, outputs)\n",
        "model.compile(optimizer=\"rmsprop\",\n",
        "              loss=\"binary_crossentropy\",\n",
        "              metrics=[\"accuracy\"])\n",
        "model.summary()\n",
        "\n",
        "callbacks = [\n",
        "    keras.callbacks.ModelCheckpoint(\"embeddings_bidir_gru.keras\",\n",
        "                                    save_best_only=True)\n",
        "]\n",
        "history=model.fit(int_train_ds, validation_data=int_val_ds, epochs=10, callbacks=callbacks)\n",
        "model = keras.models.load_model(\"embeddings_bidir_gru.keras\")\n",
        "print(f\"Test acc: {model.evaluate(int_test_ds)[1]:.3f}\")"
      ],
      "metadata": {
        "colab": {
          "base_uri": "https://localhost:8080/"
        },
        "id": "nUZgP400JMJ1",
        "outputId": "f80e87c1-3960-4468-c4b9-e4ba12a90482"
      },
      "execution_count": 33,
      "outputs": [
        {
          "output_type": "stream",
          "name": "stdout",
          "text": [
            "Model: \"model_11\"\n",
            "_________________________________________________________________\n",
            " Layer (type)                Output Shape              Param #   \n",
            "=================================================================\n",
            " input_12 (InputLayer)       [(None, None)]            0         \n",
            "                                                                 \n",
            " embedding_9705 (Embedding)  (None, None, 256)         2560000   \n",
            "                                                                 \n",
            " bidirectional_9 (Bidirectio  (None, 64)               73984     \n",
            " nal)                                                            \n",
            "                                                                 \n",
            " dropout_11 (Dropout)        (None, 64)                0         \n",
            "                                                                 \n",
            " dense_19 (Dense)            (None, 1)                 65        \n",
            "                                                                 \n",
            "=================================================================\n",
            "Total params: 2,634,049\n",
            "Trainable params: 2,634,049\n",
            "Non-trainable params: 0\n",
            "_________________________________________________________________\n",
            "Epoch 1/10\n",
            "380/380 [==============================] - 35s 79ms/step - loss: 0.5840 - accuracy: 0.6814 - val_loss: 0.4504 - val_accuracy: 0.7912\n",
            "Epoch 2/10\n",
            "380/380 [==============================] - 14s 36ms/step - loss: 0.3851 - accuracy: 0.8384 - val_loss: 0.3850 - val_accuracy: 0.8270\n",
            "Epoch 3/10\n",
            "380/380 [==============================] - 10s 27ms/step - loss: 0.3046 - accuracy: 0.8811 - val_loss: 0.3838 - val_accuracy: 0.8294\n",
            "Epoch 4/10\n",
            "380/380 [==============================] - 11s 28ms/step - loss: 0.2540 - accuracy: 0.9032 - val_loss: 0.4105 - val_accuracy: 0.8180\n",
            "Epoch 5/10\n",
            "380/380 [==============================] - 9s 23ms/step - loss: 0.2092 - accuracy: 0.9243 - val_loss: 0.4442 - val_accuracy: 0.8352\n",
            "Epoch 6/10\n",
            "380/380 [==============================] - 8s 22ms/step - loss: 0.1735 - accuracy: 0.9408 - val_loss: 0.5152 - val_accuracy: 0.8182\n",
            "Epoch 7/10\n",
            "380/380 [==============================] - 10s 25ms/step - loss: 0.1488 - accuracy: 0.9487 - val_loss: 0.4724 - val_accuracy: 0.8126\n",
            "Epoch 8/10\n",
            "380/380 [==============================] - 7s 19ms/step - loss: 0.1227 - accuracy: 0.9612 - val_loss: 0.5834 - val_accuracy: 0.8312\n",
            "Epoch 9/10\n",
            "380/380 [==============================] - 9s 23ms/step - loss: 0.1065 - accuracy: 0.9658 - val_loss: 0.5414 - val_accuracy: 0.8286\n",
            "Epoch 10/10\n",
            "380/380 [==============================] - 7s 19ms/step - loss: 0.0834 - accuracy: 0.9749 - val_loss: 0.5986 - val_accuracy: 0.7998\n",
            "782/782 [==============================] - 7s 8ms/step - loss: 0.3985 - accuracy: 0.8163\n",
            "Test acc: 0.816\n"
          ]
        }
      ]
    },
    {
      "cell_type": "code",
      "source": [
        "accuracy = history.history['accuracy']\n",
        "val_accuracy = history.history['val_accuracy']\n",
        "\n",
        "loss = history.history[\"loss\"]\n",
        "val_loss = history.history[\"val_loss\"]\n",
        "\n",
        "epochs = range(1, len(accuracy) + 1)\n",
        "\n",
        "# Plotting accuracy\n",
        "plt.figure(figsize=(12, 4))\n",
        "plt.subplot(1, 2, 1)\n",
        "plt.plot(epochs, accuracy, label=\"Training Accuracy\")\n",
        "plt.plot(epochs, val_accuracy, label=\"Validation Accuracy\")\n",
        "plt.title(\"Training and Validation Accuracy\")\n",
        "plt.xlabel(\"Epochs\")\n",
        "plt.ylabel(\"Accuracy\")\n",
        "plt.legend()\n",
        "\n"
      ],
      "metadata": {
        "colab": {
          "base_uri": "https://localhost:8080/",
          "height": 427
        },
        "id": "mQ3J74Mx0uO_",
        "outputId": "af8fd91f-3643-4b8f-d9c3-3d3b80d3929a"
      },
      "execution_count": 35,
      "outputs": [
        {
          "output_type": "execute_result",
          "data": {
            "text/plain": [
              "<matplotlib.legend.Legend at 0x7d8f605bf730>"
            ]
          },
          "metadata": {},
          "execution_count": 35
        },
        {
          "output_type": "display_data",
          "data": {
            "text/plain": [
              "<Figure size 1200x400 with 1 Axes>"
            ],
            "image/png": "[encoded data removed]"
          },
          "metadata": {}
        }
      ]
    },
    {
      "cell_type": "markdown",
      "source": [
        "Understanding padding and masking\n",
        "Using an Embedding layer with masking enabled"
      ],
      "metadata": {
        "id": "FAGJ6_XgK1Zt"
      }
    },
    {
      "cell_type": "code",
      "source": [
        "inputs = keras.Input(shape=(None,), dtype=\"int64\")\n",
        "embedded = layers.Embedding(\n",
        "    input_dim=max_tokens, output_dim=256, mask_zero=True)(inputs)\n",
        "x = layers.Bidirectional(layers.LSTM(32))(embedded)\n",
        "x = layers.Dropout(0.5)(x)\n",
        "outputs = layers.Dense(1, activation=\"sigmoid\")(x)\n",
        "model = keras.Model(inputs, outputs)\n",
        "model.compile(optimizer=\"rmsprop\",\n",
        "              loss=\"binary_crossentropy\",\n",
        "              metrics=[\"accuracy\"])\n",
        "model.summary()\n",
        "\n",
        "callbacks = [\n",
        "    keras.callbacks.ModelCheckpoint(\"embeddings_bidir_gru_with_masking.keras\",\n",
        "                                    save_best_only=True)\n",
        "]\n",
        "model_1 =model.fit(int_train_ds, validation_data=int_val_ds, epochs=10, callbacks=callbacks)\n",
        "model = keras.models.load_model(\"embeddings_bidir_gru_with_masking.keras\")\n",
        "print(f\"Test acc: {model.evaluate(int_test_ds)[1]:.3f}\")"
      ],
      "metadata": {
        "colab": {
          "base_uri": "https://localhost:8080/"
        },
        "id": "qaXcZ15yJMQr",
        "outputId": "67a9a2d0-a62e-4420-f6d2-50c9307ea32e"
      },
      "execution_count": 43,
      "outputs": [
        {
          "output_type": "stream",
          "name": "stdout",
          "text": [
            "Model: \"model_14\"\n",
            "_________________________________________________________________\n",
            " Layer (type)                Output Shape              Param #   \n",
            "=================================================================\n",
            " input_15 (InputLayer)       [(None, None)]            0         \n",
            "                                                                 \n",
            " embedding_9708 (Embedding)  (None, None, 256)         2560000   \n",
            "                                                                 \n",
            " bidirectional_12 (Bidirecti  (None, 64)               73984     \n",
            " onal)                                                           \n",
            "                                                                 \n",
            " dropout_14 (Dropout)        (None, 64)                0         \n",
            "                                                                 \n",
            " dense_22 (Dense)            (None, 1)                 65        \n",
            "                                                                 \n",
            "=================================================================\n",
            "Total params: 2,634,049\n",
            "Trainable params: 2,634,049\n",
            "Non-trainable params: 0\n",
            "_________________________________________________________________\n",
            "Epoch 1/10\n",
            "200/200 [==============================] - 39s 132ms/step - loss: 0.6330 - accuracy: 0.6353 - val_loss: 0.4786 - val_accuracy: 0.7776\n",
            "Epoch 2/10\n",
            "200/200 [==============================] - 14s 72ms/step - loss: 0.4236 - accuracy: 0.8158 - val_loss: 0.4116 - val_accuracy: 0.8272\n",
            "Epoch 3/10\n",
            "200/200 [==============================] - 10s 50ms/step - loss: 0.3123 - accuracy: 0.8747 - val_loss: 0.4481 - val_accuracy: 0.7948\n",
            "Epoch 4/10\n",
            "200/200 [==============================] - 10s 48ms/step - loss: 0.2289 - accuracy: 0.9170 - val_loss: 0.4204 - val_accuracy: 0.8346\n",
            "Epoch 5/10\n",
            "200/200 [==============================] - 7s 34ms/step - loss: 0.1706 - accuracy: 0.9384 - val_loss: 0.4352 - val_accuracy: 0.8204\n",
            "Epoch 6/10\n",
            "200/200 [==============================] - 6s 31ms/step - loss: 0.1298 - accuracy: 0.9561 - val_loss: 0.5117 - val_accuracy: 0.8098\n",
            "Epoch 7/10\n",
            "200/200 [==============================] - 8s 37ms/step - loss: 0.0917 - accuracy: 0.9688 - val_loss: 0.5340 - val_accuracy: 0.8286\n",
            "Epoch 8/10\n",
            "200/200 [==============================] - 8s 37ms/step - loss: 0.0716 - accuracy: 0.9777 - val_loss: 0.5427 - val_accuracy: 0.8072\n",
            "Epoch 9/10\n",
            "200/200 [==============================] - 6s 29ms/step - loss: 0.0471 - accuracy: 0.9850 - val_loss: 0.7180 - val_accuracy: 0.7968\n",
            "Epoch 10/10\n",
            "200/200 [==============================] - 7s 37ms/step - loss: 0.0405 - accuracy: 0.9870 - val_loss: 0.8473 - val_accuracy: 0.7740\n",
            "782/782 [==============================] - 11s 10ms/step - loss: 0.4154 - accuracy: 0.8146\n",
            "Test acc: 0.815\n"
          ]
        }
      ]
    },
    {
      "cell_type": "code",
      "source": [
        "accuracy = model_1.history['accuracy']\n",
        "val_accuracy = model_1.history['val_accuracy']\n",
        "\n",
        "loss = model_1.history[\"loss\"]\n",
        "val_loss = model_1.history[\"val_loss\"]\n",
        "\n",
        "epochs = range(1, len(accuracy) + 1)\n",
        "\n",
        "# Plotting accuracy\n",
        "plt.figure(figsize=(12, 4))\n",
        "plt.subplot(1, 2, 1)\n",
        "plt.plot(epochs, accuracy, label=\"Training Accuracy\")\n",
        "plt.plot(epochs, val_accuracy, label=\"Validation Accuracy\")\n",
        "plt.title(\"Training and Validation Accuracy for model with masking enabled\")\n",
        "plt.xlabel(\"Epochs\")\n",
        "plt.ylabel(\"Accuracy\")\n",
        "plt.legend()"
      ],
      "metadata": {
        "colab": {
          "base_uri": "https://localhost:8080/",
          "height": 427
        },
        "id": "Ut6WuNdy1yvQ",
        "outputId": "891b8ef4-0745-4aef-db8d-a072739596f2"
      },
      "execution_count": 44,
      "outputs": [
        {
          "output_type": "execute_result",
          "data": {
            "text/plain": [
              "<matplotlib.legend.Legend at 0x7d8f70330a30>"
            ]
          },
          "metadata": {},
          "execution_count": 44
        },
        {
          "output_type": "display_data",
          "data": {
            "text/plain": [
              "<Figure size 1200x400 with 1 Axes>"
            ],
            "image/png": "[encoded data removed]"
          },
          "metadata": {}
        }
      ]
    },
    {
      "cell_type": "markdown",
      "source": [
        "Changing the number of training samples to  200 to see the performance of embedding layer built from scratch."
      ],
      "metadata": {
        "id": "pxlWktjcMPTI"
      }
    },
    {
      "cell_type": "code",
      "source": [
        "from tensorflow.keras import layers\n",
        "\n",
        "max_length = 150\n",
        "max_tokens = 10000\n",
        "text_vectorization = layers.TextVectorization(\n",
        "    max_tokens=max_tokens,\n",
        "    output_mode=\"int\",\n",
        "    output_sequence_length=max_length,\n",
        ")\n",
        "text_vectorization.adapt(text_only_train_ds)\n",
        "\n",
        "int_train_ds = train_ds.map(\n",
        "    lambda x, y: (text_vectorization(x), y),\n",
        "    num_parallel_calls=4).take(200)\n",
        "int_val_ds = val_ds.map(\n",
        "    lambda x, y: (text_vectorization(x), y),\n",
        "    num_parallel_calls=4).take(10000)\n",
        "int_test_ds = test_ds.map(\n",
        "    lambda x, y: (text_vectorization(x), y),\n",
        "    num_parallel_calls=4)"
      ],
      "metadata": {
        "id": "L-1BPDlrMZWg"
      },
      "execution_count": 39,
      "outputs": []
    },
    {
      "cell_type": "code",
      "source": [
        "inputs = keras.Input(shape=(None,), dtype=\"int64\")\n",
        "embedded = layers.Embedding(input_dim=max_tokens, output_dim=256)(inputs)\n",
        "x = layers.Bidirectional(layers.LSTM(32))(embedded)\n",
        "x = layers.Dropout(0.5)(x)\n",
        "outputs = layers.Dense(1, activation=\"sigmoid\")(x)\n",
        "model = keras.Model(inputs, outputs)\n",
        "model.compile(optimizer=\"rmsprop\",\n",
        "              loss=\"binary_crossentropy\",\n",
        "              metrics=[\"accuracy\"])\n",
        "model.summary()\n",
        "\n",
        "callbacks = [\n",
        "    keras.callbacks.ModelCheckpoint(\"embeddings_bidir_gru with increased train samples.keras\",\n",
        "                                    save_best_only=True)\n",
        "]\n",
        "model_2= model.fit(int_train_ds, validation_data=int_val_ds, epochs=10, callbacks=callbacks)\n",
        "model = keras.models.load_model(\"embeddings_bidir_gru with increased train samples.keras\")\n",
        "print(f\"Test acc: {model.evaluate(int_test_ds)[1]:.3f}\")"
      ],
      "metadata": {
        "colab": {
          "base_uri": "https://localhost:8080/"
        },
        "id": "KF8bD4snM89s",
        "outputId": "6acb5c5f-5a3e-4077-9618-4a81b13b17a3"
      },
      "execution_count": 40,
      "outputs": [
        {
          "output_type": "stream",
          "name": "stdout",
          "text": [
            "Model: \"model_13\"\n",
            "_________________________________________________________________\n",
            " Layer (type)                Output Shape              Param #   \n",
            "=================================================================\n",
            " input_14 (InputLayer)       [(None, None)]            0         \n",
            "                                                                 \n",
            " embedding_9707 (Embedding)  (None, None, 256)         2560000   \n",
            "                                                                 \n",
            " bidirectional_11 (Bidirecti  (None, 64)               73984     \n",
            " onal)                                                           \n",
            "                                                                 \n",
            " dropout_13 (Dropout)        (None, 64)                0         \n",
            "                                                                 \n",
            " dense_21 (Dense)            (None, 1)                 65        \n",
            "                                                                 \n",
            "=================================================================\n",
            "Total params: 2,634,049\n",
            "Trainable params: 2,634,049\n",
            "Non-trainable params: 0\n",
            "_________________________________________________________________\n",
            "Epoch 1/10\n",
            "200/200 [==============================] - 26s 110ms/step - loss: 0.6486 - accuracy: 0.6061 - val_loss: 0.5736 - val_accuracy: 0.7108\n",
            "Epoch 2/10\n",
            "200/200 [==============================] - 12s 57ms/step - loss: 0.4641 - accuracy: 0.7948 - val_loss: 0.4574 - val_accuracy: 0.7976\n",
            "Epoch 3/10\n",
            "200/200 [==============================] - 8s 40ms/step - loss: 0.3362 - accuracy: 0.8708 - val_loss: 0.4720 - val_accuracy: 0.7802\n",
            "Epoch 4/10\n",
            "200/200 [==============================] - 10s 49ms/step - loss: 0.2591 - accuracy: 0.9033 - val_loss: 0.4418 - val_accuracy: 0.8120\n",
            "Epoch 5/10\n",
            "200/200 [==============================] - 6s 30ms/step - loss: 0.1948 - accuracy: 0.9314 - val_loss: 0.5116 - val_accuracy: 0.7944\n",
            "Epoch 6/10\n",
            "200/200 [==============================] - 7s 37ms/step - loss: 0.1468 - accuracy: 0.9514 - val_loss: 0.7038 - val_accuracy: 0.7376\n",
            "Epoch 7/10\n",
            "200/200 [==============================] - 8s 40ms/step - loss: 0.1312 - accuracy: 0.9555 - val_loss: 0.5160 - val_accuracy: 0.8088\n",
            "Epoch 8/10\n",
            "200/200 [==============================] - 6s 28ms/step - loss: 0.0971 - accuracy: 0.9678 - val_loss: 0.5275 - val_accuracy: 0.8054\n",
            "Epoch 9/10\n",
            "200/200 [==============================] - 7s 34ms/step - loss: 0.0756 - accuracy: 0.9775 - val_loss: 0.5900 - val_accuracy: 0.7896\n",
            "Epoch 10/10\n",
            "200/200 [==============================] - 5s 27ms/step - loss: 0.0527 - accuracy: 0.9845 - val_loss: 0.6506 - val_accuracy: 0.8004\n",
            "782/782 [==============================] - 7s 8ms/step - loss: 0.4536 - accuracy: 0.8010\n",
            "Test acc: 0.801\n"
          ]
        }
      ]
    },
    {
      "cell_type": "code",
      "source": [
        "accuracy = model_2.history['accuracy']\n",
        "val_accuracy = model_2.history['val_accuracy']\n",
        "\n",
        "loss = model_2.history[\"loss\"]\n",
        "val_loss = model_2.history[\"val_loss\"]\n",
        "\n",
        "epochs = range(1, len(accuracy) + 1)\n",
        "\n",
        "# Plotting accuracy\n",
        "plt.figure(figsize=(12, 4))\n",
        "plt.subplot(1, 2, 1)\n",
        "plt.plot(epochs, accuracy, label=\"Training Accuracy\")\n",
        "plt.plot(epochs, val_accuracy, label=\"Validation Accuracy\")\n",
        "plt.title(\"Training and Validation Accuracy for model with training samples 200\")\n",
        "plt.xlabel(\"Epochs\")\n",
        "plt.ylabel(\"Accuracy\")\n",
        "plt.legend()"
      ],
      "metadata": {
        "colab": {
          "base_uri": "https://localhost:8080/",
          "height": 427
        },
        "id": "4Msm10wt3TB3",
        "outputId": "ee6eb100-c996-4e4a-bd2a-2c608d71c59b"
      },
      "execution_count": 45,
      "outputs": [
        {
          "output_type": "execute_result",
          "data": {
            "text/plain": [
              "<matplotlib.legend.Legend at 0x7d8f70330370>"
            ]
          },
          "metadata": {},
          "execution_count": 45
        },
        {
          "output_type": "display_data",
          "data": {
            "text/plain": [
              "<Figure size 1200x400 with 1 Axes>"
            ],
            "image/png": "[encoded data removed]"
          },
          "metadata": {}
        }
      ]
    },
    {
      "cell_type": "markdown",
      "source": [
        "Changing the number of training samples to  350."
      ],
      "metadata": {
        "id": "nfDkqaiwNmPm"
      }
    },
    {
      "cell_type": "code",
      "source": [
        "from tensorflow.keras import layers\n",
        "\n",
        "max_length = 150\n",
        "max_tokens = 10000\n",
        "text_vectorization = layers.TextVectorization(\n",
        "    max_tokens=max_tokens,\n",
        "    output_mode=\"int\",\n",
        "    output_sequence_length=max_length,\n",
        ")\n",
        "text_vectorization.adapt(text_only_train_ds)\n",
        "\n",
        "int_train_ds = train_ds.map(\n",
        "    lambda x, y: (text_vectorization(x), y),\n",
        "    num_parallel_calls=4).take(1000)\n",
        "int_val_ds = val_ds.map(\n",
        "    lambda x, y: (text_vectorization(x), y),\n",
        "    num_parallel_calls=4).take(10000)\n",
        "int_test_ds = test_ds.map(\n",
        "    lambda x, y: (text_vectorization(x), y),\n",
        "    num_parallel_calls=4)"
      ],
      "metadata": {
        "id": "JE6Dul4gN5qE"
      },
      "execution_count": 46,
      "outputs": []
    },
    {
      "cell_type": "code",
      "source": [
        "inputs = keras.Input(shape=(None,), dtype=\"int64\")\n",
        "embedded = layers.Embedding(input_dim=max_tokens, output_dim=256)(inputs)\n",
        "x = layers.Bidirectional(layers.LSTM(32))(embedded)\n",
        "x = layers.Dropout(0.5)(x)\n",
        "outputs = layers.Dense(1, activation=\"sigmoid\")(x)\n",
        "model = keras.Model(inputs, outputs)\n",
        "model.compile(optimizer=\"rmsprop\",\n",
        "              loss=\"binary_crossentropy\",\n",
        "              metrics=[\"accuracy\"])\n",
        "model.summary()\n",
        "\n",
        "callbacks = [\n",
        "    keras.callbacks.ModelCheckpoint(\"embeddings_bidir_gru with increased training samples2.keras\",\n",
        "                                    save_best_only=True)\n",
        "]\n",
        "model_3=model.fit(int_train_ds, validation_data=int_val_ds, epochs=10, callbacks=callbacks)\n",
        "model = keras.models.load_model(\"embeddings_bidir_gru with increased training samples2.keras\")\n",
        "print(f\"Test acc: {model.evaluate(int_test_ds)[1]:.3f}\")"
      ],
      "metadata": {
        "colab": {
          "base_uri": "https://localhost:8080/"
        },
        "id": "Al1W1PSyN6Fy",
        "outputId": "2c61b2ce-f98e-46b8-8fba-a97e9446a51b"
      },
      "execution_count": 47,
      "outputs": [
        {
          "output_type": "stream",
          "name": "stdout",
          "text": [
            "Model: \"model_15\"\n",
            "_________________________________________________________________\n",
            " Layer (type)                Output Shape              Param #   \n",
            "=================================================================\n",
            " input_16 (InputLayer)       [(None, None)]            0         \n",
            "                                                                 \n",
            " embedding_9709 (Embedding)  (None, None, 256)         2560000   \n",
            "                                                                 \n",
            " bidirectional_13 (Bidirecti  (None, 64)               73984     \n",
            " onal)                                                           \n",
            "                                                                 \n",
            " dropout_15 (Dropout)        (None, 64)                0         \n",
            "                                                                 \n",
            " dense_23 (Dense)            (None, 1)                 65        \n",
            "                                                                 \n",
            "=================================================================\n",
            "Total params: 2,634,049\n",
            "Trainable params: 2,634,049\n",
            "Non-trainable params: 0\n",
            "_________________________________________________________________\n",
            "Epoch 1/10\n",
            "625/625 [==============================] - 41s 60ms/step - loss: 0.5154 - accuracy: 0.7396 - val_loss: 0.3980 - val_accuracy: 0.8274\n",
            "Epoch 2/10\n",
            "625/625 [==============================] - 14s 23ms/step - loss: 0.3533 - accuracy: 0.8580 - val_loss: 0.4541 - val_accuracy: 0.8046\n",
            "Epoch 3/10\n",
            "625/625 [==============================] - 15s 24ms/step - loss: 0.2930 - accuracy: 0.8869 - val_loss: 0.3686 - val_accuracy: 0.8458\n",
            "Epoch 4/10\n",
            "625/625 [==============================] - 17s 27ms/step - loss: 0.2482 - accuracy: 0.9068 - val_loss: 0.3866 - val_accuracy: 0.8496\n",
            "Epoch 5/10\n",
            "625/625 [==============================] - 12s 20ms/step - loss: 0.2166 - accuracy: 0.9201 - val_loss: 0.4674 - val_accuracy: 0.8428\n",
            "Epoch 6/10\n",
            "625/625 [==============================] - 15s 23ms/step - loss: 0.1838 - accuracy: 0.9340 - val_loss: 0.4875 - val_accuracy: 0.8312\n",
            "Epoch 7/10\n",
            "625/625 [==============================] - 15s 24ms/step - loss: 0.1544 - accuracy: 0.9465 - val_loss: 0.4817 - val_accuracy: 0.8414\n",
            "Epoch 8/10\n",
            "625/625 [==============================] - 12s 19ms/step - loss: 0.1264 - accuracy: 0.9590 - val_loss: 0.6292 - val_accuracy: 0.8328\n",
            "Epoch 9/10\n",
            "625/625 [==============================] - 13s 20ms/step - loss: 0.1030 - accuracy: 0.9654 - val_loss: 0.5917 - val_accuracy: 0.8200\n",
            "Epoch 10/10\n",
            "625/625 [==============================] - 12s 19ms/step - loss: 0.0869 - accuracy: 0.9721 - val_loss: 0.5626 - val_accuracy: 0.8236\n",
            "782/782 [==============================] - 7s 8ms/step - loss: 0.3798 - accuracy: 0.8357\n",
            "Test acc: 0.836\n"
          ]
        }
      ]
    },
    {
      "cell_type": "code",
      "source": [
        "accuracy = model_3.history['accuracy']\n",
        "val_accuracy = model_3.history['val_accuracy']\n",
        "\n",
        "loss = model_3.history[\"loss\"]\n",
        "val_loss = model_3.history[\"val_loss\"]\n",
        "\n",
        "epochs = range(1, len(accuracy) + 1)\n",
        "\n",
        "# Plotting accuracy\n",
        "plt.figure(figsize=(12, 4))\n",
        "plt.subplot(1, 2, 1)\n",
        "plt.plot(epochs, accuracy, label=\"Training Accuracy\")\n",
        "plt.plot(epochs, val_accuracy, label=\"Validation Accuracy\")\n",
        "plt.title(\"Training and Validation Accuracy for model with training samples 1000\")\n",
        "plt.xlabel(\"Epochs\")\n",
        "plt.ylabel(\"Accuracy\")\n",
        "plt.legend()"
      ],
      "metadata": {
        "colab": {
          "base_uri": "https://localhost:8080/",
          "height": 427
        },
        "id": "Zo1J9pgG6SNa",
        "outputId": "aa339897-bdc0-47a0-c12b-5dfa32be9a7d"
      },
      "execution_count": 48,
      "outputs": [
        {
          "output_type": "execute_result",
          "data": {
            "text/plain": [
              "<matplotlib.legend.Legend at 0x7d8f703cae90>"
            ]
          },
          "metadata": {},
          "execution_count": 48
        },
        {
          "output_type": "display_data",
          "data": {
            "text/plain": [
              "<Figure size 1200x400 with 1 Axes>"
            ],
            "image/png": "[encoded data removed]"
          },
          "metadata": {}
        }
      ]
    },
    {
      "cell_type": "code",
      "source": [
        "from tensorflow.keras import layers\n",
        "\n",
        "max_length = 150\n",
        "max_tokens = 10000\n",
        "text_vectorization = layers.TextVectorization(\n",
        "    max_tokens=max_tokens,\n",
        "    output_mode=\"int\",\n",
        "    output_sequence_length=max_length,\n",
        ")\n",
        "text_vectorization.adapt(text_only_train_ds)\n",
        "\n",
        "int_train_ds = train_ds.map(\n",
        "    lambda x, y: (text_vectorization(x), y),\n",
        "    num_parallel_calls=4).take(2000)\n",
        "int_val_ds = val_ds.map(\n",
        "    lambda x, y: (text_vectorization(x), y),\n",
        "    num_parallel_calls=4).take(10000)\n",
        "int_test_ds = test_ds.map(\n",
        "    lambda x, y: (text_vectorization(x), y),\n",
        "    num_parallel_calls=4)"
      ],
      "metadata": {
        "id": "CzYDwkj2oZS0"
      },
      "execution_count": 49,
      "outputs": []
    },
    {
      "cell_type": "code",
      "source": [
        "inputs = keras.Input(shape=(None,), dtype=\"int64\")\n",
        "embedded = layers.Embedding(input_dim=max_tokens, output_dim=256)(inputs)\n",
        "x = layers.Bidirectional(layers.LSTM(32))(embedded)\n",
        "x = layers.Dropout(0.5)(x)\n",
        "outputs = layers.Dense(1, activation=\"sigmoid\")(x)\n",
        "model = keras.Model(inputs, outputs)\n",
        "model.compile(optimizer=\"rmsprop\",\n",
        "              loss=\"binary_crossentropy\",\n",
        "              metrics=[\"accuracy\"])\n",
        "model.summary()\n",
        "\n",
        "callbacks = [\n",
        "    keras.callbacks.ModelCheckpoint(\"embeddings_bidir_gru with increased training samples3.keras\",\n",
        "                                    save_best_only=True)\n",
        "]\n",
        "model_4= model.fit(int_train_ds, validation_data=int_val_ds, epochs=10, callbacks=callbacks)\n",
        "model = keras.models.load_model(\"embeddings_bidir_gru with increased training samples3.keras\")\n",
        "print(f\"Test acc: {model.evaluate(int_test_ds)[1]:.3f}\")"
      ],
      "metadata": {
        "colab": {
          "base_uri": "https://localhost:8080/"
        },
        "id": "X3Z9Xm1YoY4o",
        "outputId": "c3ce3d7c-2bf3-4358-f718-3b92117565f3"
      },
      "execution_count": 50,
      "outputs": [
        {
          "output_type": "stream",
          "name": "stdout",
          "text": [
            "Model: \"model_16\"\n",
            "_________________________________________________________________\n",
            " Layer (type)                Output Shape              Param #   \n",
            "=================================================================\n",
            " input_17 (InputLayer)       [(None, None)]            0         \n",
            "                                                                 \n",
            " embedding_9710 (Embedding)  (None, None, 256)         2560000   \n",
            "                                                                 \n",
            " bidirectional_14 (Bidirecti  (None, 64)               73984     \n",
            " onal)                                                           \n",
            "                                                                 \n",
            " dropout_16 (Dropout)        (None, 64)                0         \n",
            "                                                                 \n",
            " dense_24 (Dense)            (None, 1)                 65        \n",
            "                                                                 \n",
            "=================================================================\n",
            "Total params: 2,634,049\n",
            "Trainable params: 2,634,049\n",
            "Non-trainable params: 0\n",
            "_________________________________________________________________\n",
            "Epoch 1/10\n",
            "625/625 [==============================] - 39s 56ms/step - loss: 0.5136 - accuracy: 0.7468 - val_loss: 0.4108 - val_accuracy: 0.8202\n",
            "Epoch 2/10\n",
            "625/625 [==============================] - 16s 26ms/step - loss: 0.3527 - accuracy: 0.8582 - val_loss: 0.3673 - val_accuracy: 0.8412\n",
            "Epoch 3/10\n",
            "625/625 [==============================] - 15s 23ms/step - loss: 0.2895 - accuracy: 0.8856 - val_loss: 0.3518 - val_accuracy: 0.8504\n",
            "Epoch 4/10\n",
            "625/625 [==============================] - 15s 24ms/step - loss: 0.2496 - accuracy: 0.9073 - val_loss: 0.3780 - val_accuracy: 0.8508\n",
            "Epoch 5/10\n",
            "625/625 [==============================] - 14s 23ms/step - loss: 0.2115 - accuracy: 0.9234 - val_loss: 0.4396 - val_accuracy: 0.8334\n",
            "Epoch 6/10\n",
            "625/625 [==============================] - 14s 22ms/step - loss: 0.1758 - accuracy: 0.9357 - val_loss: 0.4293 - val_accuracy: 0.8368\n",
            "Epoch 7/10\n",
            "625/625 [==============================] - 16s 26ms/step - loss: 0.1500 - accuracy: 0.9467 - val_loss: 0.4852 - val_accuracy: 0.8352\n",
            "Epoch 8/10\n",
            "625/625 [==============================] - 20s 33ms/step - loss: 0.1226 - accuracy: 0.9572 - val_loss: 0.5379 - val_accuracy: 0.8338\n",
            "Epoch 9/10\n",
            "625/625 [==============================] - 15s 24ms/step - loss: 0.1021 - accuracy: 0.9660 - val_loss: 0.5976 - val_accuracy: 0.8352\n",
            "Epoch 10/10\n",
            "625/625 [==============================] - 14s 22ms/step - loss: 0.0838 - accuracy: 0.9722 - val_loss: 0.6525 - val_accuracy: 0.8410\n",
            "782/782 [==============================] - 8s 9ms/step - loss: 0.3704 - accuracy: 0.8377\n",
            "Test acc: 0.838\n"
          ]
        }
      ]
    },
    {
      "cell_type": "code",
      "source": [
        "accuracy = model_4.history['accuracy']\n",
        "val_accuracy = model_4.history['val_accuracy']\n",
        "\n",
        "loss = model_4.history[\"loss\"]\n",
        "val_loss = model_4.history[\"val_loss\"]\n",
        "\n",
        "epochs = range(1, len(accuracy) + 1)\n",
        "\n",
        "# Plotting accuracy\n",
        "plt.figure(figsize=(12, 4))\n",
        "plt.subplot(1, 2, 1)\n",
        "plt.plot(epochs, accuracy, label=\"Training Accuracy\")\n",
        "plt.plot(epochs, val_accuracy, label=\"Validation Accuracy\")\n",
        "plt.title(\"Training and Validation Accuracy for model with training samples 2000\")\n",
        "plt.xlabel(\"Epochs\")\n",
        "plt.ylabel(\"Accuracy\")\n",
        "plt.legend()"
      ],
      "metadata": {
        "colab": {
          "base_uri": "https://localhost:8080/",
          "height": 427
        },
        "id": "nA8M_7Br6i7P",
        "outputId": "a9771a7b-6012-4338-f7dd-a0d45d40d2ed"
      },
      "execution_count": 51,
      "outputs": [
        {
          "output_type": "execute_result",
          "data": {
            "text/plain": [
              "<matplotlib.legend.Legend at 0x7d8f3038abf0>"
            ]
          },
          "metadata": {},
          "execution_count": 51
        },
        {
          "output_type": "display_data",
          "data": {
            "text/plain": [
              "<Figure size 1200x400 with 1 Axes>"
            ],
            "image/png": "[encoded data removed]"
          },
          "metadata": {}
        }
      ]
    },
    {
      "cell_type": "code",
      "source": [
        "from tensorflow.keras import layers\n",
        "\n",
        "max_length = 150\n",
        "max_tokens = 10000\n",
        "text_vectorization = layers.TextVectorization(\n",
        "    max_tokens=max_tokens,\n",
        "    output_mode=\"int\",\n",
        "    output_sequence_length=max_length,\n",
        ")\n",
        "text_vectorization.adapt(text_only_train_ds)\n",
        "\n",
        "int_train_ds = train_ds.map(\n",
        "    lambda x, y: (text_vectorization(x), y),\n",
        "    num_parallel_calls=4).take(5000)\n",
        "int_val_ds = val_ds.map(\n",
        "    lambda x, y: (text_vectorization(x), y),\n",
        "    num_parallel_calls=4).take(10000)\n",
        "int_test_ds = test_ds.map(\n",
        "    lambda x, y: (text_vectorization(x), y),\n",
        "    num_parallel_calls=4)"
      ],
      "metadata": {
        "id": "cNusVzOmoXt6"
      },
      "execution_count": 59,
      "outputs": []
    },
    {
      "cell_type": "code",
      "source": [
        "inputs = keras.Input(shape=(None,), dtype=\"int64\")\n",
        "embedded = layers.Embedding(input_dim=max_tokens, output_dim=256)(inputs)\n",
        "x = layers.Bidirectional(layers.LSTM(32))(embedded)\n",
        "x = layers.Dropout(0.5)(x)\n",
        "outputs = layers.Dense(1, activation=\"sigmoid\")(x)\n",
        "model = keras.Model(inputs, outputs)\n",
        "model.compile(optimizer=\"rmsprop\",\n",
        "              loss=\"binary_crossentropy\",\n",
        "              metrics=[\"accuracy\"])\n",
        "model.summary()\n",
        "\n",
        "callbacks = [\n",
        "    keras.callbacks.ModelCheckpoint(\"embeddings_bidir_gru with increased training samples4.keras\",\n",
        "                                    save_best_only=True)\n",
        "]\n",
        "model_5=model.fit(int_train_ds, validation_data=int_val_ds, epochs=10, callbacks=callbacks)\n",
        "model = keras.models.load_model(\"embeddings_bidir_gru with increased training samples4.keras\")\n",
        "print(f\"Test acc: {model.evaluate(int_test_ds)[1]:.3f}\")"
      ],
      "metadata": {
        "colab": {
          "base_uri": "https://localhost:8080/"
        },
        "id": "XCtj-cucomoo",
        "outputId": "5f1975fa-85a7-4b31-b6ca-c6bb0889fe6f"
      },
      "execution_count": 60,
      "outputs": [
        {
          "output_type": "stream",
          "name": "stdout",
          "text": [
            "Model: \"model_20\"\n",
            "_________________________________________________________________\n",
            " Layer (type)                Output Shape              Param #   \n",
            "=================================================================\n",
            " input_21 (InputLayer)       [(None, None)]            0         \n",
            "                                                                 \n",
            " embedding_9717 (Embedding)  (None, None, 256)         2560000   \n",
            "                                                                 \n",
            " bidirectional_17 (Bidirecti  (None, 64)               73984     \n",
            " onal)                                                           \n",
            "                                                                 \n",
            " dropout_20 (Dropout)        (None, 64)                0         \n",
            "                                                                 \n",
            " dense_32 (Dense)            (None, 1)                 65        \n",
            "                                                                 \n",
            "=================================================================\n",
            "Total params: 2,634,049\n",
            "Trainable params: 2,634,049\n",
            "Non-trainable params: 0\n",
            "_________________________________________________________________\n",
            "Epoch 1/10\n",
            "625/625 [==============================] - 42s 61ms/step - loss: 0.5250 - accuracy: 0.7363 - val_loss: 0.3874 - val_accuracy: 0.8310\n",
            "Epoch 2/10\n",
            "625/625 [==============================] - 16s 26ms/step - loss: 0.3514 - accuracy: 0.8537 - val_loss: 0.3937 - val_accuracy: 0.8264\n",
            "Epoch 3/10\n",
            "625/625 [==============================] - 14s 22ms/step - loss: 0.2946 - accuracy: 0.8834 - val_loss: 0.3888 - val_accuracy: 0.8496\n",
            "Epoch 4/10\n",
            "625/625 [==============================] - 13s 20ms/step - loss: 0.2553 - accuracy: 0.9003 - val_loss: 0.3756 - val_accuracy: 0.8452\n",
            "Epoch 5/10\n",
            "625/625 [==============================] - 13s 21ms/step - loss: 0.2189 - accuracy: 0.9192 - val_loss: 0.4368 - val_accuracy: 0.8438\n",
            "Epoch 6/10\n",
            "625/625 [==============================] - 13s 21ms/step - loss: 0.1853 - accuracy: 0.9331 - val_loss: 0.4617 - val_accuracy: 0.8408\n",
            "Epoch 7/10\n",
            "625/625 [==============================] - 14s 22ms/step - loss: 0.1583 - accuracy: 0.9437 - val_loss: 0.4562 - val_accuracy: 0.8424\n",
            "Epoch 8/10\n",
            "625/625 [==============================] - 12s 19ms/step - loss: 0.1286 - accuracy: 0.9551 - val_loss: 0.5001 - val_accuracy: 0.8416\n",
            "Epoch 9/10\n",
            "625/625 [==============================] - 12s 18ms/step - loss: 0.1024 - accuracy: 0.9650 - val_loss: 0.5393 - val_accuracy: 0.8272\n",
            "Epoch 10/10\n",
            "625/625 [==============================] - 12s 20ms/step - loss: 0.0882 - accuracy: 0.9697 - val_loss: 0.6583 - val_accuracy: 0.8326\n",
            "782/782 [==============================] - 8s 8ms/step - loss: 0.3934 - accuracy: 0.8342\n",
            "Test acc: 0.834\n"
          ]
        }
      ]
    },
    {
      "cell_type": "code",
      "source": [
        "accuracy = model_5.history['accuracy']\n",
        "val_accuracy = model_5.history['val_accuracy']\n",
        "\n",
        "loss = model_5.history[\"loss\"]\n",
        "val_loss = model_5.history[\"val_loss\"]\n",
        "\n",
        "epochs = range(1, len(accuracy) + 1)\n",
        "\n",
        "# Plotting accuracy\n",
        "plt.figure(figsize=(12, 4))\n",
        "plt.subplot(1, 2, 1)\n",
        "plt.plot(epochs, accuracy, label=\"Training Accuracy\")\n",
        "plt.plot(epochs, val_accuracy, label=\"Validation Accuracy\")\n",
        "plt.title(\"Training and Validation Accuracy for model with training samples 5000\")\n",
        "plt.xlabel(\"Epochs\")\n",
        "plt.ylabel(\"Accuracy\")\n",
        "plt.legend()"
      ],
      "metadata": {
        "colab": {
          "base_uri": "https://localhost:8080/",
          "height": 427
        },
        "id": "BxxYeDem737l",
        "outputId": "77bd58c6-0589-4122-e35b-e54afb977e35"
      },
      "execution_count": 57,
      "outputs": [
        {
          "output_type": "execute_result",
          "data": {
            "text/plain": [
              "<matplotlib.legend.Legend at 0x7d8f145cbf40>"
            ]
          },
          "metadata": {},
          "execution_count": 57
        },
        {
          "output_type": "display_data",
          "data": {
            "text/plain": [
              "<Figure size 1200x400 with 1 Axes>"
            ],
            "image/png": "[encoded data removed]"
          },
          "metadata": {}
        }
      ]
    },
    {
      "cell_type": "markdown",
      "source": [
        "Using pretrained word embeddings"
      ],
      "metadata": {
        "id": "C9aNTDhaK_To"
      }
    },
    {
      "cell_type": "code",
      "source": [
        "!wget http://nlp.stanford.edu/data/glove.6B.zip\n",
        "!unzip -q glove.6B.zip"
      ],
      "metadata": {
        "colab": {
          "base_uri": "https://localhost:8080/"
        },
        "id": "CueNjj1kLCro",
        "outputId": "5f9b1e85-32a7-4a11-87d0-f59a2ab264c1"
      },
      "execution_count": 23,
      "outputs": [
        {
          "output_type": "stream",
          "name": "stdout",
          "text": [
            "--2023-11-27 21:41:02--  http://nlp.stanford.edu/data/glove.6B.zip\n",
            "Resolving nlp.stanford.edu (nlp.stanford.edu)... 171.64.67.140\n",
            "Connecting to nlp.stanford.edu (nlp.stanford.edu)|171.64.67.140|:80... connected.\n",
            "HTTP request sent, awaiting response... 302 Found\n",
            "Location: https://nlp.stanford.edu/data/glove.6B.zip [following]\n",
            "--2023-11-27 21:41:02--  https://nlp.stanford.edu/data/glove.6B.zip\n",
            "Connecting to nlp.stanford.edu (nlp.stanford.edu)|171.64.67.140|:443... connected.\n",
            "HTTP request sent, awaiting response... 301 Moved Permanently\n",
            "Location: https://downloads.cs.stanford.edu/nlp/data/glove.6B.zip [following]\n",
            "--2023-11-27 21:41:02--  https://downloads.cs.stanford.edu/nlp/data/glove.6B.zip\n",
            "Resolving downloads.cs.stanford.edu (downloads.cs.stanford.edu)... 171.64.64.22\n",
            "Connecting to downloads.cs.stanford.edu (downloads.cs.stanford.edu)|171.64.64.22|:443... connected.\n",
            "HTTP request sent, awaiting response... 200 OK\n",
            "Length: 862182613 (822M) [application/zip]\n",
            "Saving to: ‘glove.6B.zip’\n",
            "\n",
            "glove.6B.zip        100%[===================>] 822.24M  5.22MB/s    in 2m 39s  \n",
            "\n",
            "2023-11-27 21:43:41 (5.17 MB/s) - ‘glove.6B.zip’ saved [862182613/862182613]\n",
            "\n"
          ]
        }
      ]
    },
    {
      "cell_type": "markdown",
      "source": [
        "Parsing the GloVe word-embeddings file"
      ],
      "metadata": {
        "id": "g9COdxgILDYP"
      }
    },
    {
      "cell_type": "code",
      "source": [
        "import numpy as np\n",
        "path_to_glove_file = \"glove.6B.100d.txt\"\n",
        "\n",
        "embeddings_index = {}\n",
        "with open(path_to_glove_file) as f:\n",
        "    for line in f:\n",
        "        word, coefs = line.split(maxsplit=1)\n",
        "        coefs = np.fromstring(coefs, \"f\", sep=\" \")\n",
        "        embeddings_index[word] = coefs\n",
        "\n",
        "print(f\"Found {len(embeddings_index)} word vectors.\")"
      ],
      "metadata": {
        "colab": {
          "base_uri": "https://localhost:8080/"
        },
        "id": "Cj-KDMqqLNLv",
        "outputId": "76e789a9-000b-4075-f547-1745c3b4e9b4"
      },
      "execution_count": 24,
      "outputs": [
        {
          "output_type": "stream",
          "name": "stdout",
          "text": [
            "Found 400000 word vectors.\n"
          ]
        }
      ]
    },
    {
      "cell_type": "markdown",
      "source": [
        "Preparing the GloVe word-embeddings matrix"
      ],
      "metadata": {
        "id": "NB1ie2urLURe"
      }
    },
    {
      "cell_type": "code",
      "source": [
        "embedding_dim = 100\n",
        "\n",
        "vocabulary = text_vectorization.get_vocabulary()\n",
        "word_index = dict(zip(vocabulary, range(len(vocabulary))))\n",
        "\n",
        "embedding_matrix = np.zeros((max_tokens, embedding_dim))\n",
        "for word, i in word_index.items():\n",
        "    if i < max_tokens:\n",
        "        embedding_vector = embeddings_index.get(word)\n",
        "    if embedding_vector is not None:\n",
        "        embedding_matrix[i] = embedding_vector\n",
        "\n",
        "        embedding_layer = layers.Embedding(\n",
        "    max_tokens,\n",
        "    embedding_dim,\n",
        "    embeddings_initializer=keras.initializers.Constant(embedding_matrix),\n",
        "    trainable=False,\n",
        "    mask_zero=True,\n",
        ")"
      ],
      "metadata": {
        "id": "yU9so3T1LVWA"
      },
      "execution_count": 25,
      "outputs": []
    },
    {
      "cell_type": "code",
      "source": [
        "num_training_samples = len(int_train_ds)\n",
        "print(f\"Number of training samples: {num_training_samples}\")"
      ],
      "metadata": {
        "colab": {
          "base_uri": "https://localhost:8080/"
        },
        "id": "oQtCn_VpJMhk",
        "outputId": "cfb04faa-81c6-47fb-cccc-c3deff207048"
      },
      "execution_count": 61,
      "outputs": [
        {
          "output_type": "stream",
          "name": "stdout",
          "text": [
            "Number of training samples: 625\n"
          ]
        }
      ]
    },
    {
      "cell_type": "markdown",
      "source": [
        "Model that uses a pretrained Embedding layer with training sample size of 1000"
      ],
      "metadata": {
        "id": "2EPlnWAJLkIf"
      }
    },
    {
      "cell_type": "code",
      "source": [
        "inputs = keras.Input(shape=(None,), dtype=\"int64\")\n",
        "embedded = embedding_layer(inputs)\n",
        "x = layers.Bidirectional(layers.LSTM(32))(embedded)\n",
        "x = layers.Dropout(0.5)(x)\n",
        "outputs = layers.Dense(1, activation=\"sigmoid\")(x)\n",
        "model = keras.Model(inputs, outputs)\n",
        "model.compile(optimizer=\"rmsprop\",\n",
        "              loss=\"binary_crossentropy\",\n",
        "              metrics=[\"accuracy\"])\n",
        "model.summary()\n",
        "\n",
        "\n"
      ],
      "metadata": {
        "colab": {
          "base_uri": "https://localhost:8080/"
        },
        "id": "pS9ts3wNLZHB",
        "outputId": "7b5efa08-019f-4f5e-8572-4f05bbd071c7"
      },
      "execution_count": 27,
      "outputs": [
        {
          "output_type": "stream",
          "name": "stdout",
          "text": [
            "Model: \"model_10\"\n",
            "_________________________________________________________________\n",
            " Layer (type)                Output Shape              Param #   \n",
            "=================================================================\n",
            " input_11 (InputLayer)       [(None, None)]            0         \n",
            "                                                                 \n",
            " embedding_9704 (Embedding)  (None, None, 100)         1000000   \n",
            "                                                                 \n",
            " bidirectional_8 (Bidirectio  (None, 64)               34048     \n",
            " nal)                                                            \n",
            "                                                                 \n",
            " dropout_10 (Dropout)        (None, 64)                0         \n",
            "                                                                 \n",
            " dense_18 (Dense)            (None, 1)                 65        \n",
            "                                                                 \n",
            "=================================================================\n",
            "Total params: 1,034,113\n",
            "Trainable params: 34,113\n",
            "Non-trainable params: 1,000,000\n",
            "_________________________________________________________________\n"
          ]
        }
      ]
    },
    {
      "cell_type": "code",
      "source": [
        "callbacks = [\n",
        "    keras.callbacks.ModelCheckpoint(\"glove_embeddings_sequence_model.keras\",\n",
        "                                    save_best_only=True)\n",
        "]\n",
        "Pre_model=model.fit(int_train_ds.take(1000), validation_data=int_val_ds, epochs=10, callbacks=callbacks)\n",
        "model = keras.models.load_model(\"glove_embeddings_sequence_model.keras\")\n",
        "print(f\"Test acc: {model.evaluate(int_test_ds)[1]:.3f}\")"
      ],
      "metadata": {
        "colab": {
          "base_uri": "https://localhost:8080/"
        },
        "id": "hYlMs5r3tFPR",
        "outputId": "ea4c9a1a-e77b-4d4a-fcf9-91c348945795"
      },
      "execution_count": 64,
      "outputs": [
        {
          "output_type": "stream",
          "name": "stdout",
          "text": [
            "Epoch 1/10\n",
            "625/625 [==============================] - 25s 41ms/step - loss: 0.2079 - accuracy: 0.9237 - val_loss: 0.4156 - val_accuracy: 0.8428\n",
            "Epoch 2/10\n",
            "625/625 [==============================] - 16s 26ms/step - loss: 0.1794 - accuracy: 0.9362 - val_loss: 0.4410 - val_accuracy: 0.8408\n",
            "Epoch 3/10\n",
            "625/625 [==============================] - 15s 24ms/step - loss: 0.1527 - accuracy: 0.9468 - val_loss: 0.5060 - val_accuracy: 0.8414\n",
            "Epoch 4/10\n",
            "625/625 [==============================] - 14s 23ms/step - loss: 0.1228 - accuracy: 0.9575 - val_loss: 0.6126 - val_accuracy: 0.8302\n",
            "Epoch 5/10\n",
            "625/625 [==============================] - 14s 22ms/step - loss: 0.1040 - accuracy: 0.9644 - val_loss: 0.5437 - val_accuracy: 0.8290\n",
            "Epoch 6/10\n",
            "625/625 [==============================] - 14s 23ms/step - loss: 0.0854 - accuracy: 0.9714 - val_loss: 0.6190 - val_accuracy: 0.8328\n",
            "Epoch 7/10\n",
            "625/625 [==============================] - 14s 22ms/step - loss: 0.0652 - accuracy: 0.9779 - val_loss: 0.6809 - val_accuracy: 0.8278\n",
            "Epoch 8/10\n",
            "625/625 [==============================] - 12s 20ms/step - loss: 0.0595 - accuracy: 0.9796 - val_loss: 0.7660 - val_accuracy: 0.8392\n",
            "Epoch 9/10\n",
            "625/625 [==============================] - 12s 19ms/step - loss: 0.0459 - accuracy: 0.9854 - val_loss: 0.7270 - val_accuracy: 0.8250\n",
            "Epoch 10/10\n",
            "625/625 [==============================] - 12s 20ms/step - loss: 0.0416 - accuracy: 0.9880 - val_loss: 0.8441 - val_accuracy: 0.8334\n",
            "782/782 [==============================] - 8s 9ms/step - loss: 0.4395 - accuracy: 0.8316\n",
            "Test acc: 0.832\n"
          ]
        }
      ]
    },
    {
      "cell_type": "markdown",
      "source": [
        "Model that uses a pretrained Embedding layer with training sample size of 5000"
      ],
      "metadata": {
        "id": "ftQjMIirKBTt"
      }
    },
    {
      "cell_type": "code",
      "source": [
        "inputs = keras.Input(shape=(None,), dtype=\"int64\")\n",
        "embedded = embedding_layer(inputs)\n",
        "x = layers.Bidirectional(layers.LSTM(32))(embedded)\n",
        "x = layers.Dropout(0.5)(x)\n",
        "outputs = layers.Dense(1, activation=\"sigmoid\")(x)\n",
        "model = keras.Model(inputs, outputs)\n",
        "model.compile(optimizer=\"rmsprop\",\n",
        "              loss=\"binary_crossentropy\",\n",
        "              metrics=[\"accuracy\"])\n",
        "model.summary()\n",
        "callbacks = [\n",
        "    keras.callbacks.ModelCheckpoint(\"glove_embeddings_sequence_model.keras\",\n",
        "                                    save_best_only=True)\n",
        "]\n",
        "Pre_model2=model.fit(int_train_ds.take(5000), validation_data=int_val_ds, epochs=10, callbacks=callbacks)\n",
        "model = keras.models.load_model(\"glove_embeddings_sequence_model.keras\")\n",
        "print(f\"Test acc: {model.evaluate(int_test_ds)[1]:.3f}\")"
      ],
      "metadata": {
        "colab": {
          "base_uri": "https://localhost:8080/"
        },
        "id": "cORCLWBtJ0NJ",
        "outputId": "106c715b-f0f8-4fc6-d464-7042384b942c"
      },
      "execution_count": 65,
      "outputs": [
        {
          "output_type": "stream",
          "name": "stdout",
          "text": [
            "Model: \"model_21\"\n",
            "_________________________________________________________________\n",
            " Layer (type)                Output Shape              Param #   \n",
            "=================================================================\n",
            " input_22 (InputLayer)       [(None, None)]            0         \n",
            "                                                                 \n",
            " embedding_9704 (Embedding)  (None, None, 100)         1000000   \n",
            "                                                                 \n",
            " bidirectional_18 (Bidirecti  (None, 64)               34048     \n",
            " onal)                                                           \n",
            "                                                                 \n",
            " dropout_21 (Dropout)        (None, 64)                0         \n",
            "                                                                 \n",
            " dense_33 (Dense)            (None, 1)                 65        \n",
            "                                                                 \n",
            "=================================================================\n",
            "Total params: 1,034,113\n",
            "Trainable params: 34,113\n",
            "Non-trainable params: 1,000,000\n",
            "_________________________________________________________________\n",
            "Epoch 1/10\n",
            "625/625 [==============================] - 28s 32ms/step - loss: 0.6031 - accuracy: 0.6650 - val_loss: 0.4969 - val_accuracy: 0.7618\n",
            "Epoch 2/10\n",
            "625/625 [==============================] - 18s 28ms/step - loss: 0.4911 - accuracy: 0.7673 - val_loss: 0.4484 - val_accuracy: 0.7920\n",
            "Epoch 3/10\n",
            "625/625 [==============================] - 16s 26ms/step - loss: 0.4480 - accuracy: 0.7938 - val_loss: 0.4550 - val_accuracy: 0.7868\n",
            "Epoch 4/10\n",
            "625/625 [==============================] - 18s 30ms/step - loss: 0.4200 - accuracy: 0.8086 - val_loss: 0.4126 - val_accuracy: 0.8112\n",
            "Epoch 5/10\n",
            "625/625 [==============================] - 18s 29ms/step - loss: 0.3937 - accuracy: 0.8219 - val_loss: 0.4200 - val_accuracy: 0.8038\n",
            "Epoch 6/10\n",
            "625/625 [==============================] - 17s 28ms/step - loss: 0.3790 - accuracy: 0.8334 - val_loss: 0.3833 - val_accuracy: 0.8270\n",
            "Epoch 7/10\n",
            "625/625 [==============================] - 17s 28ms/step - loss: 0.3597 - accuracy: 0.8426 - val_loss: 0.4302 - val_accuracy: 0.8116\n",
            "Epoch 8/10\n",
            "625/625 [==============================] - 17s 28ms/step - loss: 0.3456 - accuracy: 0.8518 - val_loss: 0.4628 - val_accuracy: 0.7930\n",
            "Epoch 9/10\n",
            "625/625 [==============================] - 18s 29ms/step - loss: 0.3299 - accuracy: 0.8580 - val_loss: 0.3658 - val_accuracy: 0.8370\n",
            "Epoch 10/10\n",
            "625/625 [==============================] - 17s 28ms/step - loss: 0.3172 - accuracy: 0.8661 - val_loss: 0.3705 - val_accuracy: 0.8380\n",
            "782/782 [==============================] - 12s 12ms/step - loss: 0.3653 - accuracy: 0.8393\n",
            "Test acc: 0.839\n"
          ]
        }
      ]
    }
  ]
}