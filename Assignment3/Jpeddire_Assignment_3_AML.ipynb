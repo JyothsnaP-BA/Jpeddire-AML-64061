{
  "nbformat": 4,
  "nbformat_minor": 0,
  "metadata": {
    "colab": {
      "provenance": [],
      "gpuType": "T4"
    },
    "kernelspec": {
      "name": "python3",
      "display_name": "Python 3"
    },
    "language_info": {
      "name": "python"
    },
    "accelerator": "GPU"
  },
  "cells": [
    {
      "cell_type": "code",
      "execution_count": 1,
      "metadata": {
        "colab": {
          "base_uri": "https://localhost:8080/"
        },
        "id": "A1INRkmDBcHn",
        "outputId": "bb67bfe2-586b-498b-e598-9467a4472b71"
      },
      "outputs": [
        {
          "output_type": "stream",
          "name": "stdout",
          "text": [
            "--2023-11-05 22:37:30--  https://s3.amazonaws.com/keras-datasets/jena_climate_2009_2016.csv.zip\n",
            "Resolving s3.amazonaws.com (s3.amazonaws.com)... 3.5.21.132, 52.216.60.72, 16.182.42.8, ...\n",
            "Connecting to s3.amazonaws.com (s3.amazonaws.com)|3.5.21.132|:443... connected.\n",
            "HTTP request sent, awaiting response... 200 OK\n",
            "Length: 13565642 (13M) [application/zip]\n",
            "Saving to: ‘jena_climate_2009_2016.csv.zip’\n",
            "\n",
            "jena_climate_2009_2 100%[===================>]  12.94M  2.26MB/s    in 12s     \n",
            "\n",
            "2023-11-05 22:37:43 (1.12 MB/s) - ‘jena_climate_2009_2016.csv.zip’ saved [13565642/13565642]\n",
            "\n",
            "Archive:  jena_climate_2009_2016.csv.zip\n",
            "  inflating: jena_climate_2009_2016.csv  \n",
            "  inflating: __MACOSX/._jena_climate_2009_2016.csv  \n"
          ]
        }
      ],
      "source": [
        "!wget https://s3.amazonaws.com/keras-datasets/jena_climate_2009_2016.csv.zip\n",
        "!unzip jena_climate_2009_2016.csv.zip"
      ]
    },
    {
      "cell_type": "code",
      "source": [
        "#Google colab tensor flow version is 2.13. So, older version is installed\n",
        "!pip install tensorflow==2.12"
      ],
      "metadata": {
        "colab": {
          "base_uri": "https://localhost:8080/"
        },
        "id": "Xu6jEv0uHoDU",
        "outputId": "ec4d07b7-3af9-428d-dd65-7673c4f034fb"
      },
      "execution_count": 2,
      "outputs": [
        {
          "output_type": "stream",
          "name": "stdout",
          "text": [
            "Collecting tensorflow==2.12\n",
            "  Downloading tensorflow-2.12.0-cp310-cp310-manylinux_2_17_x86_64.manylinux2014_x86_64.whl (585.9 MB)\n",
            "\u001b[2K     \u001b[90m━━━━━━━━━━━━━━━━━━━━━━━━━━━━━━━━━━━━━━━━\u001b[0m \u001b[32m585.9/585.9 MB\u001b[0m \u001b[31m2.9 MB/s\u001b[0m eta \u001b[36m0:00:00\u001b[0m\n",
            "\u001b[?25hRequirement already satisfied: absl-py>=1.0.0 in /usr/local/lib/python3.10/dist-packages (from tensorflow==2.12) (1.4.0)\n",
            "Requirement already satisfied: astunparse>=1.6.0 in /usr/local/lib/python3.10/dist-packages (from tensorflow==2.12) (1.6.3)\n",
            "Requirement already satisfied: flatbuffers>=2.0 in /usr/local/lib/python3.10/dist-packages (from tensorflow==2.12) (23.5.26)\n",
            "Collecting gast<=0.4.0,>=0.2.1 (from tensorflow==2.12)\n",
            "  Downloading gast-0.4.0-py3-none-any.whl (9.8 kB)\n",
            "Requirement already satisfied: google-pasta>=0.1.1 in /usr/local/lib/python3.10/dist-packages (from tensorflow==2.12) (0.2.0)\n",
            "Requirement already satisfied: grpcio<2.0,>=1.24.3 in /usr/local/lib/python3.10/dist-packages (from tensorflow==2.12) (1.59.0)\n",
            "Requirement already satisfied: h5py>=2.9.0 in /usr/local/lib/python3.10/dist-packages (from tensorflow==2.12) (3.9.0)\n",
            "Requirement already satisfied: jax>=0.3.15 in /usr/local/lib/python3.10/dist-packages (from tensorflow==2.12) (0.4.16)\n",
            "Collecting keras<2.13,>=2.12.0 (from tensorflow==2.12)\n",
            "  Downloading keras-2.12.0-py2.py3-none-any.whl (1.7 MB)\n",
            "\u001b[2K     \u001b[90m━━━━━━━━━━━━━━━━━━━━━━━━━━━━━━━━━━━━━━━━\u001b[0m \u001b[32m1.7/1.7 MB\u001b[0m \u001b[31m83.3 MB/s\u001b[0m eta \u001b[36m0:00:00\u001b[0m\n",
            "\u001b[?25hRequirement already satisfied: libclang>=13.0.0 in /usr/local/lib/python3.10/dist-packages (from tensorflow==2.12) (16.0.6)\n",
            "Requirement already satisfied: numpy<1.24,>=1.22 in /usr/local/lib/python3.10/dist-packages (from tensorflow==2.12) (1.23.5)\n",
            "Requirement already satisfied: opt-einsum>=2.3.2 in /usr/local/lib/python3.10/dist-packages (from tensorflow==2.12) (3.3.0)\n",
            "Requirement already satisfied: packaging in /usr/local/lib/python3.10/dist-packages (from tensorflow==2.12) (23.2)\n",
            "Requirement already satisfied: protobuf!=4.21.0,!=4.21.1,!=4.21.2,!=4.21.3,!=4.21.4,!=4.21.5,<5.0.0dev,>=3.20.3 in /usr/local/lib/python3.10/dist-packages (from tensorflow==2.12) (3.20.3)\n",
            "Requirement already satisfied: setuptools in /usr/local/lib/python3.10/dist-packages (from tensorflow==2.12) (67.7.2)\n",
            "Requirement already satisfied: six>=1.12.0 in /usr/local/lib/python3.10/dist-packages (from tensorflow==2.12) (1.16.0)\n",
            "Collecting tensorboard<2.13,>=2.12 (from tensorflow==2.12)\n",
            "  Downloading tensorboard-2.12.3-py3-none-any.whl (5.6 MB)\n",
            "\u001b[2K     \u001b[90m━━━━━━━━━━━━━━━━━━━━━━━━━━━━━━━━━━━━━━━━\u001b[0m \u001b[32m5.6/5.6 MB\u001b[0m \u001b[31m100.4 MB/s\u001b[0m eta \u001b[36m0:00:00\u001b[0m\n",
            "\u001b[?25hCollecting tensorflow-estimator<2.13,>=2.12.0 (from tensorflow==2.12)\n",
            "  Downloading tensorflow_estimator-2.12.0-py2.py3-none-any.whl (440 kB)\n",
            "\u001b[2K     \u001b[90m━━━━━━━━━━━━━━━━━━━━━━━━━━━━━━━━━━━━━━━━\u001b[0m \u001b[32m440.7/440.7 kB\u001b[0m \u001b[31m39.3 MB/s\u001b[0m eta \u001b[36m0:00:00\u001b[0m\n",
            "\u001b[?25hRequirement already satisfied: termcolor>=1.1.0 in /usr/local/lib/python3.10/dist-packages (from tensorflow==2.12) (2.3.0)\n",
            "Requirement already satisfied: typing-extensions>=3.6.6 in /usr/local/lib/python3.10/dist-packages (from tensorflow==2.12) (4.5.0)\n",
            "Requirement already satisfied: wrapt<1.15,>=1.11.0 in /usr/local/lib/python3.10/dist-packages (from tensorflow==2.12) (1.14.1)\n",
            "Requirement already satisfied: tensorflow-io-gcs-filesystem>=0.23.1 in /usr/local/lib/python3.10/dist-packages (from tensorflow==2.12) (0.34.0)\n",
            "Requirement already satisfied: wheel<1.0,>=0.23.0 in /usr/local/lib/python3.10/dist-packages (from astunparse>=1.6.0->tensorflow==2.12) (0.41.2)\n",
            "Requirement already satisfied: ml-dtypes>=0.2.0 in /usr/local/lib/python3.10/dist-packages (from jax>=0.3.15->tensorflow==2.12) (0.2.0)\n",
            "Requirement already satisfied: scipy>=1.7 in /usr/local/lib/python3.10/dist-packages (from jax>=0.3.15->tensorflow==2.12) (1.11.3)\n",
            "Requirement already satisfied: google-auth<3,>=1.6.3 in /usr/local/lib/python3.10/dist-packages (from tensorboard<2.13,>=2.12->tensorflow==2.12) (2.17.3)\n",
            "Requirement already satisfied: google-auth-oauthlib<1.1,>=0.5 in /usr/local/lib/python3.10/dist-packages (from tensorboard<2.13,>=2.12->tensorflow==2.12) (1.0.0)\n",
            "Requirement already satisfied: markdown>=2.6.8 in /usr/local/lib/python3.10/dist-packages (from tensorboard<2.13,>=2.12->tensorflow==2.12) (3.5)\n",
            "Requirement already satisfied: requests<3,>=2.21.0 in /usr/local/lib/python3.10/dist-packages (from tensorboard<2.13,>=2.12->tensorflow==2.12) (2.31.0)\n",
            "Requirement already satisfied: tensorboard-data-server<0.8.0,>=0.7.0 in /usr/local/lib/python3.10/dist-packages (from tensorboard<2.13,>=2.12->tensorflow==2.12) (0.7.2)\n",
            "Requirement already satisfied: werkzeug>=1.0.1 in /usr/local/lib/python3.10/dist-packages (from tensorboard<2.13,>=2.12->tensorflow==2.12) (3.0.1)\n",
            "Requirement already satisfied: cachetools<6.0,>=2.0.0 in /usr/local/lib/python3.10/dist-packages (from google-auth<3,>=1.6.3->tensorboard<2.13,>=2.12->tensorflow==2.12) (5.3.2)\n",
            "Requirement already satisfied: pyasn1-modules>=0.2.1 in /usr/local/lib/python3.10/dist-packages (from google-auth<3,>=1.6.3->tensorboard<2.13,>=2.12->tensorflow==2.12) (0.3.0)\n",
            "Requirement already satisfied: rsa<5,>=3.1.4 in /usr/local/lib/python3.10/dist-packages (from google-auth<3,>=1.6.3->tensorboard<2.13,>=2.12->tensorflow==2.12) (4.9)\n",
            "Requirement already satisfied: requests-oauthlib>=0.7.0 in /usr/local/lib/python3.10/dist-packages (from google-auth-oauthlib<1.1,>=0.5->tensorboard<2.13,>=2.12->tensorflow==2.12) (1.3.1)\n",
            "Requirement already satisfied: charset-normalizer<4,>=2 in /usr/local/lib/python3.10/dist-packages (from requests<3,>=2.21.0->tensorboard<2.13,>=2.12->tensorflow==2.12) (3.3.1)\n",
            "Requirement already satisfied: idna<4,>=2.5 in /usr/local/lib/python3.10/dist-packages (from requests<3,>=2.21.0->tensorboard<2.13,>=2.12->tensorflow==2.12) (3.4)\n",
            "Requirement already satisfied: urllib3<3,>=1.21.1 in /usr/local/lib/python3.10/dist-packages (from requests<3,>=2.21.0->tensorboard<2.13,>=2.12->tensorflow==2.12) (2.0.7)\n",
            "Requirement already satisfied: certifi>=2017.4.17 in /usr/local/lib/python3.10/dist-packages (from requests<3,>=2.21.0->tensorboard<2.13,>=2.12->tensorflow==2.12) (2023.7.22)\n",
            "Requirement already satisfied: MarkupSafe>=2.1.1 in /usr/local/lib/python3.10/dist-packages (from werkzeug>=1.0.1->tensorboard<2.13,>=2.12->tensorflow==2.12) (2.1.3)\n",
            "Requirement already satisfied: pyasn1<0.6.0,>=0.4.6 in /usr/local/lib/python3.10/dist-packages (from pyasn1-modules>=0.2.1->google-auth<3,>=1.6.3->tensorboard<2.13,>=2.12->tensorflow==2.12) (0.5.0)\n",
            "Requirement already satisfied: oauthlib>=3.0.0 in /usr/local/lib/python3.10/dist-packages (from requests-oauthlib>=0.7.0->google-auth-oauthlib<1.1,>=0.5->tensorboard<2.13,>=2.12->tensorflow==2.12) (3.2.2)\n",
            "Installing collected packages: tensorflow-estimator, keras, gast, tensorboard, tensorflow\n",
            "  Attempting uninstall: tensorflow-estimator\n",
            "    Found existing installation: tensorflow-estimator 2.14.0\n",
            "    Uninstalling tensorflow-estimator-2.14.0:\n",
            "      Successfully uninstalled tensorflow-estimator-2.14.0\n",
            "  Attempting uninstall: keras\n",
            "    Found existing installation: keras 2.14.0\n",
            "    Uninstalling keras-2.14.0:\n",
            "      Successfully uninstalled keras-2.14.0\n",
            "  Attempting uninstall: gast\n",
            "    Found existing installation: gast 0.5.4\n",
            "    Uninstalling gast-0.5.4:\n",
            "      Successfully uninstalled gast-0.5.4\n",
            "  Attempting uninstall: tensorboard\n",
            "    Found existing installation: tensorboard 2.14.1\n",
            "    Uninstalling tensorboard-2.14.1:\n",
            "      Successfully uninstalled tensorboard-2.14.1\n",
            "  Attempting uninstall: tensorflow\n",
            "    Found existing installation: tensorflow 2.14.0\n",
            "    Uninstalling tensorflow-2.14.0:\n",
            "      Successfully uninstalled tensorflow-2.14.0\n",
            "Successfully installed gast-0.4.0 keras-2.12.0 tensorboard-2.12.3 tensorflow-2.12.0 tensorflow-estimator-2.12.0\n"
          ]
        }
      ]
    },
    {
      "cell_type": "markdown",
      "source": [
        "Inspecting the data of the Jena weather dataset"
      ],
      "metadata": {
        "id": "kZRe75M3elSJ"
      }
    },
    {
      "cell_type": "code",
      "source": [
        "import os\n",
        "fname = os.path.join(\"jena_climate_2009_2016.csv\")\n",
        "\n",
        "with open(fname) as f:\n",
        "    data = f.read()\n",
        "\n",
        "lines = data.split(\"\\n\")\n",
        "header = lines[0].split(\",\")\n",
        "lines = lines[1:]\n",
        "print(header)\n",
        "print(len(lines))"
      ],
      "metadata": {
        "colab": {
          "base_uri": "https://localhost:8080/"
        },
        "id": "upWfd0w2Dope",
        "outputId": "65da4456-b2a9-44bb-8934-3684443a4f81"
      },
      "execution_count": 3,
      "outputs": [
        {
          "output_type": "stream",
          "name": "stdout",
          "text": [
            "['\"Date Time\"', '\"p (mbar)\"', '\"T (degC)\"', '\"Tpot (K)\"', '\"Tdew (degC)\"', '\"rh (%)\"', '\"VPmax (mbar)\"', '\"VPact (mbar)\"', '\"VPdef (mbar)\"', '\"sh (g/kg)\"', '\"H2OC (mmol/mol)\"', '\"rho (g/m**3)\"', '\"wv (m/s)\"', '\"max. wv (m/s)\"', '\"wd (deg)\"']\n",
            "420451\n"
          ]
        }
      ]
    },
    {
      "cell_type": "markdown",
      "source": [
        "Parsing the data"
      ],
      "metadata": {
        "id": "6F94IaxVeqnX"
      }
    },
    {
      "cell_type": "code",
      "source": [
        "import numpy as np\n",
        "temperature = np.zeros((len(lines),))\n",
        "raw_data = np.zeros((len(lines), len(header) - 1))\n",
        "for i, line in enumerate(lines):\n",
        "    values = [float(x) for x in line.split(\",\")[1:]]\n",
        "    temperature[i] = values[1]\n",
        "    raw_data[i, :] = values[:]"
      ],
      "metadata": {
        "id": "Z15cizSVDo45"
      },
      "execution_count": 4,
      "outputs": []
    },
    {
      "cell_type": "markdown",
      "source": [
        "Plotting the temperature timeseries"
      ],
      "metadata": {
        "id": "yp5dwJume0iw"
      }
    },
    {
      "cell_type": "code",
      "source": [
        "from matplotlib import pyplot as plt\n",
        "plt.plot(range(len(temperature)), temperature)"
      ],
      "metadata": {
        "colab": {
          "base_uri": "https://localhost:8080/",
          "height": 451
        },
        "id": "fXjJ3PeTDo8e",
        "outputId": "f17abecb-fb10-4373-f453-a0f2331423bc"
      },
      "execution_count": 5,
      "outputs": [
        {
          "output_type": "execute_result",
          "data": {
            "text/plain": [
              "[<matplotlib.lines.Line2D at 0x7df44a8e9480>]"
            ]
          },
          "metadata": {},
          "execution_count": 5
        },
        {
          "output_type": "display_data",
          "data": {
            "text/plain": [
              "<Figure size 640x480 with 1 Axes>"
            ],
            "image/png": "[encoded data removed]"
          },
          "metadata": {}
        }
      ]
    },
    {
      "cell_type": "markdown",
      "source": [
        "Plotting the first 10 days of the temperature timeseries"
      ],
      "metadata": {
        "id": "WTJ2wKF2e684"
      }
    },
    {
      "cell_type": "code",
      "source": [
        "plt.plot(range(1440), temperature[:1440])"
      ],
      "metadata": {
        "colab": {
          "base_uri": "https://localhost:8080/",
          "height": 447
        },
        "id": "esTDFmTeDo-c",
        "outputId": "33593be9-3284-4f01-b79c-2474a1fef952"
      },
      "execution_count": 6,
      "outputs": [
        {
          "output_type": "execute_result",
          "data": {
            "text/plain": [
              "[<matplotlib.lines.Line2D at 0x7df443c3b160>]"
            ]
          },
          "metadata": {},
          "execution_count": 6
        },
        {
          "output_type": "display_data",
          "data": {
            "text/plain": [
              "<Figure size 640x480 with 1 Axes>"
            ],
            "image/png": "[encoded data removed]"
          },
          "metadata": {}
        }
      ]
    },
    {
      "cell_type": "markdown",
      "source": [
        "Computing the number of samples we'll use for each data split"
      ],
      "metadata": {
        "id": "Zrv2OG7De_I7"
      }
    },
    {
      "cell_type": "code",
      "source": [
        "num_train_samples = int(0.5 * len(raw_data))\n",
        "num_val_samples = int(0.25 * len(raw_data))\n",
        "num_test_samples = len(raw_data) - num_train_samples - num_val_samples\n",
        "print(\"num_train_samples:\", num_train_samples)\n",
        "print(\"num_val_samples:\", num_val_samples)\n",
        "print(\"num_test_samples:\", num_test_samples)"
      ],
      "metadata": {
        "colab": {
          "base_uri": "https://localhost:8080/"
        },
        "id": "Z_vc7eC9DpBC",
        "outputId": "90e5d251-db42-4314-ecc3-99d11a504772"
      },
      "execution_count": 7,
      "outputs": [
        {
          "output_type": "stream",
          "name": "stdout",
          "text": [
            "num_train_samples: 210225\n",
            "num_val_samples: 105112\n",
            "num_test_samples: 105114\n"
          ]
        }
      ]
    },
    {
      "cell_type": "markdown",
      "source": [
        "Normalizing the data"
      ],
      "metadata": {
        "id": "DpfxBQdCfEq9"
      }
    },
    {
      "cell_type": "code",
      "source": [
        "mean = raw_data[:num_train_samples].mean(axis=0)\n",
        "raw_data -= mean\n",
        "std = raw_data[:num_train_samples].std(axis=0)\n",
        "raw_data /= std"
      ],
      "metadata": {
        "id": "-Bu2GS3KDpES"
      },
      "execution_count": 8,
      "outputs": []
    },
    {
      "cell_type": "code",
      "source": [
        "import numpy as np\n",
        "from tensorflow import keras\n",
        "int_sequence = np.arange(10)\n",
        "dummy_dataset = keras.utils.timeseries_dataset_from_array(\n",
        "    data=int_sequence[:-3],\n",
        "    targets=int_sequence[3:],\n",
        "    sequence_length=3,\n",
        "    batch_size=2,\n",
        ")\n",
        "\n",
        "for inputs, targets in dummy_dataset:\n",
        "    for i in range(inputs.shape[0]):\n",
        "        print([int(x) for x in inputs[i]], int(targets[i]))"
      ],
      "metadata": {
        "colab": {
          "base_uri": "https://localhost:8080/"
        },
        "id": "fdCLxeZaENWK",
        "outputId": "eeb9f85b-994c-4cc1-d978-d524bd8634ca"
      },
      "execution_count": 9,
      "outputs": [
        {
          "output_type": "stream",
          "name": "stdout",
          "text": [
            "[0, 1, 2] 3\n",
            "[1, 2, 3] 4\n",
            "[2, 3, 4] 5\n",
            "[3, 4, 5] 6\n",
            "[4, 5, 6] 7\n"
          ]
        }
      ]
    },
    {
      "cell_type": "markdown",
      "source": [
        "Instantiating datasets for training, validation, and testing"
      ],
      "metadata": {
        "id": "Oo3h-tFGfJ7m"
      }
    },
    {
      "cell_type": "code",
      "source": [
        "sampling_rate = 6\n",
        "sequence_length = 120\n",
        "delay = sampling_rate * (sequence_length + 24 - 1)\n",
        "batch_size = 1000\n",
        "\n",
        "train_dataset = keras.utils.timeseries_dataset_from_array(\n",
        "    raw_data[:-delay],\n",
        "    targets=temperature[delay:],\n",
        "    sampling_rate=sampling_rate,\n",
        "    sequence_length=sequence_length,\n",
        "    shuffle=True,\n",
        "    batch_size=batch_size,\n",
        "    start_index=0,\n",
        "    end_index=num_train_samples)\n",
        "\n",
        "val_dataset = keras.utils.timeseries_dataset_from_array(\n",
        "    raw_data[:-delay],\n",
        "    targets=temperature[delay:],\n",
        "    sampling_rate=sampling_rate,\n",
        "    sequence_length=sequence_length,\n",
        "    shuffle=True,\n",
        "    batch_size=batch_size,\n",
        "    start_index=num_train_samples,\n",
        "    end_index=num_train_samples + num_val_samples)\n",
        "\n",
        "test_dataset = keras.utils.timeseries_dataset_from_array(\n",
        "    raw_data[:-delay],\n",
        "    targets=temperature[delay:],\n",
        "    sampling_rate=sampling_rate,\n",
        "    sequence_length=sequence_length,\n",
        "    shuffle=True,\n",
        "    batch_size=batch_size,\n",
        "    start_index=num_train_samples + num_val_samples)"
      ],
      "metadata": {
        "id": "NaEChUKAEU2r"
      },
      "execution_count": 10,
      "outputs": []
    },
    {
      "cell_type": "markdown",
      "source": [
        "Inspecting the output of one of our datasets"
      ],
      "metadata": {
        "id": "3zih8ofvfOKk"
      }
    },
    {
      "cell_type": "code",
      "source": [
        "for samples, targets in train_dataset:\n",
        "    print(\"samples shape:\", samples.shape)\n",
        "    print(\"targets shape:\", targets.shape)\n",
        "    break"
      ],
      "metadata": {
        "colab": {
          "base_uri": "https://localhost:8080/"
        },
        "id": "MNyO-7sxFVpa",
        "outputId": "0ad69069-0565-4a86-d0fd-b5f05b3a846c"
      },
      "execution_count": 11,
      "outputs": [
        {
          "output_type": "stream",
          "name": "stdout",
          "text": [
            "samples shape: (1000, 120, 14)\n",
            "targets shape: (1000,)\n"
          ]
        }
      ]
    },
    {
      "cell_type": "markdown",
      "source": [
        "A common-sense, non-machine-learning baseline\n",
        "Computing the common-sense baseline MAE"
      ],
      "metadata": {
        "id": "lE9nvUAFfR9f"
      }
    },
    {
      "cell_type": "code",
      "source": [
        "def evaluate_naive_method(dataset):\n",
        "    total_abs_err = 0.\n",
        "    samples_seen = 0\n",
        "    for samples, targets in dataset:\n",
        "        preds = samples[:, -1, 1] * std[1] + mean[1]\n",
        "        total_abs_err += np.sum(np.abs(preds - targets))\n",
        "        samples_seen += samples.shape[0]\n",
        "    return total_abs_err / samples_seen\n",
        "\n",
        "print(f\"Validation MAE: {evaluate_naive_method(val_dataset):.2f}\")\n",
        "print(f\"Test MAE: {evaluate_naive_method(test_dataset):.2f}\")"
      ],
      "metadata": {
        "colab": {
          "base_uri": "https://localhost:8080/"
        },
        "id": "usulTXPDEa-W",
        "outputId": "7ea04618-c5fc-47a7-feb8-d3cad0a8d9cb"
      },
      "execution_count": 12,
      "outputs": [
        {
          "output_type": "stream",
          "name": "stdout",
          "text": [
            "Validation MAE: 2.44\n",
            "Test MAE: 2.62\n"
          ]
        }
      ]
    },
    {
      "cell_type": "markdown",
      "source": [
        "A basic machine-learning model - Dense Layer\n",
        "Training and evaluating a densely connected model"
      ],
      "metadata": {
        "id": "7Ts52XYJaLt1"
      }
    },
    {
      "cell_type": "code",
      "source": [
        "from tensorflow import keras\n",
        "from tensorflow.keras import layers\n",
        "\n",
        "inputs = keras.Input(shape=(sequence_length, raw_data.shape[-1]))\n",
        "x = layers.Flatten()(inputs)\n",
        "x = layers.Dense(16, activation=\"relu\")(x)\n",
        "outputs = layers.Dense(1)(x)\n",
        "model = keras.Model(inputs, outputs)\n",
        "\n",
        "callbacks = [\n",
        "    keras.callbacks.ModelCheckpoint(\"jena_dense.keras\",\n",
        "                                    save_best_only=True)\n",
        "]\n",
        "model.compile(optimizer=\"rmsprop\", loss=\"mse\", metrics=[\"mae\"])\n",
        "history = model.fit(train_dataset,\n",
        "                    epochs=10,\n",
        "                    validation_data=val_dataset,\n",
        "                    callbacks=callbacks)\n",
        "\n",
        "model = keras.models.load_model(\"jena_dense.keras\")\n",
        "print(f\"Test MAE: {model.evaluate(test_dataset)[1]:.2f}\")"
      ],
      "metadata": {
        "colab": {
          "base_uri": "https://localhost:8080/"
        },
        "id": "svjVASH1F2WH",
        "outputId": "7769980f-1ed6-43e7-e7da-2f35e2aba744"
      },
      "execution_count": 13,
      "outputs": [
        {
          "output_type": "stream",
          "name": "stdout",
          "text": [
            "Epoch 1/10\n",
            "210/210 [==============================] - 58s 252ms/step - loss: 16.2491 - mae: 3.0952 - val_loss: 13.4999 - val_mae: 2.9164\n",
            "Epoch 2/10\n",
            "210/210 [==============================] - 50s 229ms/step - loss: 10.3601 - mae: 2.5243 - val_loss: 11.5397 - val_mae: 2.6891\n",
            "Epoch 3/10\n",
            "210/210 [==============================] - 47s 218ms/step - loss: 9.4826 - mae: 2.4157 - val_loss: 10.5372 - val_mae: 2.5545\n",
            "Epoch 4/10\n",
            "210/210 [==============================] - 50s 231ms/step - loss: 8.9859 - mae: 2.3568 - val_loss: 10.2706 - val_mae: 2.5290\n",
            "Epoch 5/10\n",
            "210/210 [==============================] - 50s 232ms/step - loss: 8.6701 - mae: 2.3172 - val_loss: 10.5699 - val_mae: 2.5682\n",
            "Epoch 6/10\n",
            "210/210 [==============================] - 46s 215ms/step - loss: 8.3432 - mae: 2.2750 - val_loss: 11.5463 - val_mae: 2.6927\n",
            "Epoch 7/10\n",
            "210/210 [==============================] - 44s 207ms/step - loss: 8.1647 - mae: 2.2493 - val_loss: 12.2803 - val_mae: 2.7749\n",
            "Epoch 8/10\n",
            "210/210 [==============================] - 49s 232ms/step - loss: 8.0569 - mae: 2.2342 - val_loss: 10.1040 - val_mae: 2.5177\n",
            "Epoch 9/10\n",
            "210/210 [==============================] - 44s 206ms/step - loss: 7.9031 - mae: 2.2134 - val_loss: 10.1988 - val_mae: 2.5350\n",
            "Epoch 10/10\n",
            "210/210 [==============================] - 52s 243ms/step - loss: 7.7556 - mae: 2.1912 - val_loss: 10.6461 - val_mae: 2.5829\n",
            "104/104 [==============================] - 15s 132ms/step - loss: 11.2121 - mae: 2.6283\n",
            "Test MAE: 2.63\n"
          ]
        }
      ]
    },
    {
      "cell_type": "code",
      "source": [
        "import matplotlib.pyplot as plt\n",
        "loss = history.history[\"mae\"]\n",
        "val_loss = history.history[\"val_mae\"]\n",
        "epochs = range(1, len(loss) + 1)\n",
        "plt.figure()\n",
        "plt.plot(epochs, loss, \"bo\", label=\"Training MAE\")\n",
        "plt.plot(epochs, val_loss, \"b\", label=\"Validation MAE\")\n",
        "plt.title(\"Training and validation MAE\")\n",
        "plt.legend()\n",
        "plt.show()"
      ],
      "metadata": {
        "colab": {
          "base_uri": "https://localhost:8080/",
          "height": 452
        },
        "id": "4Z_xYssMNeVk",
        "outputId": "964d4d55-4bb8-4e57-9e27-ebbb8f9cd6c2"
      },
      "execution_count": 14,
      "outputs": [
        {
          "output_type": "display_data",
          "data": {
            "text/plain": [
              "<Figure size 640x480 with 1 Axes>"
            ],
            "image/png": "[encoded data removed]"
          },
          "metadata": {}
        }
      ]
    },
    {
      "cell_type": "markdown",
      "source": [
        "Let's try a 1D convolutional model"
      ],
      "metadata": {
        "id": "pvyJwHRJfsj1"
      }
    },
    {
      "cell_type": "code",
      "source": [
        "inputs = keras.Input(shape=(sequence_length, raw_data.shape[-1]))\n",
        "x = layers.Conv1D(8, 24, activation=\"relu\")(inputs)\n",
        "x = layers.MaxPooling1D(2)(x)\n",
        "x = layers.Conv1D(8, 12, activation=\"relu\")(x)\n",
        "x = layers.MaxPooling1D(2)(x)\n",
        "x = layers.Conv1D(8, 6, activation=\"relu\")(x)\n",
        "x = layers.GlobalAveragePooling1D()(x)\n",
        "outputs = layers.Dense(1)(x)\n",
        "model = keras.Model(inputs, outputs)\n",
        "\n",
        "callbacks = [\n",
        "    keras.callbacks.ModelCheckpoint(\"jena_conv.keras\",\n",
        "                                    save_best_only=True)\n",
        "]\n",
        "model.compile(optimizer=\"rmsprop\", loss=\"mse\", metrics=[\"mae\"])\n",
        "history = model.fit(train_dataset,\n",
        "                    epochs=10,\n",
        "                    validation_data=val_dataset,\n",
        "                    callbacks=callbacks)\n",
        "model = keras.models.load_model(\"jena_conv.keras\")\n",
        "print(f\"Test MAE: {model.evaluate(test_dataset)[1]:.2f}\")"
      ],
      "metadata": {
        "colab": {
          "base_uri": "https://localhost:8080/"
        },
        "id": "X16SbufpNe0n",
        "outputId": "03c4efb7-dff9-4ae9-981a-15300a333e08"
      },
      "execution_count": 15,
      "outputs": [
        {
          "output_type": "stream",
          "name": "stdout",
          "text": [
            "Epoch 1/10\n",
            "210/210 [==============================] - 51s 207ms/step - loss: 30.5949 - mae: 4.3108 - val_loss: 20.2003 - val_mae: 3.5395\n",
            "Epoch 2/10\n",
            "210/210 [==============================] - 42s 196ms/step - loss: 20.3290 - mae: 3.5905 - val_loss: 16.7571 - val_mae: 3.2393\n",
            "Epoch 3/10\n",
            "210/210 [==============================] - 43s 196ms/step - loss: 18.1486 - mae: 3.3892 - val_loss: 18.5374 - val_mae: 3.3631\n",
            "Epoch 4/10\n",
            "210/210 [==============================] - 43s 203ms/step - loss: 17.0843 - mae: 3.2828 - val_loss: 16.1241 - val_mae: 3.1975\n",
            "Epoch 5/10\n",
            "210/210 [==============================] - 51s 237ms/step - loss: 16.2402 - mae: 3.1973 - val_loss: 17.1049 - val_mae: 3.2971\n",
            "Epoch 6/10\n",
            "210/210 [==============================] - 44s 201ms/step - loss: 15.7038 - mae: 3.1406 - val_loss: 14.8177 - val_mae: 3.0485\n",
            "Epoch 7/10\n",
            "210/210 [==============================] - 52s 242ms/step - loss: 15.2625 - mae: 3.0936 - val_loss: 14.6367 - val_mae: 3.0035\n",
            "Epoch 8/10\n",
            "210/210 [==============================] - 50s 231ms/step - loss: 14.9585 - mae: 3.0599 - val_loss: 14.9228 - val_mae: 3.0760\n",
            "Epoch 9/10\n",
            "210/210 [==============================] - 43s 202ms/step - loss: 14.6775 - mae: 3.0313 - val_loss: 14.5460 - val_mae: 3.0105\n",
            "Epoch 10/10\n",
            "210/210 [==============================] - 50s 235ms/step - loss: 14.4432 - mae: 3.0033 - val_loss: 15.4894 - val_mae: 3.0813\n",
            "104/104 [==============================] - 15s 131ms/step - loss: 16.2584 - mae: 3.2078\n",
            "Test MAE: 3.21\n"
          ]
        }
      ]
    },
    {
      "cell_type": "markdown",
      "source": [
        "A simple LSTM-based model"
      ],
      "metadata": {
        "id": "NpBtB4tvfxvQ"
      }
    },
    {
      "cell_type": "code",
      "source": [
        "inputs = keras.Input(shape=(sequence_length, raw_data.shape[-1]))\n",
        "x = layers.LSTM(16)(inputs)\n",
        "outputs = layers.Dense(1)(x)\n",
        "model = keras.Model(inputs, outputs)\n",
        "\n",
        "callbacks = [\n",
        "    keras.callbacks.ModelCheckpoint(\"jena_lstm.keras\",\n",
        "                                    save_best_only=True)\n",
        "]\n",
        "model.compile(optimizer=\"rmsprop\", loss=\"mse\", metrics=[\"mae\"])\n",
        "history = model.fit(train_dataset,\n",
        "                    epochs=10,\n",
        "                    validation_data=val_dataset,\n",
        "                    callbacks=callbacks)\n",
        "\n",
        "model = keras.models.load_model(\"jena_lstm.keras\")\n",
        "print(f\"Test MAE: {model.evaluate(test_dataset)[1]:.2f}\")"
      ],
      "metadata": {
        "colab": {
          "base_uri": "https://localhost:8080/"
        },
        "id": "_DPeFPlhQRNH",
        "outputId": "43ed7f30-6feb-4158-c0e7-aaace0447b01"
      },
      "execution_count": 25,
      "outputs": [
        {
          "output_type": "stream",
          "name": "stdout",
          "text": [
            "Epoch 1/10\n",
            "210/210 [==============================] - 47s 208ms/step - loss: 81.7681 - mae: 7.1307 - val_loss: 50.7714 - val_mae: 5.4139\n",
            "Epoch 2/10\n",
            "210/210 [==============================] - 44s 207ms/step - loss: 38.6768 - mae: 4.6481 - val_loss: 28.0644 - val_mae: 3.9175\n",
            "Epoch 3/10\n",
            "210/210 [==============================] - 45s 210ms/step - loss: 22.4440 - mae: 3.5178 - val_loss: 17.0348 - val_mae: 3.0794\n",
            "Epoch 4/10\n",
            "210/210 [==============================] - 52s 243ms/step - loss: 14.8492 - mae: 2.9256 - val_loss: 12.1338 - val_mae: 2.6597\n",
            "Epoch 5/10\n",
            "210/210 [==============================] - 45s 209ms/step - loss: 11.7535 - mae: 2.6573 - val_loss: 10.4592 - val_mae: 2.5007\n",
            "Epoch 6/10\n",
            "210/210 [==============================] - 45s 209ms/step - loss: 10.5867 - mae: 2.5426 - val_loss: 10.0920 - val_mae: 2.4582\n",
            "Epoch 7/10\n",
            "210/210 [==============================] - 52s 244ms/step - loss: 10.1288 - mae: 2.4911 - val_loss: 9.8568 - val_mae: 2.4392\n",
            "Epoch 8/10\n",
            "210/210 [==============================] - 52s 242ms/step - loss: 9.9152 - mae: 2.4653 - val_loss: 9.9797 - val_mae: 2.4418\n",
            "Epoch 9/10\n",
            "210/210 [==============================] - 44s 207ms/step - loss: 9.7507 - mae: 2.4412 - val_loss: 10.1740 - val_mae: 2.4714\n",
            "Epoch 10/10\n",
            "210/210 [==============================] - 51s 240ms/step - loss: 9.6043 - mae: 2.4198 - val_loss: 10.0841 - val_mae: 2.4532\n",
            "104/104 [==============================] - 15s 130ms/step - loss: 11.1873 - mae: 2.6108\n",
            "Test MAE: 2.61\n"
          ]
        }
      ]
    },
    {
      "cell_type": "markdown",
      "source": [
        "NumPy implementation of a simple RNN"
      ],
      "metadata": {
        "id": "jBjSsAOtf3sb"
      }
    },
    {
      "cell_type": "code",
      "source": [
        "import numpy as np\n",
        "timesteps = 100\n",
        "input_features = 32\n",
        "output_features = 64\n",
        "inputs = np.random.random((timesteps, input_features))\n",
        "state_t = np.zeros((output_features,))\n",
        "W = np.random.random((output_features, input_features))\n",
        "U = np.random.random((output_features, output_features))\n",
        "b = np.random.random((output_features,))\n",
        "successive_outputs = []\n",
        "for input_t in inputs:\n",
        "    output_t = np.tanh(np.dot(W, input_t) + np.dot(U, state_t) + b)\n",
        "    successive_outputs.append(output_t)\n",
        "    state_t = output_t\n",
        "final_output_sequence = np.stack(successive_outputs, axis=0)"
      ],
      "metadata": {
        "id": "vBUO9ofESl7-"
      },
      "execution_count": 14,
      "outputs": []
    },
    {
      "cell_type": "markdown",
      "source": [
        "An RNN layer that can process sequences of any length"
      ],
      "metadata": {
        "id": "-eku4Z0hf7_Y"
      }
    },
    {
      "cell_type": "code",
      "source": [
        "from tensorflow import keras\n",
        "from tensorflow.keras import layers\n",
        "num_features = 14\n",
        "inputs = keras.Input(shape=(None, num_features))\n",
        "outputs = layers.SimpleRNN(16)(inputs)\n",
        "model = keras.Model(inputs, outputs)\n",
        "\n",
        "callbacks = [\n",
        "    keras.callbacks.ModelCheckpoint(\"jena_SimpleRNN.keras\",\n",
        "                                    save_best_only=True)\n",
        "]\n",
        "model.compile(optimizer=\"rmsprop\", loss=\"mse\", metrics=[\"mae\"])\n",
        "history = model.fit(train_dataset,\n",
        "                    epochs=10,\n",
        "                    validation_data=val_dataset,\n",
        "                    callbacks=callbacks)\n",
        "\n",
        "model = keras.models.load_model(\"jena_SimpleRNN.keras\")\n",
        "print(f\"Test MAE: {model.evaluate(test_dataset)[1]:.2f}\")"
      ],
      "metadata": {
        "colab": {
          "base_uri": "https://localhost:8080/"
        },
        "id": "8us02FaqStmg",
        "outputId": "7e6c3023-190b-44cb-bf33-6fc7f295711a"
      },
      "execution_count": 16,
      "outputs": [
        {
          "output_type": "stream",
          "name": "stdout",
          "text": [
            "Epoch 1/10\n",
            "210/210 [==============================] - 73s 318ms/step - loss: 145.7529 - mae: 10.0117 - val_loss: 146.8775 - val_mae: 10.0344\n",
            "Epoch 2/10\n",
            "210/210 [==============================] - 66s 310ms/step - loss: 137.6751 - mae: 9.6222 - val_loss: 144.3736 - val_mae: 9.9124\n",
            "Epoch 3/10\n",
            "210/210 [==============================] - 66s 307ms/step - loss: 136.5845 - mae: 9.5681 - val_loss: 144.0917 - val_mae: 9.8994\n",
            "Epoch 4/10\n",
            "210/210 [==============================] - 66s 310ms/step - loss: 136.3588 - mae: 9.5541 - val_loss: 143.8977 - val_mae: 9.8877\n",
            "Epoch 5/10\n",
            "210/210 [==============================] - 69s 322ms/step - loss: 136.2952 - mae: 9.5507 - val_loss: 143.8303 - val_mae: 9.8778\n",
            "Epoch 6/10\n",
            "210/210 [==============================] - 66s 307ms/step - loss: 136.2620 - mae: 9.5483 - val_loss: 143.7696 - val_mae: 9.8732\n",
            "Epoch 7/10\n",
            "210/210 [==============================] - 69s 322ms/step - loss: 136.2439 - mae: 9.5468 - val_loss: 143.7720 - val_mae: 9.8739\n",
            "Epoch 8/10\n",
            "210/210 [==============================] - 65s 303ms/step - loss: 136.2563 - mae: 9.5476 - val_loss: 143.7988 - val_mae: 9.8826\n",
            "Epoch 9/10\n",
            "210/210 [==============================] - 65s 305ms/step - loss: 136.2254 - mae: 9.5450 - val_loss: 143.6157 - val_mae: 9.8574\n",
            "Epoch 10/10\n",
            "210/210 [==============================] - 67s 315ms/step - loss: 136.1951 - mae: 9.5425 - val_loss: 143.6043 - val_mae: 9.8570\n",
            "104/104 [==============================] - 17s 148ms/step - loss: 151.3441 - mae: 9.9253\n",
            "Test MAE: 9.93\n"
          ]
        }
      ]
    },
    {
      "cell_type": "markdown",
      "source": [
        "Model with Stacking RNN layers"
      ],
      "metadata": {
        "id": "iJ54pg39gImt"
      }
    },
    {
      "cell_type": "code",
      "source": [
        "\n",
        "num_features = 14\n",
        "steps = 120\n",
        "inputs = keras.Input(shape=(steps, num_features))\n",
        "x = layers.SimpleRNN(16, return_sequences=True)(inputs)\n",
        "x = layers.SimpleRNN(16, return_sequences=True)(x)\n",
        "outputs = layers.SimpleRNN(16)(x)\n",
        "model = keras.Model(inputs, outputs)\n",
        "\n",
        "callbacks = [\n",
        "    keras.callbacks.ModelCheckpoint(\"jena_SimpleRNN2.keras\",\n",
        "                                    save_best_only=True)\n",
        "]\n",
        "model.compile(optimizer=\"rmsprop\", loss=\"mse\", metrics=[\"mae\"])\n",
        "history = model.fit(train_dataset,\n",
        "                    epochs=10,\n",
        "                    validation_data=val_dataset,\n",
        "                    callbacks=callbacks)\n",
        "\n",
        "model = keras.models.load_model(\"jena_SimpleRNN2.keras\")\n",
        "print(f\"Test MAE: {model.evaluate(test_dataset)[1]:.2f}\")"
      ],
      "metadata": {
        "id": "PKrqZgEeS5bK",
        "colab": {
          "base_uri": "https://localhost:8080/"
        },
        "outputId": "c3ceb804-cf30-4de5-e3eb-7b75b9ad45c0"
      },
      "execution_count": 23,
      "outputs": [
        {
          "output_type": "stream",
          "name": "stdout",
          "text": [
            "Epoch 1/10\n",
            "210/210 [==============================] - 146s 675ms/step - loss: 138.3694 - mae: 9.6435 - val_loss: 143.5481 - val_mae: 9.8528\n",
            "Epoch 2/10\n",
            "210/210 [==============================] - 141s 665ms/step - loss: 136.0678 - mae: 9.5288 - val_loss: 143.4618 - val_mae: 9.8404\n",
            "Epoch 3/10\n",
            "210/210 [==============================] - 141s 666ms/step - loss: 136.0157 - mae: 9.5224 - val_loss: 143.4793 - val_mae: 9.8436\n",
            "Epoch 4/10\n",
            "210/210 [==============================] - 138s 651ms/step - loss: 135.9828 - mae: 9.5178 - val_loss: 143.4746 - val_mae: 9.8433\n",
            "Epoch 5/10\n",
            "210/210 [==============================] - 138s 653ms/step - loss: 135.9686 - mae: 9.5157 - val_loss: 143.4608 - val_mae: 9.8422\n",
            "Epoch 6/10\n",
            "210/210 [==============================] - 137s 647ms/step - loss: 135.9446 - mae: 9.5122 - val_loss: 143.4656 - val_mae: 9.8424\n",
            "Epoch 7/10\n",
            "210/210 [==============================] - 137s 648ms/step - loss: 135.9223 - mae: 9.5099 - val_loss: 143.4525 - val_mae: 9.8408\n",
            "Epoch 8/10\n",
            "210/210 [==============================] - 138s 648ms/step - loss: 135.9062 - mae: 9.5074 - val_loss: 143.4312 - val_mae: 9.8358\n",
            "Epoch 9/10\n",
            "210/210 [==============================] - 138s 654ms/step - loss: 135.8896 - mae: 9.5047 - val_loss: 143.4563 - val_mae: 9.8412\n",
            "Epoch 10/10\n",
            "210/210 [==============================] - 136s 642ms/step - loss: 135.8812 - mae: 9.5032 - val_loss: 143.4426 - val_mae: 9.8416\n",
            "104/104 [==============================] - 20s 174ms/step - loss: 151.1609 - mae: 9.9058\n",
            "Test MAE: 9.91\n"
          ]
        }
      ]
    },
    {
      "cell_type": "markdown",
      "source": [
        "**Using recurrent dropout to fight overfitting**\n",
        "\n",
        "Training and evaluating a dropout-regularized LSTM"
      ],
      "metadata": {
        "id": "S-3vhXCQgQ-o"
      }
    },
    {
      "cell_type": "code",
      "source": [
        "inputs = keras.Input(shape=(sequence_length, raw_data.shape[-1]))\n",
        "x = layers.LSTM(32, recurrent_dropout=0.25)(inputs)\n",
        "x = layers.Dropout(0.5)(x)\n",
        "outputs = layers.Dense(1)(x)\n",
        "model = keras.Model(inputs, outputs)\n",
        "\n",
        "callbacks = [\n",
        "    keras.callbacks.ModelCheckpoint(\"jena_lstm_dropout.keras\",\n",
        "                                    save_best_only=True)\n",
        "]\n",
        "model.compile(optimizer=\"rmsprop\", loss=\"mse\", metrics=[\"mae\"])\n",
        "history = model.fit(train_dataset,\n",
        "                    epochs=10,\n",
        "                    validation_data=val_dataset,\n",
        "                    callbacks=callbacks)\n",
        "model = keras.models.load_model(\"jena_lstm_dropout.keras\")\n",
        "print(f\"Test MAE: {model.evaluate(test_dataset)[1]:.2f}\")"
      ],
      "metadata": {
        "colab": {
          "base_uri": "https://localhost:8080/"
        },
        "id": "QuWx9qPqTGme",
        "outputId": "70057872-2d46-42d4-cdc6-5b1756367374"
      },
      "execution_count": 36,
      "outputs": [
        {
          "output_type": "stream",
          "name": "stderr",
          "text": [
            "WARNING:tensorflow:Layer lstm_20 will not use cuDNN kernels since it doesn't meet the criteria. It will use a generic GPU kernel as fallback when running on GPU.\n"
          ]
        },
        {
          "output_type": "stream",
          "name": "stdout",
          "text": [
            "Epoch 1/10\n",
            "210/210 [==============================] - 158s 730ms/step - loss: 51.4263 - mae: 5.3796 - val_loss: 18.2623 - val_mae: 3.1764\n",
            "Epoch 2/10\n",
            "210/210 [==============================] - 155s 733ms/step - loss: 19.1554 - mae: 3.3526 - val_loss: 11.0772 - val_mae: 2.5582\n",
            "Epoch 3/10\n",
            "210/210 [==============================] - 153s 727ms/step - loss: 15.9235 - mae: 3.0979 - val_loss: 9.8991 - val_mae: 2.4421\n",
            "Epoch 4/10\n",
            "210/210 [==============================] - 147s 692ms/step - loss: 15.0017 - mae: 3.0066 - val_loss: 10.3422 - val_mae: 2.5081\n",
            "Epoch 5/10\n",
            "210/210 [==============================] - 146s 693ms/step - loss: 14.5450 - mae: 2.9598 - val_loss: 9.5588 - val_mae: 2.3980\n",
            "Epoch 6/10\n",
            "210/210 [==============================] - 145s 687ms/step - loss: 14.2084 - mae: 2.9253 - val_loss: 9.6903 - val_mae: 2.4123\n",
            "Epoch 7/10\n",
            "210/210 [==============================] - 147s 698ms/step - loss: 13.9665 - mae: 2.8939 - val_loss: 9.5941 - val_mae: 2.4012\n",
            "Epoch 8/10\n",
            "210/210 [==============================] - 147s 695ms/step - loss: 13.6916 - mae: 2.8649 - val_loss: 9.5443 - val_mae: 2.3981\n",
            "Epoch 9/10\n",
            "210/210 [==============================] - 144s 680ms/step - loss: 13.4759 - mae: 2.8426 - val_loss: 9.6381 - val_mae: 2.4038\n",
            "Epoch 10/10\n",
            "210/210 [==============================] - 150s 713ms/step - loss: 13.1276 - mae: 2.8115 - val_loss: 9.6804 - val_mae: 2.4100\n"
          ]
        },
        {
          "output_type": "stream",
          "name": "stderr",
          "text": [
            "WARNING:tensorflow:Layer lstm_20 will not use cuDNN kernels since it doesn't meet the criteria. It will use a generic GPU kernel as fallback when running on GPU.\n"
          ]
        },
        {
          "output_type": "stream",
          "name": "stdout",
          "text": [
            "104/104 [==============================] - 19s 168ms/step - loss: 10.7096 - mae: 2.5948\n",
            "Test MAE: 2.59\n"
          ]
        }
      ]
    },
    {
      "cell_type": "code",
      "source": [
        "inputs = keras.Input(shape=(sequence_length, num_features))\n",
        "x = layers.LSTM(32, recurrent_dropout=0.2, unroll=True)(inputs)\n"
      ],
      "metadata": {
        "colab": {
          "base_uri": "https://localhost:8080/"
        },
        "id": "Dt8gURlaTKzS",
        "outputId": "8387f977-dfb5-431d-ff4d-74ef498f9d74"
      },
      "execution_count": 23,
      "outputs": [
        {
          "output_type": "stream",
          "name": "stderr",
          "text": [
            "WARNING:tensorflow:Layer lstm_1 will not use cuDNN kernels since it doesn't meet the criteria. It will use a generic GPU kernel as fallback when running on GPU.\n"
          ]
        }
      ]
    },
    {
      "cell_type": "markdown",
      "source": [
        "Simple LSTM model with increased units"
      ],
      "metadata": {
        "id": "CenuF4IlgyCh"
      }
    },
    {
      "cell_type": "code",
      "source": [
        "inputs = keras.Input(shape=(sequence_length, raw_data.shape[-1]))\n",
        "x = layers.LSTM(32)(inputs)\n",
        "outputs = layers.Dense(1)(x)\n",
        "model = keras.Model(inputs, outputs)\n",
        "\n",
        "callbacks = [\n",
        "    keras.callbacks.ModelCheckpoint(\"jena_lstmincreased_units.keras\",\n",
        "                                    save_best_only=True)\n",
        "]\n",
        "model.compile(optimizer=\"rmsprop\", loss=\"mse\", metrics=[\"mae\"])\n",
        "history = model.fit(train_dataset,\n",
        "                    epochs=10,\n",
        "                    validation_data=val_dataset,\n",
        "                    callbacks=callbacks)\n",
        "\n",
        "model = keras.models.load_model(\"jena_lstmincreased_units.keras\")\n",
        "print(f\"Test MAE: {model.evaluate(test_dataset)[1]:.2f}\")"
      ],
      "metadata": {
        "colab": {
          "base_uri": "https://localhost:8080/"
        },
        "id": "dJ7gcgYdmpKD",
        "outputId": "c011d427-0b5e-4dd8-9b8e-b566bce7e503"
      },
      "execution_count": 38,
      "outputs": [
        {
          "output_type": "stream",
          "name": "stdout",
          "text": [
            "Epoch 1/10\n",
            "210/210 [==============================] - 47s 210ms/step - loss: 47.2314 - mae: 5.1162 - val_loss: 18.7528 - val_mae: 3.2180\n",
            "Epoch 2/10\n",
            "210/210 [==============================] - 52s 242ms/step - loss: 14.3665 - mae: 2.8773 - val_loss: 10.7968 - val_mae: 2.5274\n",
            "Epoch 3/10\n",
            "210/210 [==============================] - 53s 244ms/step - loss: 10.3164 - mae: 2.5057 - val_loss: 9.9870 - val_mae: 2.4444\n",
            "Epoch 4/10\n",
            "210/210 [==============================] - 53s 250ms/step - loss: 9.5718 - mae: 2.4175 - val_loss: 10.1476 - val_mae: 2.4693\n",
            "Epoch 5/10\n",
            "210/210 [==============================] - 51s 235ms/step - loss: 9.2417 - mae: 2.3723 - val_loss: 9.8215 - val_mae: 2.4320\n",
            "Epoch 6/10\n",
            "210/210 [==============================] - 45s 210ms/step - loss: 8.7894 - mae: 2.3125 - val_loss: 9.9166 - val_mae: 2.4514\n",
            "Epoch 7/10\n",
            "210/210 [==============================] - 54s 253ms/step - loss: 8.4791 - mae: 2.2695 - val_loss: 10.5074 - val_mae: 2.5025\n",
            "Epoch 8/10\n",
            "210/210 [==============================] - 51s 237ms/step - loss: 8.2399 - mae: 2.2360 - val_loss: 9.9552 - val_mae: 2.4482\n",
            "Epoch 9/10\n",
            "210/210 [==============================] - 45s 209ms/step - loss: 8.0637 - mae: 2.2116 - val_loss: 10.3406 - val_mae: 2.5046\n",
            "Epoch 10/10\n",
            "210/210 [==============================] - 44s 208ms/step - loss: 7.8493 - mae: 2.1838 - val_loss: 10.2347 - val_mae: 2.4809\n",
            "104/104 [==============================] - 15s 133ms/step - loss: 10.8701 - mae: 2.5839\n",
            "Test MAE: 2.58\n"
          ]
        }
      ]
    },
    {
      "cell_type": "markdown",
      "source": [
        "LSTM Model- Stacked setup with 16 units"
      ],
      "metadata": {
        "id": "PL6f3n5ehC3b"
      }
    },
    {
      "cell_type": "code",
      "source": [
        "inputs = keras.Input(shape=(sequence_length, raw_data.shape[-1]))\n",
        "x = layers.LSTM(16, return_sequences=True)(inputs)\n",
        "x = layers.LSTM(16, return_sequences=True)(x)\n",
        "x = layers.LSTM(16, return_sequences=True)(x)\n",
        "x = layers.LSTM(16)(inputs)\n",
        "outputs = layers.Dense(1)(x)\n",
        "model = keras.Model(inputs, outputs)\n",
        "\n",
        "callbacks = [\n",
        "    keras.callbacks.ModelCheckpoint(\"jena_lstm_stacked.keras\",\n",
        "                                    save_best_only=True)\n",
        "]\n",
        "model.compile(optimizer=\"rmsprop\", loss=\"mse\", metrics=[\"mae\"])\n",
        "history = model.fit(train_dataset,\n",
        "                    epochs=10,\n",
        "                    validation_data=val_dataset,\n",
        "                    callbacks=callbacks)\n",
        "\n",
        "model = keras.models.load_model(\"jena_lstm_stacked.keras\")\n",
        "print(f\"Test MAE: {model.evaluate(test_dataset)[1]:.2f}\")"
      ],
      "metadata": {
        "colab": {
          "base_uri": "https://localhost:8080/"
        },
        "id": "rnSdvGmXRkEC",
        "outputId": "a3df7fc7-e3af-49ac-ad1f-5f6b581e4363"
      },
      "execution_count": 24,
      "outputs": [
        {
          "output_type": "stream",
          "name": "stdout",
          "text": [
            "Epoch 1/10\n",
            "210/210 [==============================] - 55s 242ms/step - loss: 81.7995 - mae: 7.1463 - val_loss: 49.3227 - val_mae: 5.3483\n",
            "Epoch 2/10\n",
            "210/210 [==============================] - 44s 204ms/step - loss: 37.9694 - mae: 4.6175 - val_loss: 27.3070 - val_mae: 3.8762\n",
            "Epoch 3/10\n",
            "210/210 [==============================] - 43s 200ms/step - loss: 22.0912 - mae: 3.4992 - val_loss: 16.4546 - val_mae: 3.0350\n",
            "Epoch 4/10\n",
            "210/210 [==============================] - 50s 233ms/step - loss: 14.5832 - mae: 2.9024 - val_loss: 11.6596 - val_mae: 2.6139\n",
            "Epoch 5/10\n",
            "210/210 [==============================] - 51s 238ms/step - loss: 11.6288 - mae: 2.6397 - val_loss: 10.0960 - val_mae: 2.4658\n",
            "Epoch 6/10\n",
            "210/210 [==============================] - 51s 241ms/step - loss: 10.5485 - mae: 2.5282 - val_loss: 9.6415 - val_mae: 2.4143\n",
            "Epoch 7/10\n",
            "210/210 [==============================] - 43s 199ms/step - loss: 10.1150 - mae: 2.4792 - val_loss: 9.6895 - val_mae: 2.4189\n",
            "Epoch 8/10\n",
            "210/210 [==============================] - 43s 196ms/step - loss: 9.8657 - mae: 2.4477 - val_loss: 9.6448 - val_mae: 2.4098\n",
            "Epoch 9/10\n",
            "210/210 [==============================] - 51s 240ms/step - loss: 9.6810 - mae: 2.4223 - val_loss: 9.8946 - val_mae: 2.4320\n",
            "Epoch 10/10\n",
            "210/210 [==============================] - 44s 207ms/step - loss: 9.5592 - mae: 2.4080 - val_loss: 10.1582 - val_mae: 2.4439\n",
            "104/104 [==============================] - 15s 129ms/step - loss: 11.6260 - mae: 2.6277\n",
            "Test MAE: 2.63\n"
          ]
        }
      ]
    },
    {
      "cell_type": "code",
      "source": [
        "import matplotlib.pyplot as plt\n",
        "loss = history.history[\"mae\"]\n",
        "val_loss = history.history[\"val_mae\"]\n",
        "epochs = range(1, len(loss) + 1)\n",
        "plt.figure()\n",
        "plt.plot(epochs, loss, \"bo\", label=\"Training MAE\")\n",
        "plt.plot(epochs, val_loss, \"b\", label=\"Validation MAE\")\n",
        "plt.title(\"Training and validation MAE\")\n",
        "plt.legend()\n",
        "plt.show()"
      ],
      "metadata": {
        "colab": {
          "base_uri": "https://localhost:8080/",
          "height": 452
        },
        "id": "mYgAAjYvcsvt",
        "outputId": "a5977c01-9715-4be5-9f7c-1892280fa016"
      },
      "execution_count": 28,
      "outputs": [
        {
          "output_type": "display_data",
          "data": {
            "text/plain": [
              "<Figure size 640x480 with 1 Axes>"
            ],
            "image/png": "[encoded data removed]"
          },
          "metadata": {}
        }
      ]
    },
    {
      "cell_type": "markdown",
      "source": [
        "LSTM Model- Stacked setup with 32 units"
      ],
      "metadata": {
        "id": "AaakdPQXh4FZ"
      }
    },
    {
      "cell_type": "code",
      "source": [
        "inputs = keras.Input(shape=(sequence_length, raw_data.shape[-1]))\n",
        "x = layers.LSTM(32, return_sequences=True)(inputs)\n",
        "x = layers.LSTM(32, return_sequences=True)(x)\n",
        "x = layers.LSTM(32, return_sequences=True)(x)\n",
        "x = layers.LSTM(32)(inputs)\n",
        "outputs = layers.Dense(1)(x)\n",
        "model = keras.Model(inputs, outputs)\n",
        "\n",
        "callbacks = [\n",
        "    keras.callbacks.ModelCheckpoint(\"jena_lstm_stacked_adjustedunits1.keras\",\n",
        "                                    save_best_only=True)\n",
        "]\n",
        "model.compile(optimizer=\"rmsprop\", loss=\"mse\", metrics=[\"mae\"])\n",
        "history = model.fit(train_dataset,\n",
        "                    epochs=10,\n",
        "                    validation_data=val_dataset,\n",
        "                    callbacks=callbacks)\n",
        "\n",
        "model = keras.models.load_model(\"jena_lstm_stacked_adjustedunits1.keras\")\n",
        "print(f\"Test MAE: {model.evaluate(test_dataset)[1]:.2f}\")"
      ],
      "metadata": {
        "colab": {
          "base_uri": "https://localhost:8080/"
        },
        "id": "08IrXv3OwRjp",
        "outputId": "19f8e27c-1c08-4d29-855f-b28b593e632e"
      },
      "execution_count": 26,
      "outputs": [
        {
          "output_type": "stream",
          "name": "stdout",
          "text": [
            "Epoch 1/10\n",
            "210/210 [==============================] - 55s 244ms/step - loss: 52.3248 - mae: 5.4317 - val_loss: 22.8053 - val_mae: 3.5408\n",
            "Epoch 2/10\n",
            "210/210 [==============================] - 43s 200ms/step - loss: 16.3282 - mae: 3.0403 - val_loss: 11.1889 - val_mae: 2.5571\n",
            "Epoch 3/10\n",
            "210/210 [==============================] - 44s 205ms/step - loss: 10.6511 - mae: 2.5366 - val_loss: 9.8210 - val_mae: 2.4278\n",
            "Epoch 4/10\n",
            "210/210 [==============================] - 45s 207ms/step - loss: 9.6327 - mae: 2.4137 - val_loss: 9.6138 - val_mae: 2.4157\n",
            "Epoch 5/10\n",
            "210/210 [==============================] - 45s 209ms/step - loss: 9.1214 - mae: 2.3512 - val_loss: 9.5675 - val_mae: 2.4117\n",
            "Epoch 6/10\n",
            "210/210 [==============================] - 51s 238ms/step - loss: 8.7694 - mae: 2.3069 - val_loss: 9.2759 - val_mae: 2.3825\n",
            "Epoch 7/10\n",
            "210/210 [==============================] - 45s 210ms/step - loss: 8.4218 - mae: 2.2602 - val_loss: 9.4957 - val_mae: 2.4005\n",
            "Epoch 8/10\n",
            "210/210 [==============================] - 55s 260ms/step - loss: 8.1443 - mae: 2.2193 - val_loss: 9.6198 - val_mae: 2.4314\n",
            "Epoch 9/10\n",
            "210/210 [==============================] - 46s 211ms/step - loss: 7.8796 - mae: 2.1830 - val_loss: 9.9950 - val_mae: 2.4503\n",
            "Epoch 10/10\n",
            "210/210 [==============================] - 44s 204ms/step - loss: 7.6731 - mae: 2.1547 - val_loss: 10.0371 - val_mae: 2.4606\n",
            "104/104 [==============================] - 15s 116ms/step - loss: 11.1532 - mae: 2.6338\n",
            "Test MAE: 2.63\n"
          ]
        }
      ]
    },
    {
      "cell_type": "markdown",
      "source": [
        "LSTM - Stacked setup with 64 units"
      ],
      "metadata": {
        "id": "SnVlHhvph72B"
      }
    },
    {
      "cell_type": "code",
      "source": [
        "inputs = keras.Input(shape=(sequence_length, raw_data.shape[-1]))\n",
        "x = layers.LSTM(64, return_sequences=True)(inputs)\n",
        "x = layers.LSTM(64, return_sequences=True)(x)\n",
        "x = layers.LSTM(64, return_sequences=True)(x)\n",
        "x = layers.LSTM(64)(inputs)\n",
        "outputs = layers.Dense(1)(x)\n",
        "model = keras.Model(inputs, outputs)\n",
        "\n",
        "callbacks = [\n",
        "    keras.callbacks.ModelCheckpoint(\"jena_lstm_stacked_adjustedunits2.keras\",\n",
        "                                    save_best_only=True)\n",
        "]\n",
        "model.compile(optimizer=\"rmsprop\", loss=\"mse\", metrics=[\"mae\"])\n",
        "history = model.fit(train_dataset,\n",
        "                    epochs=10,\n",
        "                    validation_data=val_dataset,\n",
        "                    callbacks=callbacks)\n",
        "\n",
        "model = keras.models.load_model(\"jena_lstm_stacked_adjustedunits2.keras\")\n",
        "print(f\"Test MAE: {model.evaluate(test_dataset)[1]:.2f}\")\n",
        "print(f\"Validation MAE: {val_mae[-1]:.2f}\")"
      ],
      "metadata": {
        "id": "90XCeiSZw9I1",
        "colab": {
          "base_uri": "https://localhost:8080/"
        },
        "outputId": "24709b0e-5993-434f-dcc0-02e81d5748eb"
      },
      "execution_count": 35,
      "outputs": [
        {
          "output_type": "stream",
          "name": "stdout",
          "text": [
            "Epoch 1/10\n",
            "210/210 [==============================] - 48s 204ms/step - loss: 29.4325 - mae: 3.9485 - val_loss: 10.9885 - val_mae: 2.5450\n",
            "Epoch 2/10\n",
            "210/210 [==============================] - 52s 242ms/step - loss: 10.1162 - mae: 2.4730 - val_loss: 10.0770 - val_mae: 2.4740\n",
            "Epoch 3/10\n",
            "210/210 [==============================] - 44s 208ms/step - loss: 8.7725 - mae: 2.3052 - val_loss: 10.1270 - val_mae: 2.4825\n",
            "Epoch 4/10\n",
            "210/210 [==============================] - 44s 207ms/step - loss: 7.9805 - mae: 2.1905 - val_loss: 10.3559 - val_mae: 2.5200\n",
            "Epoch 5/10\n",
            "210/210 [==============================] - 44s 204ms/step - loss: 7.3109 - mae: 2.0926 - val_loss: 10.2262 - val_mae: 2.5037\n",
            "Epoch 6/10\n",
            "210/210 [==============================] - 51s 234ms/step - loss: 6.7313 - mae: 2.0055 - val_loss: 11.3649 - val_mae: 2.6212\n",
            "Epoch 7/10\n",
            "210/210 [==============================] - 51s 240ms/step - loss: 6.1854 - mae: 1.9171 - val_loss: 11.7520 - val_mae: 2.6949\n",
            "Epoch 8/10\n",
            "210/210 [==============================] - 44s 201ms/step - loss: 5.7006 - mae: 1.8394 - val_loss: 12.0538 - val_mae: 2.6985\n",
            "Epoch 9/10\n",
            "210/210 [==============================] - 45s 212ms/step - loss: 5.2525 - mae: 1.7645 - val_loss: 13.2467 - val_mae: 2.8557\n",
            "Epoch 10/10\n",
            "210/210 [==============================] - 51s 240ms/step - loss: 4.9156 - mae: 1.7023 - val_loss: 12.6422 - val_mae: 2.7608\n",
            "104/104 [==============================] - 15s 133ms/step - loss: 10.6050 - mae: 2.5681\n",
            "Test MAE: 2.57\n",
            "Validation MAE: 2.46\n"
          ]
        }
      ]
    },
    {
      "cell_type": "markdown",
      "source": [
        "LSTM - Stacked setup with 8 units"
      ],
      "metadata": {
        "id": "A_eWWD4ih-4j"
      }
    },
    {
      "cell_type": "code",
      "source": [
        "inputs = keras.Input(shape=(sequence_length, raw_data.shape[-1]))\n",
        "x = layers.LSTM(8, return_sequences=True)(inputs)\n",
        "x = layers.LSTM(8, return_sequences=True)(x)\n",
        "x = layers.LSTM(8, return_sequences=True)(x)\n",
        "x = layers.LSTM(8)(inputs)\n",
        "outputs = layers.Dense(1)(x)\n",
        "model = keras.Model(inputs, outputs)\n",
        "\n",
        "callbacks = [\n",
        "    keras.callbacks.ModelCheckpoint(\"jena_lstm_stacked_adjustedunits3.keras\",\n",
        "                                    save_best_only=True)\n",
        "]\n",
        "model.compile(optimizer=\"rmsprop\", loss=\"mse\", metrics=[\"mae\"])\n",
        "history = model.fit(train_dataset,\n",
        "                    epochs=10,\n",
        "                    validation_data=val_dataset,\n",
        "                    callbacks=callbacks)\n",
        "\n",
        "model = keras.models.load_model(\"jena_lstm_stacked_adjustedunits3.keras\")\n",
        "print(f\"Test MAE: {model.evaluate(test_dataset)[1]:.2f}\")"
      ],
      "metadata": {
        "id": "41oxj_QHxGBs",
        "colab": {
          "base_uri": "https://localhost:8080/"
        },
        "outputId": "7ab3f09a-1650-4b8f-9b4f-aa3c367dc884"
      },
      "execution_count": 30,
      "outputs": [
        {
          "output_type": "stream",
          "name": "stdout",
          "text": [
            "Epoch 1/10\n",
            "210/210 [==============================] - 46s 205ms/step - loss: 109.6598 - mae: 8.5329 - val_loss: 78.5839 - val_mae: 6.9875\n",
            "Epoch 2/10\n",
            "210/210 [==============================] - 45s 210ms/step - loss: 63.2733 - mae: 6.1567 - val_loss: 52.7076 - val_mae: 5.5476\n",
            "Epoch 3/10\n",
            "210/210 [==============================] - 53s 246ms/step - loss: 45.8667 - mae: 5.1221 - val_loss: 38.2446 - val_mae: 4.6275\n",
            "Epoch 4/10\n",
            "210/210 [==============================] - 44s 204ms/step - loss: 33.7193 - mae: 4.3224 - val_loss: 27.9254 - val_mae: 3.9057\n",
            "Epoch 5/10\n",
            "210/210 [==============================] - 44s 206ms/step - loss: 25.5335 - mae: 3.7465 - val_loss: 20.9202 - val_mae: 3.3848\n",
            "Epoch 6/10\n",
            "210/210 [==============================] - 43s 202ms/step - loss: 20.0099 - mae: 3.3302 - val_loss: 16.2027 - val_mae: 2.9992\n",
            "Epoch 7/10\n",
            "210/210 [==============================] - 46s 216ms/step - loss: 16.4160 - mae: 3.0394 - val_loss: 13.2348 - val_mae: 2.7563\n",
            "Epoch 8/10\n",
            "210/210 [==============================] - 43s 203ms/step - loss: 14.2141 - mae: 2.8538 - val_loss: 11.5175 - val_mae: 2.6029\n",
            "Epoch 9/10\n",
            "210/210 [==============================] - 45s 207ms/step - loss: 12.8446 - mae: 2.7341 - val_loss: 10.7794 - val_mae: 2.5446\n",
            "Epoch 10/10\n",
            "210/210 [==============================] - 44s 205ms/step - loss: 11.8065 - mae: 2.6499 - val_loss: 10.3980 - val_mae: 2.5113\n",
            "104/104 [==============================] - 15s 131ms/step - loss: 12.8582 - mae: 2.7808\n",
            "Test MAE: 2.78\n"
          ]
        }
      ]
    },
    {
      "cell_type": "code",
      "source": [
        "#combining the 1D convolution network with RNN.\n",
        "inputs = keras.Input(shape=(sequence_length, raw_data.shape[-1]))\n",
        "x = layers.Conv1D(8, 24, activation=\"relu\")(inputs)\n",
        "x = layers.MaxPooling1D(2)(x)\n",
        "x = layers.Conv1D(8, 12, activation=\"relu\")(x)\n",
        "x = layers.MaxPooling1D(2)(x)\n",
        "x = layers.Conv1D(8, 6, activation=\"relu\")(x)\n",
        "x = layers.LSTM(16)(inputs)\n",
        "outputs = layers.Dense(1)(x)\n",
        "model = keras.Model(inputs, outputs)\n",
        "\n",
        "callbacks = [\n",
        "    keras.callbacks.ModelCheckpoint(\"combined_model.keras\",\n",
        "                                    save_best_only=True)\n",
        "]\n",
        "model.compile(optimizer=\"rmsprop\", loss=\"mse\", metrics=[\"mae\"])\n",
        "history = model.fit(train_dataset,\n",
        "                    epochs=10,\n",
        "                    validation_data=val_dataset,\n",
        "                    callbacks=callbacks)\n",
        "\n",
        "model = keras.models.load_model(\"jena_conv.keras\")\n",
        "print(f\"Test MAE: {model.evaluate(test_dataset)[1]:.2f}\")"
      ],
      "metadata": {
        "id": "glbL72Tyx3IM",
        "colab": {
          "base_uri": "https://localhost:8080/"
        },
        "outputId": "a0905717-2340-46d2-de74-6dbdc0a5ade2"
      },
      "execution_count": 31,
      "outputs": [
        {
          "output_type": "stream",
          "name": "stdout",
          "text": [
            "Epoch 1/10\n",
            "210/210 [==============================] - 53s 241ms/step - loss: 91.7918 - mae: 7.6494 - val_loss: 61.6875 - val_mae: 6.0639\n",
            "Epoch 2/10\n",
            "210/210 [==============================] - 46s 211ms/step - loss: 46.7254 - mae: 5.1598 - val_loss: 34.4218 - val_mae: 4.3772\n",
            "Epoch 3/10\n",
            "210/210 [==============================] - 43s 197ms/step - loss: 26.7016 - mae: 3.8318 - val_loss: 19.7737 - val_mae: 3.2948\n",
            "Epoch 4/10\n",
            "210/210 [==============================] - 44s 204ms/step - loss: 16.6242 - mae: 3.0742 - val_loss: 13.0883 - val_mae: 2.7368\n",
            "Epoch 5/10\n",
            "210/210 [==============================] - 44s 206ms/step - loss: 12.2795 - mae: 2.7013 - val_loss: 10.5918 - val_mae: 2.5160\n",
            "Epoch 6/10\n",
            "210/210 [==============================] - 55s 260ms/step - loss: 10.6537 - mae: 2.5403 - val_loss: 9.8507 - val_mae: 2.4435\n",
            "Epoch 7/10\n",
            "210/210 [==============================] - 44s 205ms/step - loss: 9.9912 - mae: 2.4672 - val_loss: 9.7257 - val_mae: 2.4231\n",
            "Epoch 8/10\n",
            "210/210 [==============================] - 44s 206ms/step - loss: 9.6002 - mae: 2.4229 - val_loss: 9.8454 - val_mae: 2.4436\n",
            "Epoch 9/10\n",
            "210/210 [==============================] - 51s 242ms/step - loss: 9.3238 - mae: 2.3907 - val_loss: 9.7985 - val_mae: 2.4415\n",
            "Epoch 10/10\n",
            "210/210 [==============================] - 43s 196ms/step - loss: 9.1333 - mae: 2.3669 - val_loss: 10.1983 - val_mae: 2.4854\n",
            "104/104 [==============================] - 15s 127ms/step - loss: 16.9231 - mae: 3.2681\n",
            "Test MAE: 3.27\n"
          ]
        }
      ]
    }
  ]
}