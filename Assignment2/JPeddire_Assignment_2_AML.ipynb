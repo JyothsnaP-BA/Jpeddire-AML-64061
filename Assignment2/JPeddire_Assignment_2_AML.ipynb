{
  "cells": [
    {
      "cell_type": "markdown",
      "source": [
        "# Data Load"
      ],
      "metadata": {
        "id": "mDgaNADDoHyZ"
      },
      "id": "mDgaNADDoHyZ"
    },
    {
      "cell_type": "code",
      "execution_count": 1,
      "metadata": {
        "colab": {
          "base_uri": "https://localhost:8080/",
          "height": 90
        },
        "id": "41b5c862-969e-45c7-a735-670703bbdc48",
        "outputId": "b4cfb08c-f631-40cd-f3c7-aa6c4159c683"
      },
      "outputs": [
        {
          "output_type": "display_data",
          "data": {
            "text/plain": [
              "<IPython.core.display.HTML object>"
            ],
            "text/html": [
              "\n",
              "     <input type=\"file\" id=\"files-87af4302-4218-4bd8-b59e-7d62dcaae546\" name=\"files[]\" multiple disabled\n",
              "        style=\"border:none\" />\n",
              "     <output id=\"result-87af4302-4218-4bd8-b59e-7d62dcaae546\">\n",
              "      Upload widget is only available when the cell has been executed in the\n",
              "      current browser session. Please rerun this cell to enable.\n",
              "      </output>\n",
              "      <script>// Copyright 2017 Google LLC\n",
              "//\n",
              "// Licensed under the Apache License, Version 2.0 (the \"License\");\n",
              "// you may not use this file except in compliance with the License.\n",
              "// You may obtain a copy of the License at\n",
              "//\n",
              "//      http://www.apache.org/licenses/LICENSE-2.0\n",
              "//\n",
              "// Unless required by applicable law or agreed to in writing, software\n",
              "// distributed under the License is distributed on an \"AS IS\" BASIS,\n",
              "// WITHOUT WARRANTIES OR CONDITIONS OF ANY KIND, either express or implied.\n",
              "// See the License for the specific language governing permissions and\n",
              "// limitations under the License.\n",
              "\n",
              "/**\n",
              " * @fileoverview Helpers for google.colab Python module.\n",
              " */\n",
              "(function(scope) {\n",
              "function span(text, styleAttributes = {}) {\n",
              "  const element = document.createElement('span');\n",
              "  element.textContent = text;\n",
              "  for (const key of Object.keys(styleAttributes)) {\n",
              "    element.style[key] = styleAttributes[key];\n",
              "  }\n",
              "  return element;\n",
              "}\n",
              "\n",
              "// Max number of bytes which will be uploaded at a time.\n",
              "const MAX_PAYLOAD_SIZE = 100 * 1024;\n",
              "\n",
              "function _uploadFiles(inputId, outputId) {\n",
              "  const steps = uploadFilesStep(inputId, outputId);\n",
              "  const outputElement = document.getElementById(outputId);\n",
              "  // Cache steps on the outputElement to make it available for the next call\n",
              "  // to uploadFilesContinue from Python.\n",
              "  outputElement.steps = steps;\n",
              "\n",
              "  return _uploadFilesContinue(outputId);\n",
              "}\n",
              "\n",
              "// This is roughly an async generator (not supported in the browser yet),\n",
              "// where there are multiple asynchronous steps and the Python side is going\n",
              "// to poll for completion of each step.\n",
              "// This uses a Promise to block the python side on completion of each step,\n",
              "// then passes the result of the previous step as the input to the next step.\n",
              "function _uploadFilesContinue(outputId) {\n",
              "  const outputElement = document.getElementById(outputId);\n",
              "  const steps = outputElement.steps;\n",
              "\n",
              "  const next = steps.next(outputElement.lastPromiseValue);\n",
              "  return Promise.resolve(next.value.promise).then((value) => {\n",
              "    // Cache the last promise value to make it available to the next\n",
              "    // step of the generator.\n",
              "    outputElement.lastPromiseValue = value;\n",
              "    return next.value.response;\n",
              "  });\n",
              "}\n",
              "\n",
              "/**\n",
              " * Generator function which is called between each async step of the upload\n",
              " * process.\n",
              " * @param {string} inputId Element ID of the input file picker element.\n",
              " * @param {string} outputId Element ID of the output display.\n",
              " * @return {!Iterable<!Object>} Iterable of next steps.\n",
              " */\n",
              "function* uploadFilesStep(inputId, outputId) {\n",
              "  const inputElement = document.getElementById(inputId);\n",
              "  inputElement.disabled = false;\n",
              "\n",
              "  const outputElement = document.getElementById(outputId);\n",
              "  outputElement.innerHTML = '';\n",
              "\n",
              "  const pickedPromise = new Promise((resolve) => {\n",
              "    inputElement.addEventListener('change', (e) => {\n",
              "      resolve(e.target.files);\n",
              "    });\n",
              "  });\n",
              "\n",
              "  const cancel = document.createElement('button');\n",
              "  inputElement.parentElement.appendChild(cancel);\n",
              "  cancel.textContent = 'Cancel upload';\n",
              "  const cancelPromise = new Promise((resolve) => {\n",
              "    cancel.onclick = () => {\n",
              "      resolve(null);\n",
              "    };\n",
              "  });\n",
              "\n",
              "  // Wait for the user to pick the files.\n",
              "  const files = yield {\n",
              "    promise: Promise.race([pickedPromise, cancelPromise]),\n",
              "    response: {\n",
              "      action: 'starting',\n",
              "    }\n",
              "  };\n",
              "\n",
              "  cancel.remove();\n",
              "\n",
              "  // Disable the input element since further picks are not allowed.\n",
              "  inputElement.disabled = true;\n",
              "\n",
              "  if (!files) {\n",
              "    return {\n",
              "      response: {\n",
              "        action: 'complete',\n",
              "      }\n",
              "    };\n",
              "  }\n",
              "\n",
              "  for (const file of files) {\n",
              "    const li = document.createElement('li');\n",
              "    li.append(span(file.name, {fontWeight: 'bold'}));\n",
              "    li.append(span(\n",
              "        `(${file.type || 'n/a'}) - ${file.size} bytes, ` +\n",
              "        `last modified: ${\n",
              "            file.lastModifiedDate ? file.lastModifiedDate.toLocaleDateString() :\n",
              "                                    'n/a'} - `));\n",
              "    const percent = span('0% done');\n",
              "    li.appendChild(percent);\n",
              "\n",
              "    outputElement.appendChild(li);\n",
              "\n",
              "    const fileDataPromise = new Promise((resolve) => {\n",
              "      const reader = new FileReader();\n",
              "      reader.onload = (e) => {\n",
              "        resolve(e.target.result);\n",
              "      };\n",
              "      reader.readAsArrayBuffer(file);\n",
              "    });\n",
              "    // Wait for the data to be ready.\n",
              "    let fileData = yield {\n",
              "      promise: fileDataPromise,\n",
              "      response: {\n",
              "        action: 'continue',\n",
              "      }\n",
              "    };\n",
              "\n",
              "    // Use a chunked sending to avoid message size limits. See b/62115660.\n",
              "    let position = 0;\n",
              "    do {\n",
              "      const length = Math.min(fileData.byteLength - position, MAX_PAYLOAD_SIZE);\n",
              "      const chunk = new Uint8Array(fileData, position, length);\n",
              "      position += length;\n",
              "\n",
              "      const base64 = btoa(String.fromCharCode.apply(null, chunk));\n",
              "      yield {\n",
              "        response: {\n",
              "          action: 'append',\n",
              "          file: file.name,\n",
              "          data: base64,\n",
              "        },\n",
              "      };\n",
              "\n",
              "      let percentDone = fileData.byteLength === 0 ?\n",
              "          100 :\n",
              "          Math.round((position / fileData.byteLength) * 100);\n",
              "      percent.textContent = `${percentDone}% done`;\n",
              "\n",
              "    } while (position < fileData.byteLength);\n",
              "  }\n",
              "\n",
              "  // All done.\n",
              "  yield {\n",
              "    response: {\n",
              "      action: 'complete',\n",
              "    }\n",
              "  };\n",
              "}\n",
              "\n",
              "scope.google = scope.google || {};\n",
              "scope.google.colab = scope.google.colab || {};\n",
              "scope.google.colab._files = {\n",
              "  _uploadFiles,\n",
              "  _uploadFilesContinue,\n",
              "};\n",
              "})(self);\n",
              "</script> "
            ]
          },
          "metadata": {}
        },
        {
          "output_type": "stream",
          "name": "stdout",
          "text": [
            "Saving kaggle.json to kaggle.json\n"
          ]
        },
        {
          "output_type": "execute_result",
          "data": {
            "text/plain": [
              "{'kaggle.json': b'{\"username\":\"peddireddigari\",\"key\":\"7dcabc8dee9ca1cac4fb100249dc718b\"}'}"
            ]
          },
          "metadata": {},
          "execution_count": 1
        }
      ],
      "source": [
        "from google.colab import files\n",
        "files.upload()"
      ],
      "id": "41b5c862-969e-45c7-a735-670703bbdc48"
    },
    {
      "cell_type": "code",
      "execution_count": 2,
      "metadata": {
        "id": "b39dce65-687c-4038-aac2-ec4f89e9be22"
      },
      "outputs": [],
      "source": [
        "!mkdir ~/.kaggle\n",
        "!cp kaggle.json ~/.kaggle/\n",
        "!chmod 600 ~/.kaggle/kaggle.json"
      ],
      "id": "b39dce65-687c-4038-aac2-ec4f89e9be22"
    },
    {
      "cell_type": "code",
      "execution_count": 3,
      "metadata": {
        "colab": {
          "base_uri": "https://localhost:8080/"
        },
        "id": "8ee2111d-c3f5-4f0b-9dc0-fdb5cfccc110",
        "outputId": "226a045e-c313-4cac-b60f-12d22a209b1d"
      },
      "outputs": [
        {
          "output_type": "stream",
          "name": "stdout",
          "text": [
            "Downloading dogs-vs-cats.zip to /content\n",
            "100% 810M/812M [00:21<00:00, 43.6MB/s]\n",
            "100% 812M/812M [00:21<00:00, 39.1MB/s]\n"
          ]
        }
      ],
      "source": [
        "!kaggle competitions download -c dogs-vs-cats"
      ],
      "id": "8ee2111d-c3f5-4f0b-9dc0-fdb5cfccc110"
    },
    {
      "cell_type": "code",
      "execution_count": 4,
      "metadata": {
        "id": "dd0790e7-fd2f-4a8c-8417-8786a85896f8"
      },
      "outputs": [],
      "source": [
        "!unzip -qq dogs-vs-cats.zip"
      ],
      "id": "dd0790e7-fd2f-4a8c-8417-8786a85896f8"
    },
    {
      "cell_type": "code",
      "execution_count": 5,
      "metadata": {
        "id": "2ae6537c-7db2-4294-ab91-a6a352fd6cac"
      },
      "outputs": [],
      "source": [
        "!unzip -qq train.zip"
      ],
      "id": "2ae6537c-7db2-4294-ab91-a6a352fd6cac"
    },
    {
      "cell_type": "code",
      "execution_count": 6,
      "metadata": {
        "colab": {
          "base_uri": "https://localhost:8080/"
        },
        "id": "mMS1VbPw89sO",
        "outputId": "f2060c5f-a379-426f-8686-0c7f8582466e"
      },
      "outputs": [
        {
          "output_type": "stream",
          "name": "stdout",
          "text": [
            "Collecting tensorflow==2.12\n",
            "  Downloading tensorflow-2.12.0-cp310-cp310-manylinux_2_17_x86_64.manylinux2014_x86_64.whl (585.9 MB)\n",
            "\u001b[2K     \u001b[90m━━━━━━━━━━━━━━━━━━━━━━━━━━━━━━━━━━━━━━━━\u001b[0m \u001b[32m585.9/585.9 MB\u001b[0m \u001b[31m2.9 MB/s\u001b[0m eta \u001b[36m0:00:00\u001b[0m\n",
            "\u001b[?25hRequirement already satisfied: absl-py>=1.0.0 in /usr/local/lib/python3.10/dist-packages (from tensorflow==2.12) (1.4.0)\n",
            "Requirement already satisfied: astunparse>=1.6.0 in /usr/local/lib/python3.10/dist-packages (from tensorflow==2.12) (1.6.3)\n",
            "Requirement already satisfied: flatbuffers>=2.0 in /usr/local/lib/python3.10/dist-packages (from tensorflow==2.12) (23.5.26)\n",
            "Requirement already satisfied: gast<=0.4.0,>=0.2.1 in /usr/local/lib/python3.10/dist-packages (from tensorflow==2.12) (0.4.0)\n",
            "Requirement already satisfied: google-pasta>=0.1.1 in /usr/local/lib/python3.10/dist-packages (from tensorflow==2.12) (0.2.0)\n",
            "Requirement already satisfied: grpcio<2.0,>=1.24.3 in /usr/local/lib/python3.10/dist-packages (from tensorflow==2.12) (1.59.0)\n",
            "Requirement already satisfied: h5py>=2.9.0 in /usr/local/lib/python3.10/dist-packages (from tensorflow==2.12) (3.9.0)\n",
            "Requirement already satisfied: jax>=0.3.15 in /usr/local/lib/python3.10/dist-packages (from tensorflow==2.12) (0.4.16)\n",
            "Collecting keras<2.13,>=2.12.0 (from tensorflow==2.12)\n",
            "  Downloading keras-2.12.0-py2.py3-none-any.whl (1.7 MB)\n",
            "\u001b[2K     \u001b[90m━━━━━━━━━━━━━━━━━━━━━━━━━━━━━━━━━━━━━━━━\u001b[0m \u001b[32m1.7/1.7 MB\u001b[0m \u001b[31m92.5 MB/s\u001b[0m eta \u001b[36m0:00:00\u001b[0m\n",
            "\u001b[?25hRequirement already satisfied: libclang>=13.0.0 in /usr/local/lib/python3.10/dist-packages (from tensorflow==2.12) (16.0.6)\n",
            "Requirement already satisfied: numpy<1.24,>=1.22 in /usr/local/lib/python3.10/dist-packages (from tensorflow==2.12) (1.23.5)\n",
            "Requirement already satisfied: opt-einsum>=2.3.2 in /usr/local/lib/python3.10/dist-packages (from tensorflow==2.12) (3.3.0)\n",
            "Requirement already satisfied: packaging in /usr/local/lib/python3.10/dist-packages (from tensorflow==2.12) (23.2)\n",
            "Requirement already satisfied: protobuf!=4.21.0,!=4.21.1,!=4.21.2,!=4.21.3,!=4.21.4,!=4.21.5,<5.0.0dev,>=3.20.3 in /usr/local/lib/python3.10/dist-packages (from tensorflow==2.12) (3.20.3)\n",
            "Requirement already satisfied: setuptools in /usr/local/lib/python3.10/dist-packages (from tensorflow==2.12) (67.7.2)\n",
            "Requirement already satisfied: six>=1.12.0 in /usr/local/lib/python3.10/dist-packages (from tensorflow==2.12) (1.16.0)\n",
            "Collecting tensorboard<2.13,>=2.12 (from tensorflow==2.12)\n",
            "  Downloading tensorboard-2.12.3-py3-none-any.whl (5.6 MB)\n",
            "\u001b[2K     \u001b[90m━━━━━━━━━━━━━━━━━━━━━━━━━━━━━━━━━━━━━━━━\u001b[0m \u001b[32m5.6/5.6 MB\u001b[0m \u001b[31m33.5 MB/s\u001b[0m eta \u001b[36m0:00:00\u001b[0m\n",
            "\u001b[?25hCollecting tensorflow-estimator<2.13,>=2.12.0 (from tensorflow==2.12)\n",
            "  Downloading tensorflow_estimator-2.12.0-py2.py3-none-any.whl (440 kB)\n",
            "\u001b[2K     \u001b[90m━━━━━━━━━━━━━━━━━━━━━━━━━━━━━━━━━━━━━━━━\u001b[0m \u001b[32m440.7/440.7 kB\u001b[0m \u001b[31m43.7 MB/s\u001b[0m eta \u001b[36m0:00:00\u001b[0m\n",
            "\u001b[?25hRequirement already satisfied: termcolor>=1.1.0 in /usr/local/lib/python3.10/dist-packages (from tensorflow==2.12) (2.3.0)\n",
            "Requirement already satisfied: typing-extensions>=3.6.6 in /usr/local/lib/python3.10/dist-packages (from tensorflow==2.12) (4.5.0)\n",
            "Collecting wrapt<1.15,>=1.11.0 (from tensorflow==2.12)\n",
            "  Downloading wrapt-1.14.1-cp310-cp310-manylinux_2_5_x86_64.manylinux1_x86_64.manylinux_2_17_x86_64.manylinux2014_x86_64.whl (77 kB)\n",
            "\u001b[2K     \u001b[90m━━━━━━━━━━━━━━━━━━━━━━━━━━━━━━━━━━━━━━━━\u001b[0m \u001b[32m77.9/77.9 kB\u001b[0m \u001b[31m8.6 MB/s\u001b[0m eta \u001b[36m0:00:00\u001b[0m\n",
            "\u001b[?25hRequirement already satisfied: tensorflow-io-gcs-filesystem>=0.23.1 in /usr/local/lib/python3.10/dist-packages (from tensorflow==2.12) (0.34.0)\n",
            "Requirement already satisfied: wheel<1.0,>=0.23.0 in /usr/local/lib/python3.10/dist-packages (from astunparse>=1.6.0->tensorflow==2.12) (0.41.2)\n",
            "Requirement already satisfied: ml-dtypes>=0.2.0 in /usr/local/lib/python3.10/dist-packages (from jax>=0.3.15->tensorflow==2.12) (0.3.1)\n",
            "Requirement already satisfied: scipy>=1.7 in /usr/local/lib/python3.10/dist-packages (from jax>=0.3.15->tensorflow==2.12) (1.11.3)\n",
            "Requirement already satisfied: google-auth<3,>=1.6.3 in /usr/local/lib/python3.10/dist-packages (from tensorboard<2.13,>=2.12->tensorflow==2.12) (2.17.3)\n",
            "Requirement already satisfied: google-auth-oauthlib<1.1,>=0.5 in /usr/local/lib/python3.10/dist-packages (from tensorboard<2.13,>=2.12->tensorflow==2.12) (1.0.0)\n",
            "Requirement already satisfied: markdown>=2.6.8 in /usr/local/lib/python3.10/dist-packages (from tensorboard<2.13,>=2.12->tensorflow==2.12) (3.5)\n",
            "Requirement already satisfied: requests<3,>=2.21.0 in /usr/local/lib/python3.10/dist-packages (from tensorboard<2.13,>=2.12->tensorflow==2.12) (2.31.0)\n",
            "Requirement already satisfied: tensorboard-data-server<0.8.0,>=0.7.0 in /usr/local/lib/python3.10/dist-packages (from tensorboard<2.13,>=2.12->tensorflow==2.12) (0.7.1)\n",
            "Requirement already satisfied: werkzeug>=1.0.1 in /usr/local/lib/python3.10/dist-packages (from tensorboard<2.13,>=2.12->tensorflow==2.12) (3.0.0)\n",
            "Requirement already satisfied: cachetools<6.0,>=2.0.0 in /usr/local/lib/python3.10/dist-packages (from google-auth<3,>=1.6.3->tensorboard<2.13,>=2.12->tensorflow==2.12) (5.3.1)\n",
            "Requirement already satisfied: pyasn1-modules>=0.2.1 in /usr/local/lib/python3.10/dist-packages (from google-auth<3,>=1.6.3->tensorboard<2.13,>=2.12->tensorflow==2.12) (0.3.0)\n",
            "Requirement already satisfied: rsa<5,>=3.1.4 in /usr/local/lib/python3.10/dist-packages (from google-auth<3,>=1.6.3->tensorboard<2.13,>=2.12->tensorflow==2.12) (4.9)\n",
            "Requirement already satisfied: requests-oauthlib>=0.7.0 in /usr/local/lib/python3.10/dist-packages (from google-auth-oauthlib<1.1,>=0.5->tensorboard<2.13,>=2.12->tensorflow==2.12) (1.3.1)\n",
            "Requirement already satisfied: charset-normalizer<4,>=2 in /usr/local/lib/python3.10/dist-packages (from requests<3,>=2.21.0->tensorboard<2.13,>=2.12->tensorflow==2.12) (3.3.0)\n",
            "Requirement already satisfied: idna<4,>=2.5 in /usr/local/lib/python3.10/dist-packages (from requests<3,>=2.21.0->tensorboard<2.13,>=2.12->tensorflow==2.12) (3.4)\n",
            "Requirement already satisfied: urllib3<3,>=1.21.1 in /usr/local/lib/python3.10/dist-packages (from requests<3,>=2.21.0->tensorboard<2.13,>=2.12->tensorflow==2.12) (2.0.7)\n",
            "Requirement already satisfied: certifi>=2017.4.17 in /usr/local/lib/python3.10/dist-packages (from requests<3,>=2.21.0->tensorboard<2.13,>=2.12->tensorflow==2.12) (2023.7.22)\n",
            "Requirement already satisfied: MarkupSafe>=2.1.1 in /usr/local/lib/python3.10/dist-packages (from werkzeug>=1.0.1->tensorboard<2.13,>=2.12->tensorflow==2.12) (2.1.3)\n",
            "Requirement already satisfied: pyasn1<0.6.0,>=0.4.6 in /usr/local/lib/python3.10/dist-packages (from pyasn1-modules>=0.2.1->google-auth<3,>=1.6.3->tensorboard<2.13,>=2.12->tensorflow==2.12) (0.5.0)\n",
            "Requirement already satisfied: oauthlib>=3.0.0 in /usr/local/lib/python3.10/dist-packages (from requests-oauthlib>=0.7.0->google-auth-oauthlib<1.1,>=0.5->tensorboard<2.13,>=2.12->tensorflow==2.12) (3.2.2)\n",
            "Installing collected packages: wrapt, tensorflow-estimator, keras, tensorboard, tensorflow\n",
            "  Attempting uninstall: wrapt\n",
            "    Found existing installation: wrapt 1.15.0\n",
            "    Uninstalling wrapt-1.15.0:\n",
            "      Successfully uninstalled wrapt-1.15.0\n",
            "  Attempting uninstall: tensorflow-estimator\n",
            "    Found existing installation: tensorflow-estimator 2.13.0\n",
            "    Uninstalling tensorflow-estimator-2.13.0:\n",
            "      Successfully uninstalled tensorflow-estimator-2.13.0\n",
            "  Attempting uninstall: keras\n",
            "    Found existing installation: keras 2.13.1\n",
            "    Uninstalling keras-2.13.1:\n",
            "      Successfully uninstalled keras-2.13.1\n",
            "  Attempting uninstall: tensorboard\n",
            "    Found existing installation: tensorboard 2.13.0\n",
            "    Uninstalling tensorboard-2.13.0:\n",
            "      Successfully uninstalled tensorboard-2.13.0\n",
            "  Attempting uninstall: tensorflow\n",
            "    Found existing installation: tensorflow 2.13.0\n",
            "    Uninstalling tensorflow-2.13.0:\n",
            "      Successfully uninstalled tensorflow-2.13.0\n",
            "Successfully installed keras-2.12.0 tensorboard-2.12.3 tensorflow-2.12.0 tensorflow-estimator-2.12.0 wrapt-1.14.1\n"
          ]
        }
      ],
      "source": [
        "#Google colab tensor flow version is 2.13. So, older version is installed\n",
        "!pip install tensorflow==2.12\n"
      ],
      "id": "mMS1VbPw89sO"
    },
    {
      "cell_type": "code",
      "execution_count": 7,
      "metadata": {
        "colab": {
          "base_uri": "https://localhost:8080/",
          "height": 35
        },
        "id": "Z_vviBBN-7Rg",
        "outputId": "86dc2524-264b-4bac-8729-b96e8e886b2f"
      },
      "outputs": [
        {
          "output_type": "execute_result",
          "data": {
            "text/plain": [
              "'2.12.0'"
            ],
            "application/vnd.google.colaboratory.intrinsic+json": {
              "type": "string"
            }
          },
          "metadata": {},
          "execution_count": 7
        }
      ],
      "source": [
        "import tensorflow as tf\n",
        "tf.__version__         # '2.12.0'"
      ],
      "id": "Z_vviBBN-7Rg"
    },
    {
      "cell_type": "code",
      "source": [
        "import numpy as np\n",
        "\n",
        "# Set the seed for NumPy's random number generator\n",
        "np.random.seed(42)  # You can use any integer value as the seed"
      ],
      "metadata": {
        "id": "tiv-wMzIxhPm"
      },
      "id": "tiv-wMzIxhPm",
      "execution_count": 8,
      "outputs": []
    },
    {
      "cell_type": "markdown",
      "metadata": {
        "id": "9dfc687a-c303-4e1a-8be0-ec5f201f869a"
      },
      "source": [
        "# Question 1"
      ],
      "id": "9dfc687a-c303-4e1a-8be0-ec5f201f869a"
    },
    {
      "cell_type": "code",
      "execution_count": 9,
      "metadata": {
        "id": "140edfb2-0386-4199-883d-4c36f477b962"
      },
      "outputs": [],
      "source": [
        "#creating the directories and assigning the subset of the cat and dog images for the traing validation and testing.\n",
        "import os, shutil, pathlib\n",
        "\n",
        "#shutil.rmtree(\"cats_vs_dogs_small\")\n",
        "\n",
        "original_dir = pathlib.Path(\"train\")\n",
        "new_base_dir = pathlib.Path(\"cats_vs_dogs_small\")\n",
        "\n",
        "def make_subset(subset_name, start_index, end_index):\n",
        "    for category in (\"cat\", \"dog\"):\n",
        "        dir = new_base_dir / subset_name / category\n",
        "        os.makedirs(dir)\n",
        "        fnames = [f\"{category}.{i}.jpg\" for i in range(start_index, end_index)]\n",
        "        for fname in fnames:\n",
        "            shutil.copyfile(src=original_dir / fname,\n",
        "                            dst=dir / fname)\n",
        "\n",
        "make_subset(\"train\", start_index=0, end_index=1000)\n",
        "make_subset(\"validation\", start_index=1000, end_index=1500)\n",
        "make_subset(\"test\", start_index=1500, end_index=2500)\n"
      ],
      "id": "140edfb2-0386-4199-883d-4c36f477b962"
    },
    {
      "cell_type": "code",
      "execution_count": 10,
      "metadata": {
        "colab": {
          "base_uri": "https://localhost:8080/"
        },
        "id": "edadd9b0-2a51-4c44-8ba0-7665b934ed81",
        "outputId": "b814efba-6740-49be-95a6-b9289d03e8a9"
      },
      "outputs": [
        {
          "output_type": "stream",
          "name": "stdout",
          "text": [
            "Model: \"model\"\n",
            "_________________________________________________________________\n",
            " Layer (type)                Output Shape              Param #   \n",
            "=================================================================\n",
            " input_1 (InputLayer)        [(None, 180, 180, 3)]     0         \n",
            "                                                                 \n",
            " rescaling (Rescaling)       (None, 180, 180, 3)       0         \n",
            "                                                                 \n",
            " conv2d (Conv2D)             (None, 178, 178, 32)      896       \n",
            "                                                                 \n",
            " max_pooling2d (MaxPooling2D  (None, 89, 89, 32)       0         \n",
            " )                                                               \n",
            "                                                                 \n",
            " conv2d_1 (Conv2D)           (None, 87, 87, 64)        18496     \n",
            "                                                                 \n",
            " max_pooling2d_1 (MaxPooling  (None, 43, 43, 64)       0         \n",
            " 2D)                                                             \n",
            "                                                                 \n",
            " conv2d_2 (Conv2D)           (None, 41, 41, 128)       73856     \n",
            "                                                                 \n",
            " max_pooling2d_2 (MaxPooling  (None, 20, 20, 128)      0         \n",
            " 2D)                                                             \n",
            "                                                                 \n",
            " conv2d_3 (Conv2D)           (None, 18, 18, 256)       295168    \n",
            "                                                                 \n",
            " max_pooling2d_3 (MaxPooling  (None, 9, 9, 256)        0         \n",
            " 2D)                                                             \n",
            "                                                                 \n",
            " conv2d_4 (Conv2D)           (None, 7, 7, 256)         590080    \n",
            "                                                                 \n",
            " flatten (Flatten)           (None, 12544)             0         \n",
            "                                                                 \n",
            " dense (Dense)               (None, 1)                 12545     \n",
            "                                                                 \n",
            "=================================================================\n",
            "Total params: 991,041\n",
            "Trainable params: 991,041\n",
            "Non-trainable params: 0\n",
            "_________________________________________________________________\n"
          ]
        }
      ],
      "source": [
        "#Building the Model.\n",
        "from tensorflow import keras\n",
        "from tensorflow.keras import layers\n",
        "\n",
        "inputs = keras.Input(shape=(180, 180, 3))\n",
        "x = layers.Rescaling(1./255)(inputs)\n",
        "x = layers.Conv2D(filters=32, kernel_size=3, activation=\"relu\")(x)\n",
        "x = layers.MaxPooling2D(pool_size=2)(x)\n",
        "x = layers.Conv2D(filters=64, kernel_size=3, activation=\"relu\")(x)\n",
        "x = layers.MaxPooling2D(pool_size=2)(x)\n",
        "x = layers.Conv2D(filters=128, kernel_size=3, activation=\"relu\")(x)\n",
        "x = layers.MaxPooling2D(pool_size=2)(x)\n",
        "x = layers.Conv2D(filters=256, kernel_size=3, activation=\"relu\")(x)\n",
        "x = layers.MaxPooling2D(pool_size=2)(x)\n",
        "x = layers.Conv2D(filters=256, kernel_size=3, activation=\"relu\")(x)\n",
        "x = layers.Flatten()(x)\n",
        "outputs = layers.Dense(1, activation=\"sigmoid\")(x)\n",
        "model = keras.Model(inputs=inputs, outputs=outputs)\n",
        "#Running the summary of the model.\n",
        "model.summary()"
      ],
      "id": "edadd9b0-2a51-4c44-8ba0-7665b934ed81"
    },
    {
      "cell_type": "code",
      "execution_count": 11,
      "metadata": {
        "id": "92bc30c6-8791-4773-8050-c01fc5bf0812"
      },
      "outputs": [],
      "source": [
        "#Compiling the model.\n",
        "model.compile(loss=\"binary_crossentropy\",\n",
        "              optimizer=\"rmsprop\",\n",
        "              metrics=[\"accuracy\"])"
      ],
      "id": "92bc30c6-8791-4773-8050-c01fc5bf0812"
    },
    {
      "cell_type": "code",
      "execution_count": 12,
      "metadata": {
        "colab": {
          "base_uri": "https://localhost:8080/"
        },
        "id": "3e72f278-86fa-45e3-b5a3-330ee1997824",
        "outputId": "3c630618-ad78-404f-d0eb-cd498a409bd8"
      },
      "outputs": [
        {
          "output_type": "stream",
          "name": "stdout",
          "text": [
            "Found 2000 files belonging to 2 classes.\n",
            "Found 1000 files belonging to 2 classes.\n",
            "Found 2000 files belonging to 2 classes.\n"
          ]
        }
      ],
      "source": [
        "#Creating image datasets from directories for training, validation, and testing, each with specified image size and batch size.\n",
        "from tensorflow.keras.utils import image_dataset_from_directory\n",
        "\n",
        "train_dataset = image_dataset_from_directory(\n",
        "    new_base_dir / \"train\",\n",
        "    image_size=(180, 180),\n",
        "    batch_size=32)\n",
        "validation_dataset = image_dataset_from_directory(\n",
        "    new_base_dir / \"validation\",\n",
        "    image_size=(180, 180),\n",
        "    batch_size=32)\n",
        "test_dataset = image_dataset_from_directory(\n",
        "    new_base_dir / \"test\",\n",
        "    image_size=(180, 180),\n",
        "    batch_size=32)"
      ],
      "id": "3e72f278-86fa-45e3-b5a3-330ee1997824"
    },
    {
      "cell_type": "code",
      "execution_count": 13,
      "metadata": {
        "colab": {
          "base_uri": "https://localhost:8080/"
        },
        "id": "26536143-83b5-403d-ba4d-88a558aaa26f",
        "outputId": "6c6ba4e8-b7a7-4635-b83b-dc8a6e7d6728"
      },
      "outputs": [
        {
          "output_type": "stream",
          "name": "stdout",
          "text": [
            "Epoch 1/30\n",
            "63/63 [==============================] - 17s 88ms/step - loss: 0.7119 - accuracy: 0.4935 - val_loss: 0.6920 - val_accuracy: 0.6030\n",
            "Epoch 2/30\n",
            "63/63 [==============================] - 4s 60ms/step - loss: 0.6924 - accuracy: 0.5405 - val_loss: 0.6935 - val_accuracy: 0.5000\n",
            "Epoch 3/30\n",
            "63/63 [==============================] - 5s 82ms/step - loss: 0.6974 - accuracy: 0.5255 - val_loss: 0.6873 - val_accuracy: 0.5300\n",
            "Epoch 4/30\n",
            "63/63 [==============================] - 6s 86ms/step - loss: 0.6847 - accuracy: 0.5690 - val_loss: 0.8924 - val_accuracy: 0.5000\n",
            "Epoch 5/30\n",
            "63/63 [==============================] - 5s 82ms/step - loss: 0.6612 - accuracy: 0.6290 - val_loss: 0.6430 - val_accuracy: 0.6180\n",
            "Epoch 6/30\n",
            "63/63 [==============================] - 5s 80ms/step - loss: 0.6240 - accuracy: 0.6575 - val_loss: 0.6186 - val_accuracy: 0.6370\n",
            "Epoch 7/30\n",
            "63/63 [==============================] - 6s 82ms/step - loss: 0.5866 - accuracy: 0.6985 - val_loss: 0.5920 - val_accuracy: 0.6650\n",
            "Epoch 8/30\n",
            "63/63 [==============================] - 4s 58ms/step - loss: 0.5628 - accuracy: 0.7170 - val_loss: 0.8823 - val_accuracy: 0.6390\n",
            "Epoch 9/30\n",
            "63/63 [==============================] - 5s 82ms/step - loss: 0.5276 - accuracy: 0.7455 - val_loss: 0.5746 - val_accuracy: 0.6880\n",
            "Epoch 10/30\n",
            "63/63 [==============================] - 4s 58ms/step - loss: 0.4754 - accuracy: 0.7760 - val_loss: 0.6279 - val_accuracy: 0.6840\n",
            "Epoch 11/30\n",
            "63/63 [==============================] - 5s 71ms/step - loss: 0.4543 - accuracy: 0.7915 - val_loss: 0.6990 - val_accuracy: 0.6830\n",
            "Epoch 12/30\n",
            "63/63 [==============================] - 6s 83ms/step - loss: 0.4210 - accuracy: 0.8245 - val_loss: 0.6028 - val_accuracy: 0.7160\n",
            "Epoch 13/30\n",
            "63/63 [==============================] - 5s 80ms/step - loss: 0.3634 - accuracy: 0.8470 - val_loss: 0.5826 - val_accuracy: 0.7290\n",
            "Epoch 14/30\n",
            "63/63 [==============================] - 4s 58ms/step - loss: 0.3122 - accuracy: 0.8635 - val_loss: 0.7273 - val_accuracy: 0.6970\n",
            "Epoch 15/30\n",
            "63/63 [==============================] - 6s 90ms/step - loss: 0.2546 - accuracy: 0.8935 - val_loss: 0.7149 - val_accuracy: 0.7450\n",
            "Epoch 16/30\n",
            "63/63 [==============================] - 5s 64ms/step - loss: 0.2068 - accuracy: 0.9090 - val_loss: 1.2231 - val_accuracy: 0.6770\n",
            "Epoch 17/30\n",
            "63/63 [==============================] - 4s 60ms/step - loss: 0.1705 - accuracy: 0.9385 - val_loss: 0.8721 - val_accuracy: 0.7090\n",
            "Epoch 18/30\n",
            "63/63 [==============================] - 6s 98ms/step - loss: 0.1095 - accuracy: 0.9630 - val_loss: 1.1973 - val_accuracy: 0.7320\n",
            "Epoch 19/30\n",
            "63/63 [==============================] - 4s 59ms/step - loss: 0.0961 - accuracy: 0.9640 - val_loss: 1.4104 - val_accuracy: 0.7300\n",
            "Epoch 20/30\n",
            "63/63 [==============================] - 4s 59ms/step - loss: 0.0913 - accuracy: 0.9635 - val_loss: 1.4269 - val_accuracy: 0.7010\n",
            "Epoch 21/30\n",
            "63/63 [==============================] - 6s 86ms/step - loss: 0.0936 - accuracy: 0.9735 - val_loss: 1.2914 - val_accuracy: 0.7200\n",
            "Epoch 22/30\n",
            "63/63 [==============================] - 5s 70ms/step - loss: 0.0529 - accuracy: 0.9840 - val_loss: 1.4789 - val_accuracy: 0.7250\n",
            "Epoch 23/30\n",
            "63/63 [==============================] - 4s 61ms/step - loss: 0.0689 - accuracy: 0.9780 - val_loss: 1.2903 - val_accuracy: 0.7430\n",
            "Epoch 24/30\n",
            "63/63 [==============================] - 5s 81ms/step - loss: 0.0502 - accuracy: 0.9850 - val_loss: 1.5083 - val_accuracy: 0.7160\n",
            "Epoch 25/30\n",
            "63/63 [==============================] - 4s 60ms/step - loss: 0.0503 - accuracy: 0.9835 - val_loss: 1.6094 - val_accuracy: 0.7380\n",
            "Epoch 26/30\n",
            "63/63 [==============================] - 5s 81ms/step - loss: 0.0349 - accuracy: 0.9910 - val_loss: 1.5800 - val_accuracy: 0.7350\n",
            "Epoch 27/30\n",
            "63/63 [==============================] - 5s 76ms/step - loss: 0.0391 - accuracy: 0.9885 - val_loss: 1.8597 - val_accuracy: 0.7200\n",
            "Epoch 28/30\n",
            "63/63 [==============================] - 4s 58ms/step - loss: 0.0528 - accuracy: 0.9795 - val_loss: 1.8581 - val_accuracy: 0.7300\n",
            "Epoch 29/30\n",
            "63/63 [==============================] - 5s 80ms/step - loss: 0.0584 - accuracy: 0.9860 - val_loss: 1.9033 - val_accuracy: 0.7400\n",
            "Epoch 30/30\n",
            "63/63 [==============================] - 4s 58ms/step - loss: 0.0390 - accuracy: 0.9920 - val_loss: 1.9930 - val_accuracy: 0.7270\n"
          ]
        }
      ],
      "source": [
        "## Using the callback function to save the model checkpoint with the best validation loss and also training the model while monitoring the validation loss\n",
        "callbacks = [\n",
        "    keras.callbacks.ModelCheckpoint(\n",
        "        filepath=\"convnet_from_scratch.keras\",\n",
        "        save_best_only=True,\n",
        "        monitor=\"val_loss\")\n",
        "]\n",
        "history = model.fit(\n",
        "    train_dataset,\n",
        "    epochs=30,\n",
        "    validation_data=validation_dataset,\n",
        "    callbacks=callbacks)\n"
      ],
      "id": "26536143-83b5-403d-ba4d-88a558aaa26f"
    },
    {
      "cell_type": "code",
      "execution_count": 14,
      "metadata": {
        "colab": {
          "base_uri": "https://localhost:8080/"
        },
        "id": "9b353ad7-7cce-4b07-be8b-75a13f7f0949",
        "outputId": "71eed8bc-a444-4f7e-d586-7f5280c5ace3"
      },
      "outputs": [
        {
          "output_type": "stream",
          "name": "stdout",
          "text": [
            "63/63 [==============================] - 4s 59ms/step - loss: 0.5880 - accuracy: 0.6930\n",
            "Test accuracy: 0.693\n"
          ]
        }
      ],
      "source": [
        "#Testing the model accuracy.\n",
        "test_model = keras.models.load_model(\"convnet_from_scratch.keras\")\n",
        "test_loss, test_acc = test_model.evaluate(test_dataset)\n",
        "print(f\"Test accuracy: {test_acc:.3f}\")"
      ],
      "id": "9b353ad7-7cce-4b07-be8b-75a13f7f0949"
    },
    {
      "cell_type": "markdown",
      "metadata": {
        "id": "6e47648b-1f93-46f7-87f5-f6eeaa98e7af"
      },
      "source": [
        "Using the Data_augumentation"
      ],
      "id": "6e47648b-1f93-46f7-87f5-f6eeaa98e7af"
    },
    {
      "cell_type": "code",
      "execution_count": 15,
      "metadata": {
        "id": "7e4ee737-92d1-4948-8722-b60a2796e985"
      },
      "outputs": [],
      "source": [
        "#Defining the data_augumentation stage.\n",
        "data_augmentation = keras.Sequential(\n",
        "    [\n",
        "        layers.RandomFlip(\"horizontal\"),\n",
        "        layers.RandomRotation(0.1),\n",
        "        layers.RandomZoom(0.2),\n",
        "    ]\n",
        ")"
      ],
      "id": "7e4ee737-92d1-4948-8722-b60a2796e985"
    },
    {
      "cell_type": "code",
      "execution_count": 16,
      "metadata": {
        "id": "f18d3fc7-d6e0-4c7c-a7ff-2f690ca50e00"
      },
      "outputs": [],
      "source": [
        "#Building the model and compiling it.\n",
        "inputs = keras.Input(shape=(180, 180, 3))\n",
        "x = data_augmentation(inputs)\n",
        "x = layers.Rescaling(1./255)(x)\n",
        "x = layers.Conv2D(filters=32, kernel_size=3, activation=\"relu\")(x)\n",
        "x = layers.MaxPooling2D(pool_size=2)(x)\n",
        "x = layers.Conv2D(filters=64, kernel_size=3, activation=\"relu\")(x)\n",
        "x = layers.MaxPooling2D(pool_size=2)(x)\n",
        "x = layers.Conv2D(filters=128, kernel_size=3, activation=\"relu\")(x)\n",
        "x = layers.MaxPooling2D(pool_size=2)(x)\n",
        "x = layers.Conv2D(filters=256, kernel_size=3, activation=\"relu\")(x)\n",
        "x = layers.MaxPooling2D(pool_size=2)(x)\n",
        "x = layers.Conv2D(filters=256, kernel_size=3, activation=\"relu\")(x)\n",
        "x = layers.Flatten()(x)\n",
        "x = layers.Dropout(0.5)(x)\n",
        "outputs = layers.Dense(1, activation=\"sigmoid\")(x)\n",
        "model = keras.Model(inputs=inputs, outputs=outputs)\n",
        "\n",
        "model.compile(loss=\"binary_crossentropy\",\n",
        "              optimizer=\"rmsprop\",\n",
        "              metrics=[\"accuracy\"])"
      ],
      "id": "f18d3fc7-d6e0-4c7c-a7ff-2f690ca50e00"
    },
    {
      "cell_type": "code",
      "execution_count": 17,
      "metadata": {
        "colab": {
          "base_uri": "https://localhost:8080/"
        },
        "id": "56843ff2-1d1b-4000-9ef9-ea642c50ed5d",
        "outputId": "99f19dbf-a9e3-45cf-dc65-a6be7bf31486"
      },
      "outputs": [
        {
          "output_type": "stream",
          "name": "stdout",
          "text": [
            "Epoch 1/100\n",
            "63/63 [==============================] - 6s 63ms/step - loss: 0.7080 - accuracy: 0.5080 - val_loss: 0.6943 - val_accuracy: 0.5000\n",
            "Epoch 2/100\n",
            "63/63 [==============================] - 5s 76ms/step - loss: 0.6953 - accuracy: 0.5165 - val_loss: 0.6914 - val_accuracy: 0.5080\n",
            "Epoch 3/100\n",
            "63/63 [==============================] - 6s 91ms/step - loss: 0.6898 - accuracy: 0.5500 - val_loss: 0.6913 - val_accuracy: 0.5030\n",
            "Epoch 4/100\n",
            "63/63 [==============================] - 4s 63ms/step - loss: 0.6859 - accuracy: 0.5560 - val_loss: 0.6831 - val_accuracy: 0.5500\n",
            "Epoch 5/100\n",
            "63/63 [==============================] - 4s 61ms/step - loss: 0.6669 - accuracy: 0.6095 - val_loss: 0.6550 - val_accuracy: 0.6150\n",
            "Epoch 6/100\n",
            "63/63 [==============================] - 8s 114ms/step - loss: 0.6454 - accuracy: 0.6385 - val_loss: 0.6591 - val_accuracy: 0.5970\n",
            "Epoch 7/100\n",
            "63/63 [==============================] - 4s 63ms/step - loss: 0.6398 - accuracy: 0.6440 - val_loss: 0.6317 - val_accuracy: 0.6270\n",
            "Epoch 8/100\n",
            "63/63 [==============================] - 4s 62ms/step - loss: 0.6185 - accuracy: 0.6600 - val_loss: 0.5931 - val_accuracy: 0.6830\n",
            "Epoch 9/100\n",
            "63/63 [==============================] - 7s 107ms/step - loss: 0.6101 - accuracy: 0.6720 - val_loss: 0.6308 - val_accuracy: 0.6400\n",
            "Epoch 10/100\n",
            "63/63 [==============================] - 4s 62ms/step - loss: 0.5872 - accuracy: 0.7025 - val_loss: 0.5533 - val_accuracy: 0.7170\n",
            "Epoch 11/100\n",
            "63/63 [==============================] - 7s 100ms/step - loss: 0.5727 - accuracy: 0.7045 - val_loss: 0.5773 - val_accuracy: 0.6930\n",
            "Epoch 12/100\n",
            "63/63 [==============================] - 4s 61ms/step - loss: 0.5695 - accuracy: 0.7140 - val_loss: 0.5907 - val_accuracy: 0.6860\n",
            "Epoch 13/100\n",
            "63/63 [==============================] - 5s 83ms/step - loss: 0.5488 - accuracy: 0.7270 - val_loss: 0.5500 - val_accuracy: 0.7130\n",
            "Epoch 14/100\n",
            "63/63 [==============================] - 6s 83ms/step - loss: 0.5463 - accuracy: 0.7245 - val_loss: 0.5192 - val_accuracy: 0.7420\n",
            "Epoch 15/100\n",
            "63/63 [==============================] - 4s 61ms/step - loss: 0.5334 - accuracy: 0.7255 - val_loss: 0.5028 - val_accuracy: 0.7530\n",
            "Epoch 16/100\n",
            "63/63 [==============================] - 5s 83ms/step - loss: 0.5097 - accuracy: 0.7480 - val_loss: 0.4676 - val_accuracy: 0.7740\n",
            "Epoch 17/100\n",
            "63/63 [==============================] - 4s 61ms/step - loss: 0.5100 - accuracy: 0.7460 - val_loss: 0.5052 - val_accuracy: 0.7570\n",
            "Epoch 18/100\n",
            "63/63 [==============================] - 5s 83ms/step - loss: 0.5087 - accuracy: 0.7550 - val_loss: 0.5691 - val_accuracy: 0.7430\n",
            "Epoch 19/100\n",
            "63/63 [==============================] - 4s 62ms/step - loss: 0.4905 - accuracy: 0.7615 - val_loss: 0.5411 - val_accuracy: 0.7260\n",
            "Epoch 20/100\n",
            "63/63 [==============================] - 5s 83ms/step - loss: 0.4719 - accuracy: 0.7765 - val_loss: 0.5301 - val_accuracy: 0.7520\n",
            "Epoch 21/100\n",
            "63/63 [==============================] - 6s 84ms/step - loss: 0.4645 - accuracy: 0.7855 - val_loss: 0.7962 - val_accuracy: 0.7070\n",
            "Epoch 22/100\n",
            "63/63 [==============================] - 4s 62ms/step - loss: 0.4705 - accuracy: 0.7620 - val_loss: 0.4834 - val_accuracy: 0.7940\n",
            "Epoch 23/100\n",
            "63/63 [==============================] - 8s 115ms/step - loss: 0.4610 - accuracy: 0.7895 - val_loss: 0.4583 - val_accuracy: 0.7960\n",
            "Epoch 24/100\n",
            "63/63 [==============================] - 4s 61ms/step - loss: 0.4395 - accuracy: 0.7970 - val_loss: 0.4524 - val_accuracy: 0.7710\n",
            "Epoch 25/100\n",
            "63/63 [==============================] - 4s 61ms/step - loss: 0.4352 - accuracy: 0.7965 - val_loss: 0.5771 - val_accuracy: 0.7640\n",
            "Epoch 26/100\n",
            "63/63 [==============================] - 7s 99ms/step - loss: 0.4279 - accuracy: 0.7965 - val_loss: 0.4650 - val_accuracy: 0.7950\n",
            "Epoch 27/100\n",
            "63/63 [==============================] - 4s 61ms/step - loss: 0.4205 - accuracy: 0.8125 - val_loss: 0.4549 - val_accuracy: 0.7960\n",
            "Epoch 28/100\n",
            "63/63 [==============================] - 4s 62ms/step - loss: 0.4059 - accuracy: 0.8180 - val_loss: 0.5876 - val_accuracy: 0.7480\n",
            "Epoch 29/100\n",
            "63/63 [==============================] - 7s 109ms/step - loss: 0.4067 - accuracy: 0.8075 - val_loss: 0.8311 - val_accuracy: 0.6830\n",
            "Epoch 30/100\n",
            "63/63 [==============================] - 4s 61ms/step - loss: 0.3834 - accuracy: 0.8270 - val_loss: 0.5294 - val_accuracy: 0.7910\n",
            "Epoch 31/100\n",
            "63/63 [==============================] - 4s 61ms/step - loss: 0.4004 - accuracy: 0.8240 - val_loss: 0.5168 - val_accuracy: 0.7890\n",
            "Epoch 32/100\n",
            "63/63 [==============================] - 6s 96ms/step - loss: 0.3890 - accuracy: 0.8255 - val_loss: 0.4972 - val_accuracy: 0.7840\n",
            "Epoch 33/100\n",
            "63/63 [==============================] - 4s 61ms/step - loss: 0.3737 - accuracy: 0.8350 - val_loss: 0.6559 - val_accuracy: 0.7590\n",
            "Epoch 34/100\n",
            "63/63 [==============================] - 5s 83ms/step - loss: 0.3658 - accuracy: 0.8355 - val_loss: 0.4296 - val_accuracy: 0.8270\n",
            "Epoch 35/100\n",
            "63/63 [==============================] - 6s 88ms/step - loss: 0.3817 - accuracy: 0.8210 - val_loss: 0.4278 - val_accuracy: 0.8230\n",
            "Epoch 36/100\n",
            "63/63 [==============================] - 4s 64ms/step - loss: 0.3651 - accuracy: 0.8420 - val_loss: 0.4123 - val_accuracy: 0.8320\n",
            "Epoch 37/100\n",
            "63/63 [==============================] - 6s 93ms/step - loss: 0.3348 - accuracy: 0.8545 - val_loss: 0.5462 - val_accuracy: 0.7990\n",
            "Epoch 38/100\n",
            "63/63 [==============================] - 4s 60ms/step - loss: 0.3499 - accuracy: 0.8510 - val_loss: 0.5438 - val_accuracy: 0.7900\n",
            "Epoch 39/100\n",
            "63/63 [==============================] - 5s 69ms/step - loss: 0.3312 - accuracy: 0.8530 - val_loss: 0.5040 - val_accuracy: 0.8190\n",
            "Epoch 40/100\n",
            "63/63 [==============================] - 6s 89ms/step - loss: 0.3219 - accuracy: 0.8640 - val_loss: 0.5270 - val_accuracy: 0.7980\n",
            "Epoch 41/100\n",
            "63/63 [==============================] - 4s 61ms/step - loss: 0.3278 - accuracy: 0.8555 - val_loss: 0.4850 - val_accuracy: 0.8270\n",
            "Epoch 42/100\n",
            "63/63 [==============================] - 4s 61ms/step - loss: 0.3227 - accuracy: 0.8630 - val_loss: 0.4131 - val_accuracy: 0.8380\n",
            "Epoch 43/100\n",
            "63/63 [==============================] - 7s 104ms/step - loss: 0.3122 - accuracy: 0.8625 - val_loss: 0.4758 - val_accuracy: 0.8020\n",
            "Epoch 44/100\n",
            "63/63 [==============================] - 4s 61ms/step - loss: 0.3024 - accuracy: 0.8690 - val_loss: 0.4229 - val_accuracy: 0.8280\n",
            "Epoch 45/100\n",
            "63/63 [==============================] - 4s 59ms/step - loss: 0.3143 - accuracy: 0.8725 - val_loss: 0.4776 - val_accuracy: 0.8180\n",
            "Epoch 46/100\n",
            "63/63 [==============================] - 6s 88ms/step - loss: 0.2806 - accuracy: 0.8845 - val_loss: 0.4844 - val_accuracy: 0.8330\n",
            "Epoch 47/100\n",
            "63/63 [==============================] - 4s 61ms/step - loss: 0.3023 - accuracy: 0.8745 - val_loss: 0.4575 - val_accuracy: 0.8320\n",
            "Epoch 48/100\n",
            "63/63 [==============================] - 5s 81ms/step - loss: 0.2716 - accuracy: 0.8930 - val_loss: 0.4763 - val_accuracy: 0.8350\n",
            "Epoch 49/100\n",
            "63/63 [==============================] - 4s 60ms/step - loss: 0.2914 - accuracy: 0.8900 - val_loss: 0.5236 - val_accuracy: 0.8060\n",
            "Epoch 50/100\n",
            "63/63 [==============================] - 5s 82ms/step - loss: 0.2693 - accuracy: 0.8915 - val_loss: 0.5292 - val_accuracy: 0.8300\n",
            "Epoch 51/100\n",
            "63/63 [==============================] - 4s 60ms/step - loss: 0.2899 - accuracy: 0.8940 - val_loss: 0.5308 - val_accuracy: 0.8070\n",
            "Epoch 52/100\n",
            "63/63 [==============================] - 4s 65ms/step - loss: 0.2804 - accuracy: 0.8900 - val_loss: 0.5029 - val_accuracy: 0.8240\n",
            "Epoch 53/100\n",
            "63/63 [==============================] - 7s 101ms/step - loss: 0.2581 - accuracy: 0.8965 - val_loss: 0.4256 - val_accuracy: 0.8480\n",
            "Epoch 54/100\n",
            "63/63 [==============================] - 4s 60ms/step - loss: 0.2794 - accuracy: 0.8850 - val_loss: 0.5057 - val_accuracy: 0.8330\n",
            "Epoch 55/100\n",
            "63/63 [==============================] - 6s 96ms/step - loss: 0.2584 - accuracy: 0.8940 - val_loss: 0.4237 - val_accuracy: 0.8420\n",
            "Epoch 56/100\n",
            "63/63 [==============================] - 5s 69ms/step - loss: 0.2392 - accuracy: 0.8995 - val_loss: 0.8249 - val_accuracy: 0.7890\n",
            "Epoch 57/100\n",
            "63/63 [==============================] - 4s 60ms/step - loss: 0.2529 - accuracy: 0.8955 - val_loss: 0.5232 - val_accuracy: 0.8440\n",
            "Epoch 58/100\n",
            "63/63 [==============================] - 5s 72ms/step - loss: 0.2488 - accuracy: 0.9040 - val_loss: 0.5071 - val_accuracy: 0.8460\n",
            "Epoch 59/100\n",
            "63/63 [==============================] - 6s 90ms/step - loss: 0.2446 - accuracy: 0.9000 - val_loss: 0.7251 - val_accuracy: 0.8180\n",
            "Epoch 60/100\n",
            "63/63 [==============================] - 4s 60ms/step - loss: 0.2545 - accuracy: 0.9015 - val_loss: 0.5204 - val_accuracy: 0.8180\n",
            "Epoch 61/100\n",
            "63/63 [==============================] - 4s 59ms/step - loss: 0.2385 - accuracy: 0.9045 - val_loss: 0.5686 - val_accuracy: 0.7970\n",
            "Epoch 62/100\n",
            "63/63 [==============================] - 8s 115ms/step - loss: 0.2304 - accuracy: 0.9055 - val_loss: 0.4625 - val_accuracy: 0.8470\n",
            "Epoch 63/100\n",
            "63/63 [==============================] - 4s 62ms/step - loss: 0.2236 - accuracy: 0.9150 - val_loss: 0.5894 - val_accuracy: 0.8230\n",
            "Epoch 64/100\n",
            "63/63 [==============================] - 5s 82ms/step - loss: 0.2343 - accuracy: 0.9045 - val_loss: 0.4752 - val_accuracy: 0.8460\n",
            "Epoch 65/100\n",
            "63/63 [==============================] - 6s 87ms/step - loss: 0.2307 - accuracy: 0.9035 - val_loss: 0.7706 - val_accuracy: 0.8130\n",
            "Epoch 66/100\n",
            "63/63 [==============================] - 4s 62ms/step - loss: 0.1884 - accuracy: 0.9285 - val_loss: 0.5585 - val_accuracy: 0.8240\n",
            "Epoch 67/100\n",
            "63/63 [==============================] - 4s 60ms/step - loss: 0.2266 - accuracy: 0.9130 - val_loss: 0.6791 - val_accuracy: 0.8370\n",
            "Epoch 68/100\n",
            "63/63 [==============================] - 6s 93ms/step - loss: 0.2252 - accuracy: 0.9150 - val_loss: 0.4355 - val_accuracy: 0.8290\n",
            "Epoch 69/100\n",
            "63/63 [==============================] - 4s 60ms/step - loss: 0.1901 - accuracy: 0.9270 - val_loss: 0.6889 - val_accuracy: 0.8400\n",
            "Epoch 70/100\n",
            "63/63 [==============================] - 4s 67ms/step - loss: 0.2157 - accuracy: 0.9180 - val_loss: 0.5171 - val_accuracy: 0.8170\n",
            "Epoch 71/100\n",
            "63/63 [==============================] - 8s 113ms/step - loss: 0.1949 - accuracy: 0.9195 - val_loss: 0.5783 - val_accuracy: 0.8330\n",
            "Epoch 72/100\n",
            "63/63 [==============================] - 4s 60ms/step - loss: 0.2284 - accuracy: 0.9125 - val_loss: 0.5144 - val_accuracy: 0.8350\n",
            "Epoch 73/100\n",
            "63/63 [==============================] - 6s 93ms/step - loss: 0.2113 - accuracy: 0.9175 - val_loss: 0.6297 - val_accuracy: 0.8270\n",
            "Epoch 74/100\n",
            "63/63 [==============================] - 5s 72ms/step - loss: 0.1845 - accuracy: 0.9255 - val_loss: 0.5819 - val_accuracy: 0.8410\n",
            "Epoch 75/100\n",
            "63/63 [==============================] - 4s 60ms/step - loss: 0.2078 - accuracy: 0.9180 - val_loss: 0.5317 - val_accuracy: 0.8570\n",
            "Epoch 76/100\n",
            "63/63 [==============================] - 5s 77ms/step - loss: 0.1929 - accuracy: 0.9280 - val_loss: 0.6619 - val_accuracy: 0.8400\n",
            "Epoch 77/100\n",
            "63/63 [==============================] - 6s 92ms/step - loss: 0.2092 - accuracy: 0.9140 - val_loss: 0.5467 - val_accuracy: 0.8410\n",
            "Epoch 78/100\n",
            "63/63 [==============================] - 4s 60ms/step - loss: 0.1874 - accuracy: 0.9290 - val_loss: 0.5496 - val_accuracy: 0.8460\n",
            "Epoch 79/100\n",
            "63/63 [==============================] - 8s 115ms/step - loss: 0.1961 - accuracy: 0.9200 - val_loss: 0.5359 - val_accuracy: 0.8470\n",
            "Epoch 80/100\n",
            "63/63 [==============================] - 4s 61ms/step - loss: 0.1872 - accuracy: 0.9255 - val_loss: 0.6423 - val_accuracy: 0.8360\n",
            "Epoch 81/100\n",
            "63/63 [==============================] - 4s 61ms/step - loss: 0.1775 - accuracy: 0.9260 - val_loss: 0.4294 - val_accuracy: 0.8520\n",
            "Epoch 82/100\n",
            "63/63 [==============================] - 8s 115ms/step - loss: 0.1833 - accuracy: 0.9255 - val_loss: 0.4638 - val_accuracy: 0.8520\n",
            "Epoch 83/100\n",
            "63/63 [==============================] - 4s 62ms/step - loss: 0.1796 - accuracy: 0.9360 - val_loss: 0.5292 - val_accuracy: 0.8580\n",
            "Epoch 84/100\n",
            "63/63 [==============================] - 4s 62ms/step - loss: 0.1812 - accuracy: 0.9305 - val_loss: 1.2143 - val_accuracy: 0.7540\n",
            "Epoch 85/100\n",
            "63/63 [==============================] - 7s 113ms/step - loss: 0.1755 - accuracy: 0.9330 - val_loss: 0.5192 - val_accuracy: 0.8530\n",
            "Epoch 86/100\n",
            "63/63 [==============================] - 4s 62ms/step - loss: 0.1756 - accuracy: 0.9350 - val_loss: 0.4620 - val_accuracy: 0.8470\n",
            "Epoch 87/100\n",
            "63/63 [==============================] - 5s 77ms/step - loss: 0.1690 - accuracy: 0.9395 - val_loss: 0.7373 - val_accuracy: 0.8200\n",
            "Epoch 88/100\n",
            "63/63 [==============================] - 4s 60ms/step - loss: 0.1669 - accuracy: 0.9445 - val_loss: 0.5164 - val_accuracy: 0.8390\n",
            "Epoch 89/100\n",
            "63/63 [==============================] - 5s 82ms/step - loss: 0.1724 - accuracy: 0.9360 - val_loss: 0.8119 - val_accuracy: 0.8290\n",
            "Epoch 90/100\n",
            "63/63 [==============================] - 6s 86ms/step - loss: 0.1818 - accuracy: 0.9360 - val_loss: 0.4373 - val_accuracy: 0.8510\n",
            "Epoch 91/100\n",
            "63/63 [==============================] - 4s 61ms/step - loss: 0.1841 - accuracy: 0.9295 - val_loss: 0.5388 - val_accuracy: 0.8460\n",
            "Epoch 92/100\n",
            "63/63 [==============================] - 5s 82ms/step - loss: 0.1568 - accuracy: 0.9435 - val_loss: 0.6086 - val_accuracy: 0.8550\n",
            "Epoch 93/100\n",
            "63/63 [==============================] - 6s 86ms/step - loss: 0.1775 - accuracy: 0.9395 - val_loss: 0.5341 - val_accuracy: 0.8490\n",
            "Epoch 94/100\n",
            "63/63 [==============================] - 4s 61ms/step - loss: 0.1410 - accuracy: 0.9480 - val_loss: 0.6467 - val_accuracy: 0.8490\n",
            "Epoch 95/100\n",
            "63/63 [==============================] - 4s 61ms/step - loss: 0.1475 - accuracy: 0.9465 - val_loss: 0.7131 - val_accuracy: 0.8490\n",
            "Epoch 96/100\n",
            "63/63 [==============================] - 6s 92ms/step - loss: 0.1885 - accuracy: 0.9365 - val_loss: 0.5352 - val_accuracy: 0.8640\n",
            "Epoch 97/100\n",
            "63/63 [==============================] - 4s 60ms/step - loss: 0.1664 - accuracy: 0.9390 - val_loss: 0.6814 - val_accuracy: 0.8480\n",
            "Epoch 98/100\n",
            "63/63 [==============================] - 7s 111ms/step - loss: 0.1399 - accuracy: 0.9530 - val_loss: 0.5775 - val_accuracy: 0.8680\n",
            "Epoch 99/100\n",
            "63/63 [==============================] - 4s 61ms/step - loss: 0.1597 - accuracy: 0.9450 - val_loss: 1.2265 - val_accuracy: 0.7610\n",
            "Epoch 100/100\n",
            "63/63 [==============================] - 6s 93ms/step - loss: 0.1720 - accuracy: 0.9360 - val_loss: 0.5710 - val_accuracy: 0.8540\n"
          ]
        }
      ],
      "source": [
        "#Using the callback function to save the model checkpoint with the best validation loss and also training the model while monitoring the validation loss\n",
        "callbacks = [\n",
        "    keras.callbacks.ModelCheckpoint(\n",
        "        filepath=\"convnet_from_scratch_with_augmentation.keras\",\n",
        "        save_best_only=True,\n",
        "        monitor=\"val_loss\")\n",
        "]\n",
        "history = model.fit(\n",
        "    train_dataset,\n",
        "    epochs=100,\n",
        "    validation_data=validation_dataset,\n",
        "    callbacks=callbacks)"
      ],
      "id": "56843ff2-1d1b-4000-9ef9-ea642c50ed5d"
    },
    {
      "cell_type": "code",
      "execution_count": 18,
      "metadata": {
        "colab": {
          "base_uri": "https://localhost:8080/"
        },
        "id": "b32f6026-5fbf-4a46-ab9d-1c3243aa3f44",
        "outputId": "1beb0b2d-f377-4488-d5ff-bdeeddf8c7a1"
      },
      "outputs": [
        {
          "output_type": "stream",
          "name": "stdout",
          "text": [
            "63/63 [==============================] - 3s 36ms/step - loss: 0.4465 - accuracy: 0.8095\n",
            "Test accuracy: 0.809\n"
          ]
        }
      ],
      "source": [
        "#Testing the model accuracy.\n",
        "test_model = keras.models.load_model(\n",
        "    \"convnet_from_scratch_with_augmentation.keras\")\n",
        "test_loss, test_acc = test_model.evaluate(test_dataset)\n",
        "print(f\"Test accuracy: {test_acc:.3f}\")"
      ],
      "id": "b32f6026-5fbf-4a46-ab9d-1c3243aa3f44"
    },
    {
      "cell_type": "markdown",
      "metadata": {
        "id": "6cb40929-b3a1-4aa3-9ad0-de6e38da4312"
      },
      "source": [
        "# Question 2"
      ],
      "id": "6cb40929-b3a1-4aa3-9ad0-de6e38da4312"
    },
    {
      "cell_type": "code",
      "execution_count": 20,
      "metadata": {
        "id": "89c78848-4d50-4c5a-bdfa-4c3fcbd84447"
      },
      "outputs": [],
      "source": [
        "#creating the directories and assigning the subset of the cat and dog images for the traing validation and testing.\n",
        "#Increasing the training samples from 1000 to 2000\n",
        "import os, shutil, pathlib\n",
        "\n",
        "#shutil.rmtree(\"cats_vs_dogs_Increased_trainsamples\")\n",
        "\n",
        "original_dir = pathlib.Path(\"train\")\n",
        "new_base_dir = pathlib.Path(\"cats_vs_dogs_Increased_trainsamples\")\n",
        "\n",
        "def make_subset(subset_name, start_index, end_index):\n",
        "    for category in (\"cat\", \"dog\"):\n",
        "        dir = new_base_dir / subset_name / category\n",
        "        os.makedirs(dir)\n",
        "        fnames = [f\"{category}.{i}.jpg\" for i in range(start_index, end_index)]\n",
        "        for fname in fnames:\n",
        "            shutil.copyfile(src=original_dir / fname,\n",
        "                            dst=dir / fname)\n",
        "\n",
        "make_subset(\"train\", start_index=0, end_index=2000)\n",
        "make_subset(\"validation\", start_index=2000, end_index=2500)\n",
        "make_subset(\"test\", start_index=2500, end_index=3500)"
      ],
      "id": "89c78848-4d50-4c5a-bdfa-4c3fcbd84447"
    },
    {
      "cell_type": "code",
      "execution_count": 21,
      "metadata": {
        "colab": {
          "base_uri": "https://localhost:8080/"
        },
        "id": "dfb620ea-b7ec-4869-a47b-4396d508dd2e",
        "outputId": "a469b12c-e95c-4430-f566-9533deef820a"
      },
      "outputs": [
        {
          "output_type": "stream",
          "name": "stdout",
          "text": [
            "Model: \"model_2\"\n",
            "_________________________________________________________________\n",
            " Layer (type)                Output Shape              Param #   \n",
            "=================================================================\n",
            " input_3 (InputLayer)        [(None, 180, 180, 3)]     0         \n",
            "                                                                 \n",
            " rescaling_2 (Rescaling)     (None, 180, 180, 3)       0         \n",
            "                                                                 \n",
            " conv2d_10 (Conv2D)          (None, 178, 178, 32)      896       \n",
            "                                                                 \n",
            " max_pooling2d_8 (MaxPooling  (None, 89, 89, 32)       0         \n",
            " 2D)                                                             \n",
            "                                                                 \n",
            " conv2d_11 (Conv2D)          (None, 87, 87, 64)        18496     \n",
            "                                                                 \n",
            " max_pooling2d_9 (MaxPooling  (None, 43, 43, 64)       0         \n",
            " 2D)                                                             \n",
            "                                                                 \n",
            " conv2d_12 (Conv2D)          (None, 41, 41, 128)       73856     \n",
            "                                                                 \n",
            " max_pooling2d_10 (MaxPoolin  (None, 20, 20, 128)      0         \n",
            " g2D)                                                            \n",
            "                                                                 \n",
            " conv2d_13 (Conv2D)          (None, 18, 18, 256)       295168    \n",
            "                                                                 \n",
            " max_pooling2d_11 (MaxPoolin  (None, 9, 9, 256)        0         \n",
            " g2D)                                                            \n",
            "                                                                 \n",
            " conv2d_14 (Conv2D)          (None, 7, 7, 256)         590080    \n",
            "                                                                 \n",
            " flatten_2 (Flatten)         (None, 12544)             0         \n",
            "                                                                 \n",
            " dense_2 (Dense)             (None, 1)                 12545     \n",
            "                                                                 \n",
            "=================================================================\n",
            "Total params: 991,041\n",
            "Trainable params: 991,041\n",
            "Non-trainable params: 0\n",
            "_________________________________________________________________\n"
          ]
        }
      ],
      "source": [
        "#Building the model and compiling it.\n",
        "from tensorflow import keras\n",
        "from tensorflow.keras import layers\n",
        "\n",
        "inputs = keras.Input(shape=(180, 180, 3))\n",
        "x = layers.Rescaling(1./255)(inputs)\n",
        "x = layers.Conv2D(filters=32, kernel_size=3, activation=\"relu\")(x)\n",
        "x = layers.MaxPooling2D(pool_size=2)(x)\n",
        "x = layers.Conv2D(filters=64, kernel_size=3, activation=\"relu\")(x)\n",
        "x = layers.MaxPooling2D(pool_size=2)(x)\n",
        "x = layers.Conv2D(filters=128, kernel_size=3, activation=\"relu\")(x)\n",
        "x = layers.MaxPooling2D(pool_size=2)(x)\n",
        "x = layers.Conv2D(filters=256, kernel_size=3, activation=\"relu\")(x)\n",
        "x = layers.MaxPooling2D(pool_size=2)(x)\n",
        "x = layers.Conv2D(filters=256, kernel_size=3, activation=\"relu\")(x)\n",
        "x = layers.Flatten()(x)\n",
        "outputs = layers.Dense(1, activation=\"sigmoid\")(x)\n",
        "model = keras.Model(inputs=inputs, outputs=outputs)\n",
        "\n",
        "model.summary()"
      ],
      "id": "dfb620ea-b7ec-4869-a47b-4396d508dd2e"
    },
    {
      "cell_type": "code",
      "execution_count": 22,
      "metadata": {
        "id": "b95ee4aa-7c67-464f-9208-9cadb22d011e"
      },
      "outputs": [],
      "source": [
        "model.compile(loss=\"binary_crossentropy\",\n",
        "              optimizer=\"rmsprop\",\n",
        "              metrics=[\"accuracy\"])"
      ],
      "id": "b95ee4aa-7c67-464f-9208-9cadb22d011e"
    },
    {
      "cell_type": "code",
      "execution_count": 23,
      "metadata": {
        "colab": {
          "base_uri": "https://localhost:8080/"
        },
        "id": "2ee6d21f-4ddb-40bc-b98d-d62d0dd78598",
        "outputId": "4d6fe380-86c6-45ab-b626-254acc3e92f5"
      },
      "outputs": [
        {
          "output_type": "stream",
          "name": "stdout",
          "text": [
            "Epoch 1/30\n",
            "63/63 [==============================] - 9s 114ms/step - loss: 0.7199 - accuracy: 0.5415 - val_loss: 0.7031 - val_accuracy: 0.5000\n",
            "Epoch 2/30\n",
            "63/63 [==============================] - 4s 59ms/step - loss: 0.6939 - accuracy: 0.5235 - val_loss: 0.6820 - val_accuracy: 0.5190\n",
            "Epoch 3/30\n",
            "63/63 [==============================] - 4s 59ms/step - loss: 0.6823 - accuracy: 0.5805 - val_loss: 0.6884 - val_accuracy: 0.5650\n",
            "Epoch 4/30\n",
            "63/63 [==============================] - 7s 113ms/step - loss: 0.6323 - accuracy: 0.6430 - val_loss: 0.6273 - val_accuracy: 0.6450\n",
            "Epoch 5/30\n",
            "63/63 [==============================] - 4s 60ms/step - loss: 0.6006 - accuracy: 0.6900 - val_loss: 0.5956 - val_accuracy: 0.6750\n",
            "Epoch 6/30\n",
            "63/63 [==============================] - 4s 59ms/step - loss: 0.6026 - accuracy: 0.7000 - val_loss: 0.6597 - val_accuracy: 0.6420\n",
            "Epoch 7/30\n",
            "63/63 [==============================] - 6s 88ms/step - loss: 0.5210 - accuracy: 0.7470 - val_loss: 0.6454 - val_accuracy: 0.6470\n",
            "Epoch 8/30\n",
            "63/63 [==============================] - 5s 71ms/step - loss: 0.4993 - accuracy: 0.7560 - val_loss: 0.6286 - val_accuracy: 0.7000\n",
            "Epoch 9/30\n",
            "63/63 [==============================] - 4s 58ms/step - loss: 0.4662 - accuracy: 0.7810 - val_loss: 0.8488 - val_accuracy: 0.6640\n",
            "Epoch 10/30\n",
            "63/63 [==============================] - 5s 79ms/step - loss: 0.4073 - accuracy: 0.8165 - val_loss: 0.6205 - val_accuracy: 0.7150\n",
            "Epoch 11/30\n",
            "63/63 [==============================] - 4s 58ms/step - loss: 0.3794 - accuracy: 0.8380 - val_loss: 0.6980 - val_accuracy: 0.7110\n",
            "Epoch 12/30\n",
            "63/63 [==============================] - 5s 83ms/step - loss: 0.3228 - accuracy: 0.8595 - val_loss: 0.6194 - val_accuracy: 0.7370\n",
            "Epoch 13/30\n",
            "63/63 [==============================] - 4s 57ms/step - loss: 0.2943 - accuracy: 0.8740 - val_loss: 0.6627 - val_accuracy: 0.7010\n",
            "Epoch 14/30\n",
            "63/63 [==============================] - 5s 80ms/step - loss: 0.2355 - accuracy: 0.9015 - val_loss: 0.6831 - val_accuracy: 0.7410\n",
            "Epoch 15/30\n",
            "63/63 [==============================] - 4s 59ms/step - loss: 0.1848 - accuracy: 0.9190 - val_loss: 0.8863 - val_accuracy: 0.7390\n",
            "Epoch 16/30\n",
            "63/63 [==============================] - 5s 80ms/step - loss: 0.1645 - accuracy: 0.9330 - val_loss: 0.9347 - val_accuracy: 0.7240\n",
            "Epoch 17/30\n",
            "63/63 [==============================] - 6s 83ms/step - loss: 0.1321 - accuracy: 0.9565 - val_loss: 1.0091 - val_accuracy: 0.7380\n",
            "Epoch 18/30\n",
            "63/63 [==============================] - 4s 60ms/step - loss: 0.0973 - accuracy: 0.9680 - val_loss: 0.9966 - val_accuracy: 0.7450\n",
            "Epoch 19/30\n",
            "63/63 [==============================] - 7s 101ms/step - loss: 0.0896 - accuracy: 0.9690 - val_loss: 1.2844 - val_accuracy: 0.7630\n",
            "Epoch 20/30\n",
            "63/63 [==============================] - 4s 57ms/step - loss: 0.0776 - accuracy: 0.9720 - val_loss: 1.1737 - val_accuracy: 0.7580\n",
            "Epoch 21/30\n",
            "63/63 [==============================] - 4s 59ms/step - loss: 0.0441 - accuracy: 0.9850 - val_loss: 1.2386 - val_accuracy: 0.7550\n",
            "Epoch 22/30\n",
            "63/63 [==============================] - 7s 108ms/step - loss: 0.0546 - accuracy: 0.9800 - val_loss: 1.5445 - val_accuracy: 0.7270\n",
            "Epoch 23/30\n",
            "63/63 [==============================] - 4s 58ms/step - loss: 0.0336 - accuracy: 0.9865 - val_loss: 1.6052 - val_accuracy: 0.7640\n",
            "Epoch 24/30\n",
            "63/63 [==============================] - 4s 60ms/step - loss: 0.0665 - accuracy: 0.9790 - val_loss: 1.5959 - val_accuracy: 0.7670\n",
            "Epoch 25/30\n",
            "63/63 [==============================] - 6s 89ms/step - loss: 0.0449 - accuracy: 0.9855 - val_loss: 1.6105 - val_accuracy: 0.7530\n",
            "Epoch 26/30\n",
            "63/63 [==============================] - 5s 72ms/step - loss: 0.0492 - accuracy: 0.9835 - val_loss: 1.6946 - val_accuracy: 0.7570\n",
            "Epoch 27/30\n",
            "63/63 [==============================] - 4s 57ms/step - loss: 0.0584 - accuracy: 0.9810 - val_loss: 1.5953 - val_accuracy: 0.7550\n",
            "Epoch 28/30\n",
            "63/63 [==============================] - 5s 81ms/step - loss: 0.0588 - accuracy: 0.9830 - val_loss: 1.8913 - val_accuracy: 0.7230\n",
            "Epoch 29/30\n",
            "63/63 [==============================] - 4s 58ms/step - loss: 0.0300 - accuracy: 0.9895 - val_loss: 1.7618 - val_accuracy: 0.7660\n",
            "Epoch 30/30\n",
            "63/63 [==============================] - 5s 82ms/step - loss: 0.0284 - accuracy: 0.9900 - val_loss: 2.0218 - val_accuracy: 0.7590\n"
          ]
        }
      ],
      "source": [
        "#Using the callback function to save the model checkpoint with the best validation loss and also training the model while monitoring the validation loss\n",
        "callbacks = [\n",
        "    keras.callbacks.ModelCheckpoint(\n",
        "        filepath=\"convnet_from_scratch_with_augmentation.keras\",\n",
        "        save_best_only=True,\n",
        "        monitor=\"val_loss\")\n",
        "]\n",
        "history = model.fit(\n",
        "    train_dataset,\n",
        "    epochs=30,\n",
        "    validation_data=validation_dataset,\n",
        "    callbacks=callbacks)\n"
      ],
      "id": "2ee6d21f-4ddb-40bc-b98d-d62d0dd78598"
    },
    {
      "cell_type": "code",
      "execution_count": 24,
      "metadata": {
        "colab": {
          "base_uri": "https://localhost:8080/"
        },
        "id": "02681533-99d0-4371-90ef-764487f3cea4",
        "outputId": "44871a8c-6ed3-440d-9be2-4f9749575d0f"
      },
      "outputs": [
        {
          "output_type": "stream",
          "name": "stdout",
          "text": [
            "63/63 [==============================] - 5s 64ms/step - loss: 0.5933 - accuracy: 0.6950\n",
            "Test accuracy: 0.695\n"
          ]
        }
      ],
      "source": [
        "#Testing the model accuracy.\n",
        "test_model = keras.models.load_model(\n",
        "    \"convnet_from_scratch_with_augmentation.keras\")\n",
        "test_loss, test_acc = test_model.evaluate(test_dataset)\n",
        "print(f\"Test accuracy: {test_acc:.3f}\")"
      ],
      "id": "02681533-99d0-4371-90ef-764487f3cea4"
    },
    {
      "cell_type": "markdown",
      "metadata": {
        "id": "b509ca65-035d-428d-b195-2c5d086a7a1f"
      },
      "source": [
        "# Question 3"
      ],
      "id": "b509ca65-035d-428d-b195-2c5d086a7a1f"
    },
    {
      "cell_type": "markdown",
      "source": [
        "##3000 Sample Size"
      ],
      "metadata": {
        "id": "ROmKXbBn90pW"
      },
      "id": "ROmKXbBn90pW"
    },
    {
      "cell_type": "code",
      "execution_count": 26,
      "metadata": {
        "id": "25a88543-d6a3-471b-b49c-22e96952e02c"
      },
      "outputs": [],
      "source": [
        "#Increasing the training sample size to find the optimal training sample size.\n",
        "import os, shutil, pathlib\n",
        "\n",
        "#shutil.rmtree(\"cats_vs_dogs_Increased_trainsamples\")\n",
        "\n",
        "original_dir = pathlib.Path(\"train\")\n",
        "new_base_dir = pathlib.Path(\"cats_vs_dogs_Increased_trainsamples\")\n",
        "\n",
        "def make_subset(subset_name, start_index, end_index):\n",
        "    for category in (\"cat\", \"dog\"):\n",
        "        dir = new_base_dir / subset_name / category\n",
        "        os.makedirs(dir)\n",
        "        fnames = [f\"{category}.{i}.jpg\" for i in range(start_index, end_index)]\n",
        "        for fname in fnames:\n",
        "            shutil.copyfile(src=original_dir / fname,\n",
        "                            dst=dir / fname)\n",
        "\n",
        "make_subset(\"train\", start_index=0, end_index=3000)\n",
        "make_subset(\"validation\", start_index=3000, end_index=3500)\n",
        "make_subset(\"test\", start_index=3500, end_index=4500)\n"
      ],
      "id": "25a88543-d6a3-471b-b49c-22e96952e02c"
    },
    {
      "cell_type": "code",
      "execution_count": 27,
      "metadata": {
        "colab": {
          "base_uri": "https://localhost:8080/"
        },
        "id": "59f31466-8b64-46af-b912-a128853e9c73",
        "outputId": "d36db7a2-2e1a-4f06-c46a-d9ac73c89cbf"
      },
      "outputs": [
        {
          "output_type": "stream",
          "name": "stdout",
          "text": [
            "Model: \"model_3\"\n",
            "_________________________________________________________________\n",
            " Layer (type)                Output Shape              Param #   \n",
            "=================================================================\n",
            " input_4 (InputLayer)        [(None, 180, 180, 3)]     0         \n",
            "                                                                 \n",
            " rescaling_3 (Rescaling)     (None, 180, 180, 3)       0         \n",
            "                                                                 \n",
            " conv2d_15 (Conv2D)          (None, 178, 178, 32)      896       \n",
            "                                                                 \n",
            " max_pooling2d_12 (MaxPoolin  (None, 89, 89, 32)       0         \n",
            " g2D)                                                            \n",
            "                                                                 \n",
            " conv2d_16 (Conv2D)          (None, 87, 87, 64)        18496     \n",
            "                                                                 \n",
            " max_pooling2d_13 (MaxPoolin  (None, 43, 43, 64)       0         \n",
            " g2D)                                                            \n",
            "                                                                 \n",
            " conv2d_17 (Conv2D)          (None, 41, 41, 128)       73856     \n",
            "                                                                 \n",
            " max_pooling2d_14 (MaxPoolin  (None, 20, 20, 128)      0         \n",
            " g2D)                                                            \n",
            "                                                                 \n",
            " conv2d_18 (Conv2D)          (None, 18, 18, 256)       295168    \n",
            "                                                                 \n",
            " max_pooling2d_15 (MaxPoolin  (None, 9, 9, 256)        0         \n",
            " g2D)                                                            \n",
            "                                                                 \n",
            " conv2d_19 (Conv2D)          (None, 7, 7, 256)         590080    \n",
            "                                                                 \n",
            " flatten_3 (Flatten)         (None, 12544)             0         \n",
            "                                                                 \n",
            " dense_3 (Dense)             (None, 1)                 12545     \n",
            "                                                                 \n",
            "=================================================================\n",
            "Total params: 991,041\n",
            "Trainable params: 991,041\n",
            "Non-trainable params: 0\n",
            "_________________________________________________________________\n"
          ]
        }
      ],
      "source": [
        "#Building the model and compiling it.\n",
        "from tensorflow import keras\n",
        "from tensorflow.keras import layers\n",
        "\n",
        "inputs = keras.Input(shape=(180, 180, 3))\n",
        "x = layers.Rescaling(1./255)(inputs)\n",
        "x = layers.Conv2D(filters=32, kernel_size=3, activation=\"relu\")(x)\n",
        "x = layers.MaxPooling2D(pool_size=2)(x)\n",
        "x = layers.Conv2D(filters=64, kernel_size=3, activation=\"relu\")(x)\n",
        "x = layers.MaxPooling2D(pool_size=2)(x)\n",
        "x = layers.Conv2D(filters=128, kernel_size=3, activation=\"relu\")(x)\n",
        "x = layers.MaxPooling2D(pool_size=2)(x)\n",
        "x = layers.Conv2D(filters=256, kernel_size=3, activation=\"relu\")(x)\n",
        "x = layers.MaxPooling2D(pool_size=2)(x)\n",
        "x = layers.Conv2D(filters=256, kernel_size=3, activation=\"relu\")(x)\n",
        "x = layers.Flatten()(x)\n",
        "outputs = layers.Dense(1, activation=\"sigmoid\")(x)\n",
        "model = keras.Model(inputs=inputs, outputs=outputs)\n",
        "\n",
        "model.summary()"
      ],
      "id": "59f31466-8b64-46af-b912-a128853e9c73"
    },
    {
      "cell_type": "code",
      "execution_count": 28,
      "metadata": {
        "id": "cd4fa4b4-74a7-4b61-919b-d14c5a06ae24"
      },
      "outputs": [],
      "source": [
        "model.compile(loss=\"binary_crossentropy\",\n",
        "              optimizer=\"rmsprop\",\n",
        "              metrics=[\"accuracy\"])"
      ],
      "id": "cd4fa4b4-74a7-4b61-919b-d14c5a06ae24"
    },
    {
      "cell_type": "code",
      "execution_count": 29,
      "metadata": {
        "colab": {
          "base_uri": "https://localhost:8080/"
        },
        "id": "49e67cc6-fb2f-411d-a5fc-9444b237c767",
        "outputId": "c9bf888a-610e-4845-f447-ca322226cdc1"
      },
      "outputs": [
        {
          "output_type": "stream",
          "name": "stdout",
          "text": [
            "Epoch 1/30\n",
            "63/63 [==============================] - 9s 108ms/step - loss: 0.7052 - accuracy: 0.5045 - val_loss: 0.6926 - val_accuracy: 0.5000\n",
            "Epoch 2/30\n",
            "63/63 [==============================] - 4s 61ms/step - loss: 0.6989 - accuracy: 0.5130 - val_loss: 0.6882 - val_accuracy: 0.5740\n",
            "Epoch 3/30\n",
            "63/63 [==============================] - 4s 60ms/step - loss: 0.6897 - accuracy: 0.5505 - val_loss: 0.6735 - val_accuracy: 0.6170\n",
            "Epoch 4/30\n",
            "63/63 [==============================] - 6s 90ms/step - loss: 0.6679 - accuracy: 0.5915 - val_loss: 0.6423 - val_accuracy: 0.6310\n",
            "Epoch 5/30\n",
            "63/63 [==============================] - 5s 74ms/step - loss: 0.6395 - accuracy: 0.6425 - val_loss: 0.6394 - val_accuracy: 0.6310\n",
            "Epoch 6/30\n",
            "63/63 [==============================] - 4s 59ms/step - loss: 0.6043 - accuracy: 0.6790 - val_loss: 0.6223 - val_accuracy: 0.6590\n",
            "Epoch 7/30\n",
            "63/63 [==============================] - 4s 66ms/step - loss: 0.5805 - accuracy: 0.6925 - val_loss: 0.5798 - val_accuracy: 0.6950\n",
            "Epoch 8/30\n",
            "63/63 [==============================] - 6s 86ms/step - loss: 0.5441 - accuracy: 0.7270 - val_loss: 0.5673 - val_accuracy: 0.6890\n",
            "Epoch 9/30\n",
            "63/63 [==============================] - 4s 59ms/step - loss: 0.5037 - accuracy: 0.7600 - val_loss: 0.5687 - val_accuracy: 0.7130\n",
            "Epoch 10/30\n",
            "63/63 [==============================] - 4s 58ms/step - loss: 0.4608 - accuracy: 0.7880 - val_loss: 0.6197 - val_accuracy: 0.6890\n",
            "Epoch 11/30\n",
            "63/63 [==============================] - 7s 111ms/step - loss: 0.4232 - accuracy: 0.8050 - val_loss: 0.5966 - val_accuracy: 0.7220\n",
            "Epoch 12/30\n",
            "63/63 [==============================] - 4s 59ms/step - loss: 0.3874 - accuracy: 0.8260 - val_loss: 0.8325 - val_accuracy: 0.6660\n",
            "Epoch 13/30\n",
            "63/63 [==============================] - 4s 58ms/step - loss: 0.3225 - accuracy: 0.8580 - val_loss: 0.6956 - val_accuracy: 0.6620\n",
            "Epoch 14/30\n",
            "63/63 [==============================] - 5s 83ms/step - loss: 0.3001 - accuracy: 0.8685 - val_loss: 0.7203 - val_accuracy: 0.7100\n",
            "Epoch 15/30\n",
            "63/63 [==============================] - 5s 78ms/step - loss: 0.2332 - accuracy: 0.9005 - val_loss: 0.8845 - val_accuracy: 0.7090\n",
            "Epoch 16/30\n",
            "63/63 [==============================] - 4s 57ms/step - loss: 0.1840 - accuracy: 0.9280 - val_loss: 1.1790 - val_accuracy: 0.7000\n",
            "Epoch 17/30\n",
            "63/63 [==============================] - 5s 79ms/step - loss: 0.1452 - accuracy: 0.9445 - val_loss: 1.2307 - val_accuracy: 0.6920\n",
            "Epoch 18/30\n",
            "63/63 [==============================] - 4s 56ms/step - loss: 0.1103 - accuracy: 0.9625 - val_loss: 1.3038 - val_accuracy: 0.6920\n",
            "Epoch 19/30\n",
            "63/63 [==============================] - 5s 80ms/step - loss: 0.1082 - accuracy: 0.9625 - val_loss: 1.3582 - val_accuracy: 0.7070\n",
            "Epoch 20/30\n",
            "63/63 [==============================] - 4s 61ms/step - loss: 0.0668 - accuracy: 0.9755 - val_loss: 1.8000 - val_accuracy: 0.6790\n",
            "Epoch 21/30\n",
            "63/63 [==============================] - 4s 61ms/step - loss: 0.0582 - accuracy: 0.9760 - val_loss: 1.9645 - val_accuracy: 0.6620\n",
            "Epoch 22/30\n",
            "63/63 [==============================] - 6s 84ms/step - loss: 0.0569 - accuracy: 0.9800 - val_loss: 2.0869 - val_accuracy: 0.6970\n",
            "Epoch 23/30\n",
            "63/63 [==============================] - 4s 59ms/step - loss: 0.0680 - accuracy: 0.9795 - val_loss: 1.8714 - val_accuracy: 0.7010\n",
            "Epoch 24/30\n",
            "63/63 [==============================] - 4s 59ms/step - loss: 0.0599 - accuracy: 0.9780 - val_loss: 1.9850 - val_accuracy: 0.6950\n",
            "Epoch 25/30\n",
            "63/63 [==============================] - 7s 110ms/step - loss: 0.0548 - accuracy: 0.9810 - val_loss: 2.0450 - val_accuracy: 0.7050\n",
            "Epoch 26/30\n",
            "63/63 [==============================] - 4s 57ms/step - loss: 0.0622 - accuracy: 0.9820 - val_loss: 2.0260 - val_accuracy: 0.6710\n",
            "Epoch 27/30\n",
            "63/63 [==============================] - 5s 79ms/step - loss: 0.0405 - accuracy: 0.9865 - val_loss: 2.0428 - val_accuracy: 0.7060\n",
            "Epoch 28/30\n",
            "63/63 [==============================] - 4s 60ms/step - loss: 0.0329 - accuracy: 0.9900 - val_loss: 2.4595 - val_accuracy: 0.6810\n",
            "Epoch 29/30\n",
            "63/63 [==============================] - 5s 80ms/step - loss: 0.0368 - accuracy: 0.9875 - val_loss: 2.5491 - val_accuracy: 0.6980\n",
            "Epoch 30/30\n",
            "63/63 [==============================] - 6s 84ms/step - loss: 0.0519 - accuracy: 0.9855 - val_loss: 2.4307 - val_accuracy: 0.6960\n"
          ]
        }
      ],
      "source": [
        "callbacks = [\n",
        "    keras.callbacks.ModelCheckpoint(\n",
        "        filepath=\"convnet_from_scratch.keras\",\n",
        "        save_best_only=True,\n",
        "        monitor=\"val_loss\")\n",
        "]\n",
        "\n",
        "history = model.fit(\n",
        "    train_dataset,\n",
        "    epochs=30,\n",
        "    validation_data=validation_dataset,\n",
        "    callbacks=callbacks)\n"
      ],
      "id": "49e67cc6-fb2f-411d-a5fc-9444b237c767"
    },
    {
      "cell_type": "code",
      "execution_count": 30,
      "metadata": {
        "colab": {
          "base_uri": "https://localhost:8080/"
        },
        "id": "cce709df-8e7b-4745-874d-7b3acb1ae53c",
        "outputId": "26369a4a-d2fa-4511-d79e-de0bde2a9fcd"
      },
      "outputs": [
        {
          "output_type": "stream",
          "name": "stdout",
          "text": [
            "63/63 [==============================] - 3s 35ms/step - loss: 0.5796 - accuracy: 0.6990\n",
            "Test accuracy: 0.699\n"
          ]
        }
      ],
      "source": [
        "#Testing the model accuracy.\n",
        "test_model = keras.models.load_model(\"convnet_from_scratch.keras\")\n",
        "test_loss, test_acc = test_model.evaluate(test_dataset)\n",
        "print(f\"Test accuracy: {test_acc:.3f}\")"
      ],
      "id": "cce709df-8e7b-4745-874d-7b3acb1ae53c"
    },
    {
      "cell_type": "markdown",
      "source": [
        "##4000 Sample Size"
      ],
      "metadata": {
        "id": "3PhzRNQK9p6V"
      },
      "id": "3PhzRNQK9p6V"
    },
    {
      "cell_type": "code",
      "execution_count": 31,
      "metadata": {
        "id": "qPMqcAMMiPyc"
      },
      "outputs": [],
      "source": [
        "#Increasing the training sample size to find the optimal training sample size.\n",
        "import os, shutil, pathlib\n",
        "\n",
        "#shutil.rmtree(\"cats_vs_dogs_Increasedto4000_trainsamples\")\n",
        "\n",
        "original_dir = pathlib.Path(\"train\")\n",
        "new_base_dir = pathlib.Path(\"cats_vs_dogs_Increasedto4000_trainsamples\")\n",
        "\n",
        "def make_subset(subset_name, start_index, end_index):\n",
        "    for category in (\"cat\", \"dog\"):\n",
        "        dir = new_base_dir / subset_name / category\n",
        "        os.makedirs(dir)\n",
        "        fnames = [f\"{category}.{i}.jpg\" for i in range(start_index, end_index)]\n",
        "        for fname in fnames:\n",
        "            shutil.copyfile(src=original_dir / fname,\n",
        "                            dst=dir / fname)\n",
        "\n",
        "make_subset(\"train\", start_index=0, end_index=4000)\n",
        "make_subset(\"validation\", start_index=4000, end_index=4500)\n",
        "make_subset(\"test\", start_index=4500, end_index=5500)\n"
      ],
      "id": "qPMqcAMMiPyc"
    },
    {
      "cell_type": "code",
      "execution_count": 32,
      "metadata": {
        "colab": {
          "base_uri": "https://localhost:8080/"
        },
        "id": "aSAYD3iLiqYy",
        "outputId": "77074263-b71a-4a32-e2d3-1e878794f67c"
      },
      "outputs": [
        {
          "output_type": "stream",
          "name": "stdout",
          "text": [
            "Model: \"model_4\"\n",
            "_________________________________________________________________\n",
            " Layer (type)                Output Shape              Param #   \n",
            "=================================================================\n",
            " input_5 (InputLayer)        [(None, 180, 180, 3)]     0         \n",
            "                                                                 \n",
            " rescaling_4 (Rescaling)     (None, 180, 180, 3)       0         \n",
            "                                                                 \n",
            " conv2d_20 (Conv2D)          (None, 178, 178, 32)      896       \n",
            "                                                                 \n",
            " max_pooling2d_16 (MaxPoolin  (None, 89, 89, 32)       0         \n",
            " g2D)                                                            \n",
            "                                                                 \n",
            " conv2d_21 (Conv2D)          (None, 87, 87, 64)        18496     \n",
            "                                                                 \n",
            " max_pooling2d_17 (MaxPoolin  (None, 43, 43, 64)       0         \n",
            " g2D)                                                            \n",
            "                                                                 \n",
            " conv2d_22 (Conv2D)          (None, 41, 41, 128)       73856     \n",
            "                                                                 \n",
            " max_pooling2d_18 (MaxPoolin  (None, 20, 20, 128)      0         \n",
            " g2D)                                                            \n",
            "                                                                 \n",
            " conv2d_23 (Conv2D)          (None, 18, 18, 256)       295168    \n",
            "                                                                 \n",
            " max_pooling2d_19 (MaxPoolin  (None, 9, 9, 256)        0         \n",
            " g2D)                                                            \n",
            "                                                                 \n",
            " conv2d_24 (Conv2D)          (None, 7, 7, 256)         590080    \n",
            "                                                                 \n",
            " flatten_4 (Flatten)         (None, 12544)             0         \n",
            "                                                                 \n",
            " dense_4 (Dense)             (None, 1)                 12545     \n",
            "                                                                 \n",
            "=================================================================\n",
            "Total params: 991,041\n",
            "Trainable params: 991,041\n",
            "Non-trainable params: 0\n",
            "_________________________________________________________________\n"
          ]
        }
      ],
      "source": [
        "#Building the model and compiling it.\n",
        "from tensorflow import keras\n",
        "from tensorflow.keras import layers\n",
        "\n",
        "inputs = keras.Input(shape=(180, 180, 3))\n",
        "x = layers.Rescaling(1./255)(inputs)\n",
        "x = layers.Conv2D(filters=32, kernel_size=3, activation=\"relu\")(x)\n",
        "x = layers.MaxPooling2D(pool_size=2)(x)\n",
        "x = layers.Conv2D(filters=64, kernel_size=3, activation=\"relu\")(x)\n",
        "x = layers.MaxPooling2D(pool_size=2)(x)\n",
        "x = layers.Conv2D(filters=128, kernel_size=3, activation=\"relu\")(x)\n",
        "x = layers.MaxPooling2D(pool_size=2)(x)\n",
        "x = layers.Conv2D(filters=256, kernel_size=3, activation=\"relu\")(x)\n",
        "x = layers.MaxPooling2D(pool_size=2)(x)\n",
        "x = layers.Conv2D(filters=256, kernel_size=3, activation=\"relu\")(x)\n",
        "x = layers.Flatten()(x)\n",
        "outputs = layers.Dense(1, activation=\"sigmoid\")(x)\n",
        "model = keras.Model(inputs=inputs, outputs=outputs)\n",
        "\n",
        "model.summary()"
      ],
      "id": "aSAYD3iLiqYy"
    },
    {
      "cell_type": "code",
      "execution_count": 33,
      "metadata": {
        "id": "ybnkXCyXsvl9"
      },
      "outputs": [],
      "source": [
        "model.compile(loss=\"binary_crossentropy\",\n",
        "              optimizer=\"rmsprop\",\n",
        "              metrics=[\"accuracy\"])"
      ],
      "id": "ybnkXCyXsvl9"
    },
    {
      "cell_type": "code",
      "execution_count": 34,
      "metadata": {
        "colab": {
          "base_uri": "https://localhost:8080/"
        },
        "id": "Cw8Rf-ytitOr",
        "outputId": "621ff2ed-8625-44f6-a741-4d72bec8a2bb"
      },
      "outputs": [
        {
          "output_type": "stream",
          "name": "stdout",
          "text": [
            "Epoch 1/30\n",
            "63/63 [==============================] - 7s 60ms/step - loss: 0.7394 - accuracy: 0.4955 - val_loss: 0.6928 - val_accuracy: 0.5000\n",
            "Epoch 2/30\n",
            "63/63 [==============================] - 4s 57ms/step - loss: 0.7149 - accuracy: 0.5135 - val_loss: 0.6930 - val_accuracy: 0.5010\n",
            "Epoch 3/30\n",
            "63/63 [==============================] - 7s 104ms/step - loss: 0.6936 - accuracy: 0.5225 - val_loss: 0.6984 - val_accuracy: 0.5000\n",
            "Epoch 4/30\n",
            "63/63 [==============================] - 4s 57ms/step - loss: 0.7034 - accuracy: 0.5340 - val_loss: 0.6868 - val_accuracy: 0.5230\n",
            "Epoch 5/30\n",
            "63/63 [==============================] - 4s 67ms/step - loss: 0.6877 - accuracy: 0.5715 - val_loss: 0.6755 - val_accuracy: 0.5860\n",
            "Epoch 6/30\n",
            "63/63 [==============================] - 6s 90ms/step - loss: 0.6627 - accuracy: 0.6160 - val_loss: 0.6523 - val_accuracy: 0.6210\n",
            "Epoch 7/30\n",
            "63/63 [==============================] - 4s 59ms/step - loss: 0.6103 - accuracy: 0.6635 - val_loss: 0.5850 - val_accuracy: 0.6780\n",
            "Epoch 8/30\n",
            "63/63 [==============================] - 4s 57ms/step - loss: 0.5740 - accuracy: 0.7140 - val_loss: 0.5929 - val_accuracy: 0.6650\n",
            "Epoch 9/30\n",
            "63/63 [==============================] - 8s 113ms/step - loss: 0.5372 - accuracy: 0.7285 - val_loss: 0.6304 - val_accuracy: 0.6390\n",
            "Epoch 10/30\n",
            "63/63 [==============================] - 4s 58ms/step - loss: 0.5119 - accuracy: 0.7445 - val_loss: 0.6237 - val_accuracy: 0.6920\n",
            "Epoch 11/30\n",
            "63/63 [==============================] - 4s 61ms/step - loss: 0.4683 - accuracy: 0.7805 - val_loss: 0.5793 - val_accuracy: 0.7030\n",
            "Epoch 12/30\n",
            "63/63 [==============================] - 7s 107ms/step - loss: 0.4314 - accuracy: 0.8015 - val_loss: 0.5956 - val_accuracy: 0.7140\n",
            "Epoch 13/30\n",
            "63/63 [==============================] - 4s 60ms/step - loss: 0.3905 - accuracy: 0.8255 - val_loss: 0.7685 - val_accuracy: 0.6880\n",
            "Epoch 14/30\n",
            "63/63 [==============================] - 5s 80ms/step - loss: 0.3266 - accuracy: 0.8580 - val_loss: 0.7190 - val_accuracy: 0.6830\n",
            "Epoch 15/30\n",
            "63/63 [==============================] - 6s 80ms/step - loss: 0.2612 - accuracy: 0.8970 - val_loss: 0.7595 - val_accuracy: 0.7280\n",
            "Epoch 16/30\n",
            "63/63 [==============================] - 4s 57ms/step - loss: 0.2201 - accuracy: 0.9050 - val_loss: 0.8381 - val_accuracy: 0.7120\n",
            "Epoch 17/30\n",
            "63/63 [==============================] - 4s 59ms/step - loss: 0.1864 - accuracy: 0.9210 - val_loss: 1.0817 - val_accuracy: 0.6890\n",
            "Epoch 18/30\n",
            "63/63 [==============================] - 6s 90ms/step - loss: 0.1405 - accuracy: 0.9490 - val_loss: 1.4598 - val_accuracy: 0.6690\n",
            "Epoch 19/30\n",
            "63/63 [==============================] - 4s 60ms/step - loss: 0.0927 - accuracy: 0.9670 - val_loss: 1.1610 - val_accuracy: 0.6840\n",
            "Epoch 20/30\n",
            "63/63 [==============================] - 4s 59ms/step - loss: 0.0986 - accuracy: 0.9645 - val_loss: 1.2606 - val_accuracy: 0.7080\n",
            "Epoch 21/30\n",
            "63/63 [==============================] - 6s 96ms/step - loss: 0.0697 - accuracy: 0.9760 - val_loss: 1.4346 - val_accuracy: 0.7210\n",
            "Epoch 22/30\n",
            "63/63 [==============================] - 4s 57ms/step - loss: 0.0823 - accuracy: 0.9755 - val_loss: 1.2727 - val_accuracy: 0.7030\n",
            "Epoch 23/30\n",
            "63/63 [==============================] - 5s 68ms/step - loss: 0.0698 - accuracy: 0.9790 - val_loss: 1.4202 - val_accuracy: 0.7210\n",
            "Epoch 24/30\n",
            "63/63 [==============================] - 7s 110ms/step - loss: 0.0567 - accuracy: 0.9845 - val_loss: 1.4384 - val_accuracy: 0.7300\n",
            "Epoch 25/30\n",
            "63/63 [==============================] - 4s 58ms/step - loss: 0.0466 - accuracy: 0.9820 - val_loss: 1.7556 - val_accuracy: 0.7260\n",
            "Epoch 26/30\n",
            "63/63 [==============================] - 7s 103ms/step - loss: 0.0632 - accuracy: 0.9750 - val_loss: 1.4481 - val_accuracy: 0.7470\n",
            "Epoch 27/30\n",
            "63/63 [==============================] - 4s 59ms/step - loss: 0.0206 - accuracy: 0.9925 - val_loss: 2.9858 - val_accuracy: 0.6760\n",
            "Epoch 28/30\n",
            "63/63 [==============================] - 4s 57ms/step - loss: 0.0807 - accuracy: 0.9780 - val_loss: 1.8973 - val_accuracy: 0.7370\n",
            "Epoch 29/30\n",
            "63/63 [==============================] - 5s 72ms/step - loss: 0.0563 - accuracy: 0.9810 - val_loss: 1.6605 - val_accuracy: 0.7360\n",
            "Epoch 30/30\n",
            "63/63 [==============================] - 6s 87ms/step - loss: 0.0369 - accuracy: 0.9880 - val_loss: 1.7427 - val_accuracy: 0.7510\n"
          ]
        }
      ],
      "source": [
        "#Using the callback function to save the model checkpoint with the best validation loss and also training the model while monitoring the validation loss\n",
        "callbacks = [\n",
        "    keras.callbacks.ModelCheckpoint(\n",
        "        filepath=\"convnet_from_scratch4000.keras\",\n",
        "        save_best_only=True,\n",
        "        monitor=\"val_loss\")\n",
        "]\n",
        "history = model.fit(\n",
        "    train_dataset,\n",
        "    epochs=30,\n",
        "    validation_data=validation_dataset,\n",
        "    callbacks=callbacks)"
      ],
      "id": "Cw8Rf-ytitOr"
    },
    {
      "cell_type": "code",
      "execution_count": 35,
      "metadata": {
        "colab": {
          "base_uri": "https://localhost:8080/"
        },
        "id": "9JMLvHjuitg4",
        "outputId": "1ba098a7-0102-4e45-dca7-49f7dbf16323"
      },
      "outputs": [
        {
          "output_type": "stream",
          "name": "stdout",
          "text": [
            "63/63 [==============================] - 3s 34ms/step - loss: 0.5672 - accuracy: 0.7335\n",
            "Test accuracy: 0.734\n"
          ]
        }
      ],
      "source": [
        "#Testing the model accuracy.\n",
        "test_model = keras.models.load_model(\n",
        "    \"convnet_from_scratch4000.keras\")\n",
        "test_loss, test_acc = test_model.evaluate(test_dataset)\n",
        "print(f\"Test accuracy: {test_acc:.3f}\")"
      ],
      "id": "9JMLvHjuitg4"
    },
    {
      "cell_type": "markdown",
      "metadata": {
        "id": "336e29a9-4629-420b-8dcd-5df8ade8769b"
      },
      "source": [
        "# Question 4:"
      ],
      "id": "336e29a9-4629-420b-8dcd-5df8ade8769b"
    },
    {
      "cell_type": "markdown",
      "metadata": {
        "id": "5a4595e6-959a-43ce-96a1-ca1c9de52b1c"
      },
      "source": [
        "## Leveraging Pretrained Network Model"
      ],
      "id": "5a4595e6-959a-43ce-96a1-ca1c9de52b1c"
    },
    {
      "cell_type": "code",
      "execution_count": 36,
      "metadata": {
        "id": "ea6a13e7-824e-4120-a113-abc7b1445a30"
      },
      "outputs": [],
      "source": [
        "#creating the directories and assigning the subset of the cat and dog images for the traing validation and testing.\n",
        "import os\n",
        "import shutil\n",
        "import pathlib\n",
        "original_dir = pathlib.Path(\"train\")\n",
        "new_base_dir = pathlib.Path(\"cats_vs_dogs_small_Pretrained\")\n",
        "\n",
        "#shutil.rmtree(\"cats_vs_dogs_small_Pretrained\")\n",
        "\n",
        "def make_subset(subset_name, start_index, end_index):\n",
        "    for category in (\"cat\", \"dog\"):\n",
        "        dir = new_base_dir / subset_name / category\n",
        "        os.makedirs(dir)\n",
        "        fnames = [f\"{category}.{i}.jpg\" for i in range(start_index, end_index)]\n",
        "        for fname in fnames:\n",
        "            shutil.copyfile(src=original_dir / fname, dst=dir / fname)\n",
        "\n",
        "make_subset(\"train\", start_index=0, end_index=1000)\n",
        "make_subset(\"validation\", start_index=1000, end_index=1500)\n",
        "make_subset(\"test\", start_index=1500, end_index=2500)"
      ],
      "id": "ea6a13e7-824e-4120-a113-abc7b1445a30"
    },
    {
      "cell_type": "code",
      "execution_count": 37,
      "metadata": {
        "colab": {
          "base_uri": "https://localhost:8080/"
        },
        "id": "54c25cc6-5c1e-4edf-b03a-fc53325a4d19",
        "outputId": "261ebe25-14bd-4c51-9ff5-170c6bc23d75"
      },
      "outputs": [
        {
          "output_type": "stream",
          "name": "stdout",
          "text": [
            "Downloading data from https://storage.googleapis.com/tensorflow/keras-applications/vgg16/vgg16_weights_tf_dim_ordering_tf_kernels_notop.h5\n",
            "58889256/58889256 [==============================] - 2s 0us/step\n",
            "Model: \"vgg16\"\n",
            "_________________________________________________________________\n",
            " Layer (type)                Output Shape              Param #   \n",
            "=================================================================\n",
            " input_6 (InputLayer)        [(None, 180, 180, 3)]     0         \n",
            "                                                                 \n",
            " block1_conv1 (Conv2D)       (None, 180, 180, 64)      1792      \n",
            "                                                                 \n",
            " block1_conv2 (Conv2D)       (None, 180, 180, 64)      36928     \n",
            "                                                                 \n",
            " block1_pool (MaxPooling2D)  (None, 90, 90, 64)        0         \n",
            "                                                                 \n",
            " block2_conv1 (Conv2D)       (None, 90, 90, 128)       73856     \n",
            "                                                                 \n",
            " block2_conv2 (Conv2D)       (None, 90, 90, 128)       147584    \n",
            "                                                                 \n",
            " block2_pool (MaxPooling2D)  (None, 45, 45, 128)       0         \n",
            "                                                                 \n",
            " block3_conv1 (Conv2D)       (None, 45, 45, 256)       295168    \n",
            "                                                                 \n",
            " block3_conv2 (Conv2D)       (None, 45, 45, 256)       590080    \n",
            "                                                                 \n",
            " block3_conv3 (Conv2D)       (None, 45, 45, 256)       590080    \n",
            "                                                                 \n",
            " block3_pool (MaxPooling2D)  (None, 22, 22, 256)       0         \n",
            "                                                                 \n",
            " block4_conv1 (Conv2D)       (None, 22, 22, 512)       1180160   \n",
            "                                                                 \n",
            " block4_conv2 (Conv2D)       (None, 22, 22, 512)       2359808   \n",
            "                                                                 \n",
            " block4_conv3 (Conv2D)       (None, 22, 22, 512)       2359808   \n",
            "                                                                 \n",
            " block4_pool (MaxPooling2D)  (None, 11, 11, 512)       0         \n",
            "                                                                 \n",
            " block5_conv1 (Conv2D)       (None, 11, 11, 512)       2359808   \n",
            "                                                                 \n",
            " block5_conv2 (Conv2D)       (None, 11, 11, 512)       2359808   \n",
            "                                                                 \n",
            " block5_conv3 (Conv2D)       (None, 11, 11, 512)       2359808   \n",
            "                                                                 \n",
            " block5_pool (MaxPooling2D)  (None, 5, 5, 512)         0         \n",
            "                                                                 \n",
            "=================================================================\n",
            "Total params: 14,714,688\n",
            "Trainable params: 14,714,688\n",
            "Non-trainable params: 0\n",
            "_________________________________________________________________\n"
          ]
        }
      ],
      "source": [
        "# Loading  the pretrained weights to VGG16 model.\n",
        "conv_base = keras.applications.vgg16.VGG16(\n",
        "    weights=\"imagenet\",\n",
        "    include_top=False,\n",
        "    input_shape=(180, 180, 3))\n",
        "conv_base.summary()"
      ],
      "id": "54c25cc6-5c1e-4edf-b03a-fc53325a4d19"
    },
    {
      "cell_type": "code",
      "execution_count": 38,
      "metadata": {
        "colab": {
          "base_uri": "https://localhost:8080/"
        },
        "id": "25f2e46d-3a04-492b-a306-9ef881d9cd43",
        "outputId": "57439cdc-456e-495d-d717-1b3c8298167d"
      },
      "outputs": [
        {
          "output_type": "stream",
          "name": "stdout",
          "text": [
            "1/1 [==============================] - 1s 1s/step\n",
            "1/1 [==============================] - 0s 29ms/step\n",
            "1/1 [==============================] - 0s 40ms/step\n",
            "1/1 [==============================] - 0s 27ms/step\n",
            "1/1 [==============================] - 0s 26ms/step\n",
            "1/1 [==============================] - 0s 28ms/step\n",
            "1/1 [==============================] - 0s 28ms/step\n",
            "1/1 [==============================] - 0s 32ms/step\n",
            "1/1 [==============================] - 0s 24ms/step\n",
            "1/1 [==============================] - 0s 24ms/step\n",
            "1/1 [==============================] - 0s 25ms/step\n",
            "1/1 [==============================] - 0s 25ms/step\n",
            "1/1 [==============================] - 0s 24ms/step\n",
            "1/1 [==============================] - 0s 27ms/step\n",
            "1/1 [==============================] - 0s 25ms/step\n",
            "1/1 [==============================] - 0s 32ms/step\n",
            "1/1 [==============================] - 0s 25ms/step\n",
            "1/1 [==============================] - 0s 28ms/step\n",
            "1/1 [==============================] - 0s 25ms/step\n",
            "1/1 [==============================] - 0s 24ms/step\n",
            "1/1 [==============================] - 0s 29ms/step\n",
            "1/1 [==============================] - 0s 28ms/step\n",
            "1/1 [==============================] - 0s 26ms/step\n",
            "1/1 [==============================] - 0s 35ms/step\n",
            "1/1 [==============================] - 0s 29ms/step\n",
            "1/1 [==============================] - 0s 25ms/step\n",
            "1/1 [==============================] - 0s 24ms/step\n",
            "1/1 [==============================] - 0s 24ms/step\n",
            "1/1 [==============================] - 0s 25ms/step\n",
            "1/1 [==============================] - 0s 23ms/step\n",
            "1/1 [==============================] - 0s 23ms/step\n",
            "1/1 [==============================] - 0s 28ms/step\n",
            "1/1 [==============================] - 0s 26ms/step\n",
            "1/1 [==============================] - 0s 24ms/step\n",
            "1/1 [==============================] - 0s 25ms/step\n",
            "1/1 [==============================] - 0s 27ms/step\n",
            "1/1 [==============================] - 0s 25ms/step\n",
            "1/1 [==============================] - 0s 30ms/step\n",
            "1/1 [==============================] - 0s 27ms/step\n",
            "1/1 [==============================] - 0s 23ms/step\n",
            "1/1 [==============================] - 0s 28ms/step\n",
            "1/1 [==============================] - 0s 24ms/step\n",
            "1/1 [==============================] - 0s 30ms/step\n",
            "1/1 [==============================] - 0s 26ms/step\n",
            "1/1 [==============================] - 0s 28ms/step\n",
            "1/1 [==============================] - 0s 26ms/step\n",
            "1/1 [==============================] - 0s 24ms/step\n",
            "1/1 [==============================] - 0s 24ms/step\n",
            "1/1 [==============================] - 0s 27ms/step\n",
            "1/1 [==============================] - 0s 27ms/step\n",
            "1/1 [==============================] - 0s 24ms/step\n",
            "1/1 [==============================] - 0s 31ms/step\n",
            "1/1 [==============================] - 0s 24ms/step\n",
            "1/1 [==============================] - 0s 25ms/step\n",
            "1/1 [==============================] - 0s 28ms/step\n",
            "1/1 [==============================] - 0s 29ms/step\n",
            "1/1 [==============================] - 0s 26ms/step\n",
            "1/1 [==============================] - 0s 27ms/step\n",
            "1/1 [==============================] - 0s 23ms/step\n",
            "1/1 [==============================] - 0s 30ms/step\n",
            "1/1 [==============================] - 0s 30ms/step\n",
            "1/1 [==============================] - 0s 26ms/step\n",
            "1/1 [==============================] - 1s 697ms/step\n",
            "1/1 [==============================] - 0s 32ms/step\n",
            "1/1 [==============================] - 0s 25ms/step\n",
            "1/1 [==============================] - 0s 25ms/step\n",
            "1/1 [==============================] - 0s 24ms/step\n",
            "1/1 [==============================] - 0s 25ms/step\n",
            "1/1 [==============================] - 0s 24ms/step\n",
            "1/1 [==============================] - 0s 32ms/step\n",
            "1/1 [==============================] - 0s 27ms/step\n",
            "1/1 [==============================] - 0s 36ms/step\n",
            "1/1 [==============================] - 0s 40ms/step\n",
            "1/1 [==============================] - 0s 36ms/step\n",
            "1/1 [==============================] - 0s 46ms/step\n",
            "1/1 [==============================] - 0s 37ms/step\n",
            "1/1 [==============================] - 0s 45ms/step\n",
            "1/1 [==============================] - 0s 45ms/step\n",
            "1/1 [==============================] - 0s 46ms/step\n",
            "1/1 [==============================] - 0s 37ms/step\n",
            "1/1 [==============================] - 0s 42ms/step\n",
            "1/1 [==============================] - 0s 42ms/step\n",
            "1/1 [==============================] - 0s 39ms/step\n",
            "1/1 [==============================] - 0s 45ms/step\n",
            "1/1 [==============================] - 0s 46ms/step\n",
            "1/1 [==============================] - 0s 42ms/step\n",
            "1/1 [==============================] - 0s 35ms/step\n",
            "1/1 [==============================] - 0s 37ms/step\n",
            "1/1 [==============================] - 0s 35ms/step\n",
            "1/1 [==============================] - 0s 45ms/step\n",
            "1/1 [==============================] - 0s 43ms/step\n",
            "1/1 [==============================] - 0s 38ms/step\n",
            "1/1 [==============================] - 0s 37ms/step\n",
            "1/1 [==============================] - 0s 40ms/step\n",
            "1/1 [==============================] - 0s 470ms/step\n",
            "1/1 [==============================] - 0s 37ms/step\n",
            "1/1 [==============================] - 0s 46ms/step\n",
            "1/1 [==============================] - 0s 37ms/step\n",
            "1/1 [==============================] - 0s 40ms/step\n",
            "1/1 [==============================] - 0s 34ms/step\n",
            "1/1 [==============================] - 0s 45ms/step\n",
            "1/1 [==============================] - 0s 31ms/step\n",
            "1/1 [==============================] - 0s 38ms/step\n",
            "1/1 [==============================] - 0s 35ms/step\n",
            "1/1 [==============================] - 0s 29ms/step\n",
            "1/1 [==============================] - 0s 23ms/step\n",
            "1/1 [==============================] - 0s 26ms/step\n",
            "1/1 [==============================] - 0s 26ms/step\n",
            "1/1 [==============================] - 0s 25ms/step\n",
            "1/1 [==============================] - 0s 24ms/step\n",
            "1/1 [==============================] - 0s 27ms/step\n",
            "1/1 [==============================] - 0s 26ms/step\n",
            "1/1 [==============================] - 0s 25ms/step\n",
            "1/1 [==============================] - 0s 29ms/step\n",
            "1/1 [==============================] - 0s 26ms/step\n",
            "1/1 [==============================] - 0s 25ms/step\n",
            "1/1 [==============================] - 0s 29ms/step\n",
            "1/1 [==============================] - 0s 24ms/step\n",
            "1/1 [==============================] - 0s 27ms/step\n",
            "1/1 [==============================] - 0s 25ms/step\n",
            "1/1 [==============================] - 0s 24ms/step\n",
            "1/1 [==============================] - 0s 23ms/step\n",
            "1/1 [==============================] - 0s 30ms/step\n",
            "1/1 [==============================] - 0s 24ms/step\n",
            "1/1 [==============================] - 0s 25ms/step\n",
            "1/1 [==============================] - 0s 26ms/step\n",
            "1/1 [==============================] - 0s 32ms/step\n",
            "1/1 [==============================] - 0s 25ms/step\n",
            "1/1 [==============================] - 0s 25ms/step\n",
            "1/1 [==============================] - 0s 30ms/step\n",
            "1/1 [==============================] - 0s 28ms/step\n",
            "1/1 [==============================] - 0s 24ms/step\n",
            "1/1 [==============================] - 0s 25ms/step\n",
            "1/1 [==============================] - 0s 24ms/step\n",
            "1/1 [==============================] - 0s 27ms/step\n",
            "1/1 [==============================] - 0s 29ms/step\n",
            "1/1 [==============================] - 0s 24ms/step\n",
            "1/1 [==============================] - 0s 25ms/step\n",
            "1/1 [==============================] - 0s 25ms/step\n",
            "1/1 [==============================] - 0s 25ms/step\n",
            "1/1 [==============================] - 0s 24ms/step\n",
            "1/1 [==============================] - 0s 28ms/step\n",
            "1/1 [==============================] - 0s 30ms/step\n",
            "1/1 [==============================] - 0s 27ms/step\n",
            "1/1 [==============================] - 0s 33ms/step\n",
            "1/1 [==============================] - 0s 28ms/step\n",
            "1/1 [==============================] - 0s 23ms/step\n",
            "1/1 [==============================] - 0s 25ms/step\n",
            "1/1 [==============================] - 0s 25ms/step\n",
            "1/1 [==============================] - 0s 25ms/step\n",
            "1/1 [==============================] - 0s 25ms/step\n",
            "1/1 [==============================] - 0s 26ms/step\n",
            "1/1 [==============================] - 0s 28ms/step\n",
            "1/1 [==============================] - 0s 30ms/step\n",
            "1/1 [==============================] - 0s 30ms/step\n",
            "1/1 [==============================] - 0s 27ms/step\n",
            "1/1 [==============================] - 0s 26ms/step\n",
            "1/1 [==============================] - 0s 22ms/step\n"
          ]
        }
      ],
      "source": [
        "#Extracting the VGG16 features and their corresponding labels.\n",
        "import numpy as np\n",
        "\n",
        "def get_features_and_labels(dataset):\n",
        "    all_features = []\n",
        "    all_labels = []\n",
        "    for images, labels in dataset:\n",
        "        preprocessed_images = keras.applications.vgg16.preprocess_input(images)\n",
        "        features = conv_base.predict(preprocessed_images)\n",
        "        all_features.append(features)\n",
        "        all_labels.append(labels)\n",
        "    return np.concatenate(all_features), np.concatenate(all_labels)\n",
        "\n",
        "train_features, train_labels =  get_features_and_labels(train_dataset)\n",
        "val_features, val_labels =  get_features_and_labels(validation_dataset)\n",
        "test_features, test_labels =  get_features_and_labels(test_dataset)\n"
      ],
      "id": "25f2e46d-3a04-492b-a306-9ef881d9cd43"
    },
    {
      "cell_type": "code",
      "source": [
        "train_features.shape\n",
        "test_features.shape"
      ],
      "metadata": {
        "colab": {
          "base_uri": "https://localhost:8080/"
        },
        "id": "meGE-odtOy6e",
        "outputId": "7d088d8c-b349-4cf0-fb9c-d669409d190f"
      },
      "id": "meGE-odtOy6e",
      "execution_count": 39,
      "outputs": [
        {
          "output_type": "execute_result",
          "data": {
            "text/plain": [
              "(2000, 5, 5, 512)"
            ]
          },
          "metadata": {},
          "execution_count": 39
        }
      ]
    },
    {
      "cell_type": "code",
      "execution_count": 40,
      "metadata": {
        "colab": {
          "base_uri": "https://localhost:8080/"
        },
        "id": "3466b01b-f960-49be-9a6f-06f4d4d111ca",
        "outputId": "cfc36dec-b86e-4a8a-96fc-a8e31befcf07"
      },
      "outputs": [
        {
          "output_type": "stream",
          "name": "stdout",
          "text": [
            "Epoch 1/20\n",
            "63/63 [==============================] - 2s 15ms/step - loss: 19.6610 - accuracy: 0.9250 - val_loss: 2.9619 - val_accuracy: 0.9680\n",
            "Epoch 2/20\n",
            "63/63 [==============================] - 0s 6ms/step - loss: 3.3102 - accuracy: 0.9740 - val_loss: 4.2211 - val_accuracy: 0.9750\n",
            "Epoch 3/20\n",
            "63/63 [==============================] - 0s 7ms/step - loss: 3.0770 - accuracy: 0.9815 - val_loss: 3.2062 - val_accuracy: 0.9790\n",
            "Epoch 4/20\n",
            "63/63 [==============================] - 0s 7ms/step - loss: 1.8333 - accuracy: 0.9885 - val_loss: 2.3196 - val_accuracy: 0.9800\n",
            "Epoch 5/20\n",
            "63/63 [==============================] - 0s 7ms/step - loss: 0.3846 - accuracy: 0.9955 - val_loss: 2.7487 - val_accuracy: 0.9740\n",
            "Epoch 6/20\n",
            "63/63 [==============================] - 0s 6ms/step - loss: 0.4341 - accuracy: 0.9940 - val_loss: 3.9593 - val_accuracy: 0.9760\n",
            "Epoch 7/20\n",
            "63/63 [==============================] - 0s 7ms/step - loss: 1.0141 - accuracy: 0.9945 - val_loss: 4.5357 - val_accuracy: 0.9750\n",
            "Epoch 8/20\n",
            "63/63 [==============================] - 0s 6ms/step - loss: 0.1216 - accuracy: 0.9975 - val_loss: 3.9940 - val_accuracy: 0.9800\n",
            "Epoch 9/20\n",
            "63/63 [==============================] - 0s 6ms/step - loss: 0.8096 - accuracy: 0.9920 - val_loss: 4.9211 - val_accuracy: 0.9740\n",
            "Epoch 10/20\n",
            "63/63 [==============================] - 0s 7ms/step - loss: 0.4258 - accuracy: 0.9960 - val_loss: 3.7826 - val_accuracy: 0.9800\n",
            "Epoch 11/20\n",
            "63/63 [==============================] - 0s 7ms/step - loss: 0.0504 - accuracy: 0.9995 - val_loss: 8.7011 - val_accuracy: 0.9650\n",
            "Epoch 12/20\n",
            "63/63 [==============================] - 0s 6ms/step - loss: 0.2064 - accuracy: 0.9970 - val_loss: 3.9536 - val_accuracy: 0.9790\n",
            "Epoch 13/20\n",
            "63/63 [==============================] - 0s 6ms/step - loss: 0.3405 - accuracy: 0.9955 - val_loss: 5.4171 - val_accuracy: 0.9810\n",
            "Epoch 14/20\n",
            "63/63 [==============================] - 0s 7ms/step - loss: 0.0911 - accuracy: 0.9980 - val_loss: 5.0470 - val_accuracy: 0.9790\n",
            "Epoch 15/20\n",
            "63/63 [==============================] - 0s 7ms/step - loss: 0.1856 - accuracy: 0.9980 - val_loss: 6.2565 - val_accuracy: 0.9780\n",
            "Epoch 16/20\n",
            "63/63 [==============================] - 0s 6ms/step - loss: 0.3421 - accuracy: 0.9980 - val_loss: 7.8916 - val_accuracy: 0.9700\n",
            "Epoch 17/20\n",
            "63/63 [==============================] - 0s 7ms/step - loss: 0.1793 - accuracy: 0.9980 - val_loss: 5.0715 - val_accuracy: 0.9780\n",
            "Epoch 18/20\n",
            "63/63 [==============================] - 1s 9ms/step - loss: 5.3954e-08 - accuracy: 1.0000 - val_loss: 5.0564 - val_accuracy: 0.9770\n",
            "Epoch 19/20\n",
            "63/63 [==============================] - 1s 8ms/step - loss: 0.0465 - accuracy: 0.9990 - val_loss: 4.3575 - val_accuracy: 0.9830\n",
            "Epoch 20/20\n",
            "63/63 [==============================] - 1s 8ms/step - loss: 2.7836e-28 - accuracy: 1.0000 - val_loss: 4.3575 - val_accuracy: 0.9830\n"
          ]
        }
      ],
      "source": [
        "#Building the model.\n",
        "inputs = keras.Input(shape=(5, 5, 512))\n",
        "x = layers.Flatten()(inputs)\n",
        "x = layers.Dense(256)(x)\n",
        "x = layers.Dropout(0.5)(x)\n",
        "outputs = layers.Dense(1, activation=\"sigmoid\")(x)\n",
        "model = keras.Model(inputs, outputs)\n",
        "model.compile(loss=\"binary_crossentropy\",\n",
        "              optimizer=\"rmsprop\",\n",
        "              metrics=[\"accuracy\"])\n",
        "\n",
        "callbacks = [\n",
        "    keras.callbacks.ModelCheckpoint(\n",
        "      filepath=\"feature_extraction.keras\",\n",
        "      save_best_only=True,\n",
        "      monitor=\"val_loss\")\n",
        "]\n",
        "\n",
        "history = model.fit(\n",
        "    train_features, train_labels,\n",
        "    epochs=20,\n",
        "    validation_data=(val_features, val_labels),\n",
        "    callbacks=callbacks)"
      ],
      "id": "3466b01b-f960-49be-9a6f-06f4d4d111ca"
    },
    {
      "cell_type": "code",
      "execution_count": 41,
      "metadata": {
        "colab": {
          "base_uri": "https://localhost:8080/"
        },
        "id": "798f88c7-37c1-4672-822d-cc46759076c6",
        "outputId": "33b1755f-3571-48c8-a86a-137dd51254a5"
      },
      "outputs": [
        {
          "output_type": "stream",
          "name": "stdout",
          "text": [
            "63/63 [==============================] - 0s 3ms/step - loss: 5.2698 - accuracy: 0.9695\n",
            "Test accuracy: 0.970\n"
          ]
        }
      ],
      "source": [
        "#Testing the model\n",
        "test_model = keras.models.load_model(\"feature_extraction.keras\")\n",
        "test_loss, test_acc = test_model.evaluate(test_features, test_labels)\n",
        "print(f\"Test accuracy: {test_acc:.3f}\")"
      ],
      "id": "798f88c7-37c1-4672-822d-cc46759076c6"
    },
    {
      "cell_type": "code",
      "execution_count": 42,
      "metadata": {
        "colab": {
          "base_uri": "https://localhost:8080/"
        },
        "id": "fd2004a6-8e49-4ed4-9074-3808f142109a",
        "outputId": "5d1ed683-27d6-41b8-b2f4-d98f43d8e58d"
      },
      "outputs": [
        {
          "output_type": "stream",
          "name": "stdout",
          "text": [
            "This is the number of trainable weights before freezing the conv base: 26\n",
            "This is the number of trainable weights after freezing the conv base: 0\n"
          ]
        }
      ],
      "source": [
        "#Loading pre-trained weights to the VGG16 model\n",
        "conv_base  = keras.applications.vgg16.VGG16(\n",
        "    weights=\"imagenet\",\n",
        "    include_top=False)\n",
        "conv_base.trainable = False\n",
        "# Freezing the layers of the pretrained CNN and printing the list of trainable weights.\n",
        "conv_base.trainable = True\n",
        "print(\"This is the number of trainable weights \"\n",
        "      \"before freezing the conv base:\", len(conv_base.trainable_weights))\n",
        "#UnFreezing the layers of the pretrained CNN and printing the list of trainable weights.\n",
        "conv_base.trainable = False\n",
        "print(\"This is the number of trainable weights \"\n",
        "      \"after freezing the conv base:\", len(conv_base.trainable_weights))\n"
      ],
      "id": "fd2004a6-8e49-4ed4-9074-3808f142109a"
    },
    {
      "cell_type": "markdown",
      "source": [
        "## Model with Data Augmentation"
      ],
      "metadata": {
        "id": "_2BVTbLi_woh"
      },
      "id": "_2BVTbLi_woh"
    },
    {
      "cell_type": "code",
      "execution_count": 43,
      "metadata": {
        "id": "ea572475-8275-412b-a9f4-90f275252685"
      },
      "outputs": [],
      "source": [
        "#Adding a data augumentation stage.\n",
        "data_augmentation = keras.Sequential(\n",
        "    [\n",
        "        layers.RandomFlip(\"horizontal\"),\n",
        "        layers.RandomRotation(0.1),\n",
        "        layers.RandomZoom(0.2),\n",
        "    ]\n",
        ")\n",
        "\n",
        "inputs = keras.Input(shape=(180, 180, 3))\n",
        "x = data_augmentation(inputs)\n",
        "x = keras.applications.vgg16.preprocess_input(x)\n",
        "x = conv_base(x)\n",
        "x = layers.Flatten()(x)\n",
        "x = layers.Dense(256)(x)\n",
        "x = layers.Dropout(0.5)(x)\n",
        "outputs = layers.Dense(1, activation=\"sigmoid\")(x)\n",
        "model = keras.Model(inputs, outputs)\n",
        "model.compile(loss=\"binary_crossentropy\",\n",
        "              optimizer=\"rmsprop\",\n",
        "              metrics=[\"accuracy\"])"
      ],
      "id": "ea572475-8275-412b-a9f4-90f275252685"
    },
    {
      "cell_type": "code",
      "execution_count": 44,
      "metadata": {
        "id": "2u1i59K1Pt5b"
      },
      "outputs": [],
      "source": [
        "callbacks = [\n",
        "    keras.callbacks.ModelCheckpoint(\n",
        "        filepath=\"feature_extraction_with_data_augmentation.keras\",\n",
        "        save_best_only=True,\n",
        "        monitor=\"val_loss\")\n",
        "    ]"
      ],
      "id": "2u1i59K1Pt5b"
    },
    {
      "cell_type": "code",
      "execution_count": 45,
      "metadata": {
        "colab": {
          "base_uri": "https://localhost:8080/"
        },
        "id": "2f342532-a96d-40fa-a48a-e4a93a7aaaa1",
        "outputId": "643c4857-5f89-4951-8dcf-4a1e42f73f96"
      },
      "outputs": [
        {
          "output_type": "stream",
          "name": "stdout",
          "text": [
            "Epoch 1/50\n",
            "63/63 [==============================] - 9s 96ms/step - loss: 15.7015 - accuracy: 0.9020 - val_loss: 6.2067 - val_accuracy: 0.9590\n",
            "Epoch 2/50\n",
            "63/63 [==============================] - 5s 71ms/step - loss: 6.3461 - accuracy: 0.9485 - val_loss: 4.2438 - val_accuracy: 0.9720\n",
            "Epoch 3/50\n",
            "63/63 [==============================] - 7s 107ms/step - loss: 6.9581 - accuracy: 0.9490 - val_loss: 6.8369 - val_accuracy: 0.9640\n",
            "Epoch 4/50\n",
            "63/63 [==============================] - 5s 68ms/step - loss: 5.5540 - accuracy: 0.9590 - val_loss: 3.7349 - val_accuracy: 0.9750\n",
            "Epoch 5/50\n",
            "63/63 [==============================] - 6s 89ms/step - loss: 4.1061 - accuracy: 0.9680 - val_loss: 2.6019 - val_accuracy: 0.9780\n",
            "Epoch 6/50\n",
            "63/63 [==============================] - 4s 65ms/step - loss: 3.6227 - accuracy: 0.9700 - val_loss: 3.3272 - val_accuracy: 0.9750\n",
            "Epoch 7/50\n",
            "63/63 [==============================] - 5s 75ms/step - loss: 3.0576 - accuracy: 0.9715 - val_loss: 3.6197 - val_accuracy: 0.9760\n",
            "Epoch 8/50\n",
            "63/63 [==============================] - 6s 96ms/step - loss: 3.2728 - accuracy: 0.9725 - val_loss: 3.5502 - val_accuracy: 0.9750\n",
            "Epoch 9/50\n",
            "63/63 [==============================] - 4s 66ms/step - loss: 2.2710 - accuracy: 0.9750 - val_loss: 6.1534 - val_accuracy: 0.9670\n",
            "Epoch 10/50\n",
            "63/63 [==============================] - 7s 114ms/step - loss: 2.9456 - accuracy: 0.9735 - val_loss: 2.1783 - val_accuracy: 0.9810\n",
            "Epoch 11/50\n",
            "63/63 [==============================] - 5s 71ms/step - loss: 2.1381 - accuracy: 0.9790 - val_loss: 2.0558 - val_accuracy: 0.9820\n",
            "Epoch 12/50\n",
            "63/63 [==============================] - 4s 67ms/step - loss: 2.2973 - accuracy: 0.9795 - val_loss: 2.1417 - val_accuracy: 0.9800\n",
            "Epoch 13/50\n",
            "63/63 [==============================] - 7s 110ms/step - loss: 2.0429 - accuracy: 0.9775 - val_loss: 4.2978 - val_accuracy: 0.9750\n",
            "Epoch 14/50\n",
            "63/63 [==============================] - 4s 66ms/step - loss: 2.0773 - accuracy: 0.9755 - val_loss: 4.6329 - val_accuracy: 0.9720\n",
            "Epoch 15/50\n",
            "63/63 [==============================] - 6s 95ms/step - loss: 2.0300 - accuracy: 0.9740 - val_loss: 3.0722 - val_accuracy: 0.9780\n",
            "Epoch 16/50\n",
            "63/63 [==============================] - 4s 67ms/step - loss: 1.2023 - accuracy: 0.9830 - val_loss: 3.7872 - val_accuracy: 0.9760\n",
            "Epoch 17/50\n",
            "63/63 [==============================] - 5s 83ms/step - loss: 1.4387 - accuracy: 0.9835 - val_loss: 2.4075 - val_accuracy: 0.9820\n",
            "Epoch 18/50\n",
            "63/63 [==============================] - 6s 91ms/step - loss: 1.1988 - accuracy: 0.9835 - val_loss: 1.7541 - val_accuracy: 0.9810\n",
            "Epoch 19/50\n",
            "63/63 [==============================] - 4s 65ms/step - loss: 1.5334 - accuracy: 0.9785 - val_loss: 2.4925 - val_accuracy: 0.9790\n",
            "Epoch 20/50\n",
            "63/63 [==============================] - 6s 85ms/step - loss: 0.9672 - accuracy: 0.9830 - val_loss: 1.9091 - val_accuracy: 0.9800\n",
            "Epoch 21/50\n",
            "63/63 [==============================] - 4s 67ms/step - loss: 1.5595 - accuracy: 0.9820 - val_loss: 2.2609 - val_accuracy: 0.9780\n",
            "Epoch 22/50\n",
            "63/63 [==============================] - 5s 79ms/step - loss: 0.9435 - accuracy: 0.9825 - val_loss: 2.8735 - val_accuracy: 0.9770\n",
            "Epoch 23/50\n",
            "63/63 [==============================] - 4s 66ms/step - loss: 0.9872 - accuracy: 0.9870 - val_loss: 2.5925 - val_accuracy: 0.9780\n",
            "Epoch 24/50\n",
            "63/63 [==============================] - 6s 86ms/step - loss: 1.2368 - accuracy: 0.9815 - val_loss: 1.9642 - val_accuracy: 0.9790\n",
            "Epoch 25/50\n",
            "63/63 [==============================] - 6s 86ms/step - loss: 0.8530 - accuracy: 0.9795 - val_loss: 3.1276 - val_accuracy: 0.9690\n",
            "Epoch 26/50\n",
            "63/63 [==============================] - 5s 70ms/step - loss: 0.8865 - accuracy: 0.9885 - val_loss: 2.2679 - val_accuracy: 0.9750\n",
            "Epoch 27/50\n",
            "63/63 [==============================] - 6s 84ms/step - loss: 0.6019 - accuracy: 0.9890 - val_loss: 2.2940 - val_accuracy: 0.9740\n",
            "Epoch 28/50\n",
            "63/63 [==============================] - 4s 66ms/step - loss: 0.6528 - accuracy: 0.9870 - val_loss: 1.7938 - val_accuracy: 0.9770\n",
            "Epoch 29/50\n",
            "63/63 [==============================] - 5s 80ms/step - loss: 0.7750 - accuracy: 0.9870 - val_loss: 3.5745 - val_accuracy: 0.9700\n",
            "Epoch 30/50\n",
            "63/63 [==============================] - 5s 70ms/step - loss: 0.7753 - accuracy: 0.9840 - val_loss: 1.4512 - val_accuracy: 0.9820\n",
            "Epoch 31/50\n",
            "63/63 [==============================] - 6s 89ms/step - loss: 0.9606 - accuracy: 0.9835 - val_loss: 1.2474 - val_accuracy: 0.9810\n",
            "Epoch 32/50\n",
            "63/63 [==============================] - 5s 70ms/step - loss: 0.4727 - accuracy: 0.9895 - val_loss: 0.9965 - val_accuracy: 0.9850\n",
            "Epoch 33/50\n",
            "63/63 [==============================] - 5s 80ms/step - loss: 0.5110 - accuracy: 0.9890 - val_loss: 1.4251 - val_accuracy: 0.9800\n",
            "Epoch 34/50\n",
            "63/63 [==============================] - 4s 67ms/step - loss: 0.5110 - accuracy: 0.9900 - val_loss: 1.4341 - val_accuracy: 0.9850\n",
            "Epoch 35/50\n",
            "63/63 [==============================] - 6s 89ms/step - loss: 0.5139 - accuracy: 0.9905 - val_loss: 1.8617 - val_accuracy: 0.9770\n",
            "Epoch 36/50\n",
            "63/63 [==============================] - 5s 67ms/step - loss: 0.5107 - accuracy: 0.9865 - val_loss: 2.8389 - val_accuracy: 0.9740\n",
            "Epoch 37/50\n",
            "63/63 [==============================] - 6s 86ms/step - loss: 0.4177 - accuracy: 0.9910 - val_loss: 1.6061 - val_accuracy: 0.9760\n",
            "Epoch 38/50\n",
            "63/63 [==============================] - 6s 90ms/step - loss: 0.6925 - accuracy: 0.9845 - val_loss: 2.1019 - val_accuracy: 0.9770\n",
            "Epoch 39/50\n",
            "63/63 [==============================] - 6s 85ms/step - loss: 0.6299 - accuracy: 0.9855 - val_loss: 2.1414 - val_accuracy: 0.9770\n",
            "Epoch 40/50\n",
            "63/63 [==============================] - 4s 67ms/step - loss: 0.6352 - accuracy: 0.9875 - val_loss: 2.5586 - val_accuracy: 0.9720\n",
            "Epoch 41/50\n",
            "63/63 [==============================] - 6s 85ms/step - loss: 0.5108 - accuracy: 0.9905 - val_loss: 2.5684 - val_accuracy: 0.9750\n",
            "Epoch 42/50\n",
            "63/63 [==============================] - 6s 93ms/step - loss: 0.7398 - accuracy: 0.9845 - val_loss: 1.5286 - val_accuracy: 0.9800\n",
            "Epoch 43/50\n",
            "63/63 [==============================] - 6s 85ms/step - loss: 0.2784 - accuracy: 0.9910 - val_loss: 1.9998 - val_accuracy: 0.9790\n",
            "Epoch 44/50\n",
            "63/63 [==============================] - 7s 100ms/step - loss: 0.1754 - accuracy: 0.9940 - val_loss: 1.8589 - val_accuracy: 0.9790\n",
            "Epoch 45/50\n",
            "63/63 [==============================] - 5s 77ms/step - loss: 0.5650 - accuracy: 0.9895 - val_loss: 1.3898 - val_accuracy: 0.9780\n",
            "Epoch 46/50\n",
            "63/63 [==============================] - 4s 67ms/step - loss: 0.3451 - accuracy: 0.9915 - val_loss: 1.8652 - val_accuracy: 0.9770\n",
            "Epoch 47/50\n",
            "63/63 [==============================] - 6s 91ms/step - loss: 0.5670 - accuracy: 0.9885 - val_loss: 2.1710 - val_accuracy: 0.9760\n",
            "Epoch 48/50\n",
            "63/63 [==============================] - 5s 68ms/step - loss: 0.2520 - accuracy: 0.9920 - val_loss: 1.5055 - val_accuracy: 0.9780\n",
            "Epoch 49/50\n",
            "63/63 [==============================] - 5s 84ms/step - loss: 0.3818 - accuracy: 0.9905 - val_loss: 2.6191 - val_accuracy: 0.9750\n",
            "Epoch 50/50\n",
            "63/63 [==============================] - 6s 92ms/step - loss: 0.3781 - accuracy: 0.9885 - val_loss: 1.7948 - val_accuracy: 0.9810\n"
          ]
        }
      ],
      "source": [
        "\n",
        "history = model.fit(\n",
        "    train_dataset,\n",
        "    epochs=50,\n",
        "    validation_data=validation_dataset,\n",
        "    callbacks=callbacks)"
      ],
      "id": "2f342532-a96d-40fa-a48a-e4a93a7aaaa1"
    },
    {
      "cell_type": "code",
      "execution_count": 46,
      "metadata": {
        "colab": {
          "base_uri": "https://localhost:8080/"
        },
        "id": "1cd71255-c89b-4611-8c95-91a659e06902",
        "outputId": "bae7149d-e54d-4ba1-a7d9-6b88b184dee3"
      },
      "outputs": [
        {
          "output_type": "stream",
          "name": "stdout",
          "text": [
            "63/63 [==============================] - 3s 41ms/step - loss: 2.1288 - accuracy: 0.9760\n",
            "Test accuracy: 0.976\n"
          ]
        }
      ],
      "source": [
        "#Testing the model accuracy.\n",
        "test_model = keras.models.load_model(\n",
        "    \"feature_extraction_with_data_augmentation.keras\")\n",
        "test_loss, test_acc = test_model.evaluate(test_dataset)\n",
        "print(f\"Test accuracy: {test_acc:.3f}\")"
      ],
      "id": "1cd71255-c89b-4611-8c95-91a659e06902"
    },
    {
      "cell_type": "markdown",
      "source": [
        "##2500 Sample Size"
      ],
      "metadata": {
        "id": "eGZffJaF_qU-"
      },
      "id": "eGZffJaF_qU-"
    },
    {
      "cell_type": "code",
      "execution_count": 47,
      "metadata": {
        "id": "d6f76912-a0a2-464e-9e45-e853c9f3501f"
      },
      "outputs": [],
      "source": [
        "#Increasing the pretrained training sample.\n",
        "import os, shutil, pathlib\n",
        "\n",
        "original_dir = pathlib.Path(\"train\")\n",
        "new_base_dir = pathlib.Path(\"cats_vs_dogs_small_PretrainedIncreased_trainsample\")\n",
        "\n",
        "def make_subset(subset_name, start_index, end_index):\n",
        "    for category in (\"cat\", \"dog\"):\n",
        "        dir = new_base_dir / subset_name / category\n",
        "        os.makedirs(dir,exist_ok=True)\n",
        "        fnames = [f\"{category}.{i}.jpg\" for i in range(start_index, end_index)]\n",
        "        for fname in fnames:\n",
        "            shutil.copyfile(src=original_dir / fname,\n",
        "                            dst=dir / fname)\n",
        "make_subset(\"train\", start_index=0, end_index=2500)\n",
        "make_subset(\"validation\", start_index=1500, end_index=2000)\n",
        "make_subset(\"test\", start_index=2000, end_index=3000)"
      ],
      "id": "d6f76912-a0a2-464e-9e45-e853c9f3501f"
    },
    {
      "cell_type": "code",
      "execution_count": 48,
      "metadata": {
        "id": "bb9500bb-bbd8-4849-8d1c-af75f2036125"
      },
      "outputs": [],
      "source": [
        "#Loading pre-trained weights to the VGG16 model\n",
        "conv_base  = keras.applications.vgg16.VGG16(\n",
        "    weights=\"imagenet\",\n",
        "    include_top=False,\n",
        "    input_shape=(180, 180, 3))\n",
        "conv_base.trainable = False"
      ],
      "id": "bb9500bb-bbd8-4849-8d1c-af75f2036125"
    },
    {
      "cell_type": "code",
      "execution_count": 49,
      "metadata": {
        "colab": {
          "base_uri": "https://localhost:8080/"
        },
        "id": "d792c43c-6c36-4ff7-bafc-528c76e773a2",
        "outputId": "29ef25a3-3caf-485a-9625-1eefa7cd72ad"
      },
      "outputs": [
        {
          "output_type": "stream",
          "name": "stdout",
          "text": [
            "Epoch 1/20\n",
            "63/63 [==============================] - 1s 10ms/step - loss: 20.8962 - accuracy: 0.9240 - val_loss: 4.8184 - val_accuracy: 0.9710\n",
            "Epoch 2/20\n",
            "63/63 [==============================] - 0s 7ms/step - loss: 3.0084 - accuracy: 0.9755 - val_loss: 8.4755 - val_accuracy: 0.9570\n",
            "Epoch 3/20\n",
            "63/63 [==============================] - 1s 8ms/step - loss: 2.6969 - accuracy: 0.9820 - val_loss: 7.5511 - val_accuracy: 0.9570\n",
            "Epoch 4/20\n",
            "63/63 [==============================] - 1s 10ms/step - loss: 1.4646 - accuracy: 0.9905 - val_loss: 4.1693 - val_accuracy: 0.9770\n",
            "Epoch 5/20\n",
            "63/63 [==============================] - 1s 9ms/step - loss: 1.2250 - accuracy: 0.9925 - val_loss: 4.9747 - val_accuracy: 0.9790\n",
            "Epoch 6/20\n",
            "63/63 [==============================] - 1s 8ms/step - loss: 0.7259 - accuracy: 0.9940 - val_loss: 4.1945 - val_accuracy: 0.9770\n",
            "Epoch 7/20\n",
            "63/63 [==============================] - 1s 10ms/step - loss: 0.6651 - accuracy: 0.9955 - val_loss: 4.1028 - val_accuracy: 0.9790\n",
            "Epoch 8/20\n",
            "63/63 [==============================] - 1s 9ms/step - loss: 0.2898 - accuracy: 0.9965 - val_loss: 4.6451 - val_accuracy: 0.9680\n",
            "Epoch 9/20\n",
            "63/63 [==============================] - 1s 9ms/step - loss: 0.0893 - accuracy: 0.9985 - val_loss: 3.7253 - val_accuracy: 0.9790\n",
            "Epoch 10/20\n",
            "63/63 [==============================] - 1s 9ms/step - loss: 0.1925 - accuracy: 0.9975 - val_loss: 5.5563 - val_accuracy: 0.9780\n",
            "Epoch 11/20\n",
            "63/63 [==============================] - 1s 9ms/step - loss: 0.2033 - accuracy: 0.9970 - val_loss: 8.2871 - val_accuracy: 0.9590\n",
            "Epoch 12/20\n",
            "63/63 [==============================] - 1s 9ms/step - loss: 0.1781 - accuracy: 0.9970 - val_loss: 4.4523 - val_accuracy: 0.9760\n",
            "Epoch 13/20\n",
            "63/63 [==============================] - 1s 10ms/step - loss: 0.5531 - accuracy: 0.9935 - val_loss: 3.6429 - val_accuracy: 0.9770\n",
            "Epoch 14/20\n",
            "63/63 [==============================] - 1s 8ms/step - loss: 0.0949 - accuracy: 0.9990 - val_loss: 3.9617 - val_accuracy: 0.9790\n",
            "Epoch 15/20\n",
            "63/63 [==============================] - 0s 6ms/step - loss: 0.2677 - accuracy: 0.9980 - val_loss: 4.2612 - val_accuracy: 0.9750\n",
            "Epoch 16/20\n",
            "63/63 [==============================] - 0s 6ms/step - loss: 0.4152 - accuracy: 0.9970 - val_loss: 7.6486 - val_accuracy: 0.9720\n",
            "Epoch 17/20\n",
            "63/63 [==============================] - 0s 6ms/step - loss: 0.0538 - accuracy: 0.9980 - val_loss: 6.1345 - val_accuracy: 0.9770\n",
            "Epoch 18/20\n",
            "63/63 [==============================] - 0s 7ms/step - loss: 0.0379 - accuracy: 0.9990 - val_loss: 5.0468 - val_accuracy: 0.9780\n",
            "Epoch 19/20\n",
            "63/63 [==============================] - 0s 6ms/step - loss: 0.0640 - accuracy: 0.9990 - val_loss: 5.9563 - val_accuracy: 0.9720\n",
            "Epoch 20/20\n",
            "63/63 [==============================] - 0s 6ms/step - loss: 0.0899 - accuracy: 0.9975 - val_loss: 6.7830 - val_accuracy: 0.9750\n"
          ]
        }
      ],
      "source": [
        "#Building the model.\n",
        "inputs = keras.Input(shape=(5, 5, 512))\n",
        "x = layers.Flatten()(inputs)\n",
        "x = layers.Dense(256)(x)\n",
        "x = layers.Dropout(0.5)(x)\n",
        "outputs = layers.Dense(1, activation=\"sigmoid\")(x)\n",
        "model = keras.Model(inputs, outputs)\n",
        "model.compile(loss=\"binary_crossentropy\",\n",
        "              optimizer=\"rmsprop\",\n",
        "              metrics=[\"accuracy\"])\n",
        "\n",
        "callbacks = [\n",
        "    keras.callbacks.ModelCheckpoint(\n",
        "      filepath=\"feature_extraction8.keras\",\n",
        "      save_best_only=True,\n",
        "      monitor=\"val_loss\")\n",
        "]\n",
        "history = model.fit(\n",
        "    train_features, train_labels,\n",
        "    epochs=20,\n",
        "    validation_data=(val_features, val_labels),\n",
        "    callbacks=callbacks)"
      ],
      "id": "d792c43c-6c36-4ff7-bafc-528c76e773a2"
    },
    {
      "cell_type": "code",
      "execution_count": 50,
      "metadata": {
        "colab": {
          "base_uri": "https://localhost:8080/"
        },
        "id": "015e925e-67b5-4912-a8da-419d11a6de1f",
        "outputId": "9fcddcb1-8a48-4207-b0a4-a18c6679731c"
      },
      "outputs": [
        {
          "output_type": "stream",
          "name": "stdout",
          "text": [
            "63/63 [==============================] - 0s 3ms/step - loss: 5.7532 - accuracy: 0.9735\n",
            "Test accuracy: 0.974\n"
          ]
        }
      ],
      "source": [
        "#Testing the accuracy of teh model.\n",
        "test_model = keras.models.load_model(\"feature_extraction8.keras\")\n",
        "\n",
        "test_loss, test1_acc = test_model.evaluate(test_features, test_labels)\n",
        "print(f\"Test accuracy: {test1_acc:.3f}\")"
      ],
      "id": "015e925e-67b5-4912-a8da-419d11a6de1f"
    },
    {
      "cell_type": "markdown",
      "source": [
        "##3000 Sample Size"
      ],
      "metadata": {
        "id": "DM4ciAHY_mu9"
      },
      "id": "DM4ciAHY_mu9"
    },
    {
      "cell_type": "code",
      "execution_count": 51,
      "metadata": {
        "id": "d4750aa3-210f-441e-8381-83b749cdce06"
      },
      "outputs": [],
      "source": [
        "#creating the directories and assigning the subset of the cat and dog images for the traing validation and testing.\n",
        "import os, shutil, pathlib\n",
        "\n",
        "original_dir = pathlib.Path(\"train\")\n",
        "new_base_dir = pathlib.Path(\"cats_vs_dogs_small_Pretrained_optimal_trainsample\")\n",
        "\n",
        "def make_subset(subset_name, start_index, end_index):\n",
        "    for category in (\"cat\", \"dog\"):\n",
        "        dir = new_base_dir / subset_name / category\n",
        "        os.makedirs(dir,exist_ok=True)\n",
        "        fnames = [f\"{category}.{i}.jpg\" for i in range(start_index, end_index)]\n",
        "        for fname in fnames:\n",
        "            shutil.copyfile(src=original_dir / fname,\n",
        "                            dst=dir / fname)\n",
        "make_subset(\"train\", start_index=0, end_index=3000)\n",
        "make_subset(\"validation\", start_index=3000, end_index=3500)\n",
        "make_subset(\"test\", start_index=3500, end_index=4500)\n"
      ],
      "id": "d4750aa3-210f-441e-8381-83b749cdce06"
    },
    {
      "cell_type": "code",
      "execution_count": 52,
      "metadata": {
        "id": "526f71b7-8a0e-48be-bce2-5b42eb9f20c7"
      },
      "outputs": [],
      "source": [
        "#Loading pre-trained weights to the VGG16 model\n",
        "conv_base  = keras.applications.vgg16.VGG16(\n",
        "    weights=\"imagenet\",\n",
        "    include_top=False)\n",
        "conv_base.trainable = False"
      ],
      "id": "526f71b7-8a0e-48be-bce2-5b42eb9f20c7"
    },
    {
      "cell_type": "code",
      "execution_count": 53,
      "metadata": {
        "colab": {
          "base_uri": "https://localhost:8080/"
        },
        "id": "04ecb71f-4d8a-4870-8995-8cd8cfe635a4",
        "outputId": "ea093338-f390-4dc8-996b-dfeea773ced7"
      },
      "outputs": [
        {
          "output_type": "stream",
          "name": "stdout",
          "text": [
            "Epoch 1/20\n",
            "63/63 [==============================] - 3s 15ms/step - loss: 21.4749 - accuracy: 0.9235 - val_loss: 4.1144 - val_accuracy: 0.9670\n",
            "Epoch 2/20\n",
            "63/63 [==============================] - 0s 6ms/step - loss: 3.0298 - accuracy: 0.9715 - val_loss: 4.3684 - val_accuracy: 0.9670\n",
            "Epoch 3/20\n",
            "63/63 [==============================] - 0s 8ms/step - loss: 1.8989 - accuracy: 0.9820 - val_loss: 3.9378 - val_accuracy: 0.9750\n",
            "Epoch 4/20\n",
            "63/63 [==============================] - 0s 6ms/step - loss: 1.3599 - accuracy: 0.9880 - val_loss: 6.2443 - val_accuracy: 0.9670\n",
            "Epoch 5/20\n",
            "63/63 [==============================] - 0s 7ms/step - loss: 0.9227 - accuracy: 0.9920 - val_loss: 5.8897 - val_accuracy: 0.9750\n",
            "Epoch 6/20\n",
            "63/63 [==============================] - 0s 7ms/step - loss: 0.8812 - accuracy: 0.9940 - val_loss: 3.8164 - val_accuracy: 0.9750\n",
            "Epoch 7/20\n",
            "63/63 [==============================] - 0s 6ms/step - loss: 0.6475 - accuracy: 0.9920 - val_loss: 4.4045 - val_accuracy: 0.9790\n",
            "Epoch 8/20\n",
            "63/63 [==============================] - 0s 7ms/step - loss: 0.4389 - accuracy: 0.9945 - val_loss: 4.8469 - val_accuracy: 0.9770\n",
            "Epoch 9/20\n",
            "63/63 [==============================] - 0s 7ms/step - loss: 3.0126e-20 - accuracy: 1.0000 - val_loss: 4.8469 - val_accuracy: 0.9770\n",
            "Epoch 10/20\n",
            "63/63 [==============================] - 0s 7ms/step - loss: 0.4423 - accuracy: 0.9970 - val_loss: 6.0557 - val_accuracy: 0.9740\n",
            "Epoch 11/20\n",
            "63/63 [==============================] - 0s 7ms/step - loss: 0.2101 - accuracy: 0.9975 - val_loss: 3.5823 - val_accuracy: 0.9790\n",
            "Epoch 12/20\n",
            "63/63 [==============================] - 0s 6ms/step - loss: 0.3237 - accuracy: 0.9960 - val_loss: 7.8486 - val_accuracy: 0.9740\n",
            "Epoch 13/20\n",
            "63/63 [==============================] - 0s 6ms/step - loss: 0.0442 - accuracy: 0.9990 - val_loss: 7.0443 - val_accuracy: 0.9760\n",
            "Epoch 14/20\n",
            "63/63 [==============================] - 0s 6ms/step - loss: 0.0067 - accuracy: 0.9995 - val_loss: 4.9008 - val_accuracy: 0.9720\n",
            "Epoch 15/20\n",
            "63/63 [==============================] - 0s 7ms/step - loss: 0.1871 - accuracy: 0.9970 - val_loss: 4.8619 - val_accuracy: 0.9770\n",
            "Epoch 16/20\n",
            "63/63 [==============================] - 0s 6ms/step - loss: 0.0139 - accuracy: 0.9990 - val_loss: 4.8197 - val_accuracy: 0.9780\n",
            "Epoch 17/20\n",
            "63/63 [==============================] - 0s 6ms/step - loss: 0.2618 - accuracy: 0.9990 - val_loss: 4.1178 - val_accuracy: 0.9810\n",
            "Epoch 18/20\n",
            "63/63 [==============================] - 0s 8ms/step - loss: 0.0779 - accuracy: 0.9980 - val_loss: 5.3939 - val_accuracy: 0.9780\n",
            "Epoch 19/20\n",
            "63/63 [==============================] - 0s 6ms/step - loss: 0.2417 - accuracy: 0.9985 - val_loss: 5.3235 - val_accuracy: 0.9800\n",
            "Epoch 20/20\n",
            "63/63 [==============================] - 0s 7ms/step - loss: 0.0282 - accuracy: 0.9995 - val_loss: 6.0615 - val_accuracy: 0.9750\n"
          ]
        }
      ],
      "source": [
        "#Building the model.\n",
        "inputs = keras.Input(shape=(5, 5, 512))\n",
        "x = layers.Flatten()(inputs)\n",
        "x = layers.Dense(256)(x)\n",
        "x = layers.Dropout(0.5)(x)\n",
        "outputs = layers.Dense(1, activation=\"sigmoid\")(x)\n",
        "model = keras.Model(inputs, outputs)\n",
        "model.compile(loss=\"binary_crossentropy\",\n",
        "              optimizer=\"rmsprop\",\n",
        "              metrics=[\"accuracy\"])\n",
        "\n",
        "callbacks = [\n",
        "    keras.callbacks.ModelCheckpoint(\n",
        "      filepath=\"feature_extraction1.keras\",\n",
        "      save_best_only=True,\n",
        "      monitor=\"val_loss\")\n",
        "]\n",
        "history = model.fit(\n",
        "    train_features, train_labels,\n",
        "    epochs=20,\n",
        "    validation_data=(val_features, val_labels),\n",
        "    callbacks=callbacks)"
      ],
      "id": "04ecb71f-4d8a-4870-8995-8cd8cfe635a4"
    },
    {
      "cell_type": "code",
      "execution_count": 54,
      "metadata": {
        "colab": {
          "base_uri": "https://localhost:8080/"
        },
        "id": "ujP-W1CXDKjK",
        "outputId": "bb522f05-bc86-482b-a941-761ec4ddbb0b"
      },
      "outputs": [
        {
          "output_type": "stream",
          "name": "stdout",
          "text": [
            "63/63 [==============================] - 0s 3ms/step - loss: 5.9356 - accuracy: 0.9750\n",
            "Test accuracy: 0.975\n"
          ]
        }
      ],
      "source": [
        "#Testing the accuracy of teh model.\n",
        "test_model = keras.models.load_model(\n",
        "    \"feature_extraction1.keras\")\n",
        "test_loss, test1_acc = test_model.evaluate(test_features, test_labels)\n",
        "print(f\"Test accuracy: {test1_acc:.3f}\")"
      ],
      "id": "ujP-W1CXDKjK"
    },
    {
      "cell_type": "markdown",
      "source": [
        "##4000 Sample Size"
      ],
      "metadata": {
        "id": "B74shL7s_fxH"
      },
      "id": "B74shL7s_fxH"
    },
    {
      "cell_type": "code",
      "execution_count": 55,
      "metadata": {
        "id": "ZHAqWrqAqukG"
      },
      "outputs": [],
      "source": [
        "#creating the directories and assigning the subset of the cat and dog images for the traing validation and testing.\n",
        "import os, shutil, pathlib\n",
        "\n",
        "original_dir = pathlib.Path(\"train\")\n",
        "new_base_dir = pathlib.Path(\"cats_vs_dogs_small_Pretrained_optimal_trainsample\")\n",
        "\n",
        "def make_subset(subset_name, start_index, end_index):\n",
        "    for category in (\"cat\", \"dog\"):\n",
        "        dir = new_base_dir / subset_name / category\n",
        "        os.makedirs(dir,exist_ok=True)\n",
        "        fnames = [f\"{category}.{i}.jpg\" for i in range(start_index, end_index)]\n",
        "        for fname in fnames:\n",
        "            shutil.copyfile(src=original_dir / fname,\n",
        "                            dst=dir / fname)\n",
        "make_subset(\"train\", start_index=0, end_index=4000)\n",
        "make_subset(\"validation\", start_index=4000, end_index=4500)\n",
        "make_subset(\"test\", start_index=4500, end_index=5500)\n"
      ],
      "id": "ZHAqWrqAqukG"
    },
    {
      "cell_type": "code",
      "execution_count": 56,
      "metadata": {
        "id": "gSAXu8Gsqu1c"
      },
      "outputs": [],
      "source": [
        "#Loading pre-trained weights to the VGG16 model\n",
        "conv_base  = keras.applications.vgg16.VGG16(\n",
        "    weights=\"imagenet\",\n",
        "    include_top=False)\n",
        "conv_base.trainable = False"
      ],
      "id": "gSAXu8Gsqu1c"
    },
    {
      "cell_type": "code",
      "execution_count": 57,
      "metadata": {
        "colab": {
          "base_uri": "https://localhost:8080/"
        },
        "id": "dO63i14aqvDI",
        "outputId": "6a42b4bb-daa4-4281-8b23-18aaeb48a08e"
      },
      "outputs": [
        {
          "output_type": "stream",
          "name": "stdout",
          "text": [
            "Epoch 1/20\n",
            "63/63 [==============================] - 1s 10ms/step - loss: 18.8746 - accuracy: 0.9215 - val_loss: 6.0421 - val_accuracy: 0.9650\n",
            "Epoch 2/20\n",
            "63/63 [==============================] - 0s 7ms/step - loss: 4.0287 - accuracy: 0.9750 - val_loss: 3.9182 - val_accuracy: 0.9700\n",
            "Epoch 3/20\n",
            "63/63 [==============================] - 0s 6ms/step - loss: 1.9595 - accuracy: 0.9825 - val_loss: 5.6370 - val_accuracy: 0.9730\n",
            "Epoch 4/20\n",
            "63/63 [==============================] - 0s 5ms/step - loss: 1.2757 - accuracy: 0.9920 - val_loss: 5.0182 - val_accuracy: 0.9680\n",
            "Epoch 5/20\n",
            "63/63 [==============================] - 0s 6ms/step - loss: 1.1497 - accuracy: 0.9905 - val_loss: 4.3385 - val_accuracy: 0.9740\n",
            "Epoch 6/20\n",
            "63/63 [==============================] - 0s 7ms/step - loss: 0.7530 - accuracy: 0.9930 - val_loss: 7.7387 - val_accuracy: 0.9640\n",
            "Epoch 7/20\n",
            "63/63 [==============================] - 0s 7ms/step - loss: 0.8058 - accuracy: 0.9955 - val_loss: 4.8581 - val_accuracy: 0.9740\n",
            "Epoch 8/20\n",
            "63/63 [==============================] - 0s 6ms/step - loss: 0.5920 - accuracy: 0.9945 - val_loss: 7.6580 - val_accuracy: 0.9640\n",
            "Epoch 9/20\n",
            "63/63 [==============================] - 0s 6ms/step - loss: 0.2367 - accuracy: 0.9970 - val_loss: 7.5942 - val_accuracy: 0.9730\n",
            "Epoch 10/20\n",
            "63/63 [==============================] - 0s 6ms/step - loss: 0.2171 - accuracy: 0.9980 - val_loss: 6.3238 - val_accuracy: 0.9730\n",
            "Epoch 11/20\n",
            "63/63 [==============================] - 0s 7ms/step - loss: 0.4899 - accuracy: 0.9970 - val_loss: 4.6687 - val_accuracy: 0.9800\n",
            "Epoch 12/20\n",
            "63/63 [==============================] - 0s 6ms/step - loss: 0.0063 - accuracy: 0.9995 - val_loss: 4.8593 - val_accuracy: 0.9800\n",
            "Epoch 13/20\n",
            "63/63 [==============================] - 0s 7ms/step - loss: 0.2070 - accuracy: 0.9980 - val_loss: 6.8962 - val_accuracy: 0.9750\n",
            "Epoch 14/20\n",
            "63/63 [==============================] - 0s 7ms/step - loss: 0.4943 - accuracy: 0.9965 - val_loss: 6.7051 - val_accuracy: 0.9760\n",
            "Epoch 15/20\n",
            "63/63 [==============================] - 1s 9ms/step - loss: 0.1203 - accuracy: 0.9970 - val_loss: 4.4036 - val_accuracy: 0.9810\n",
            "Epoch 16/20\n",
            "63/63 [==============================] - 1s 8ms/step - loss: 4.6680e-10 - accuracy: 1.0000 - val_loss: 4.4036 - val_accuracy: 0.9810\n",
            "Epoch 17/20\n",
            "63/63 [==============================] - 1s 9ms/step - loss: 1.0961e-30 - accuracy: 1.0000 - val_loss: 4.4036 - val_accuracy: 0.9810\n",
            "Epoch 18/20\n",
            "63/63 [==============================] - 1s 9ms/step - loss: 4.3107e-11 - accuracy: 1.0000 - val_loss: 4.4034 - val_accuracy: 0.9810\n",
            "Epoch 19/20\n",
            "63/63 [==============================] - 1s 9ms/step - loss: 0.2461 - accuracy: 0.9985 - val_loss: 10.0892 - val_accuracy: 0.9630\n",
            "Epoch 20/20\n",
            "63/63 [==============================] - 1s 9ms/step - loss: 0.1054 - accuracy: 0.9995 - val_loss: 4.6071 - val_accuracy: 0.9800\n"
          ]
        }
      ],
      "source": [
        "#Building the model.\n",
        "inputs = keras.Input(shape=(5, 5, 512))\n",
        "x = layers.Flatten()(inputs)\n",
        "x = layers.Dense(256)(x)\n",
        "x = layers.Dropout(0.5)(x)\n",
        "outputs = layers.Dense(1, activation=\"sigmoid\")(x)\n",
        "model = keras.Model(inputs, outputs)\n",
        "model.compile(loss=\"binary_crossentropy\",\n",
        "              optimizer=\"rmsprop\",\n",
        "              metrics=[\"accuracy\"])\n",
        "\n",
        "callbacks = [\n",
        "    keras.callbacks.ModelCheckpoint(\n",
        "      filepath=\"feature_extraction2.keras\",\n",
        "      save_best_only=True,\n",
        "      monitor=\"val_loss\")\n",
        "]\n",
        "history = model.fit(\n",
        "    train_features, train_labels,\n",
        "    epochs=20,\n",
        "    validation_data=(val_features, val_labels),\n",
        "    callbacks=callbacks)"
      ],
      "id": "dO63i14aqvDI"
    },
    {
      "cell_type": "code",
      "execution_count": 58,
      "metadata": {
        "colab": {
          "base_uri": "https://localhost:8080/"
        },
        "id": "gOwqSk31q7AS",
        "outputId": "72f32faf-5958-4bc4-ad75-723dd21e28ab"
      },
      "outputs": [
        {
          "output_type": "stream",
          "name": "stdout",
          "text": [
            "63/63 [==============================] - 0s 4ms/step - loss: 4.8016 - accuracy: 0.9710\n",
            "Test accuracy: 0.971\n"
          ]
        }
      ],
      "source": [
        "#Testing the accuracy of the model.\n",
        "#Testing the accuracy of the model.\n",
        "test_model = keras.models.load_model(\n",
        "    \"feature_extraction2.keras\")\n",
        "test_loss, test1_acc = test_model.evaluate(test_features, test_labels)\n",
        "print(f\"Test accuracy: {test1_acc:.3f}\")"
      ],
      "id": "gOwqSk31q7AS"
    }
  ],
  "metadata": {
    "accelerator": "GPU",
    "colab": {
      "toc_visible": true,
      "provenance": [],
      "gpuType": "A100"
    },
    "kernelspec": {
      "display_name": "Python 3",
      "name": "python3"
    },
    "language_info": {
      "codemirror_mode": {
        "name": "ipython",
        "version": 3
      },
      "file_extension": ".py",
      "mimetype": "text/x-python",
      "name": "python",
      "nbconvert_exporter": "python",
      "pygments_lexer": "ipython3",
      "version": "3.6.8"
    }
  },
  "nbformat": 4,
  "nbformat_minor": 5
}