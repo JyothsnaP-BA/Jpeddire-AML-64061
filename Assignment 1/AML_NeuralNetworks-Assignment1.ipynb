{
 "cells": [
  {
   "cell_type": "markdown",
   "id": "24186d6a-82a4-495c-a8ad-55eaa0c6308c",
   "metadata": {},
   "source": [
    "### Loading the IMDB dataset."
   ]
  },
  {
   "cell_type": "code",
   "execution_count": 1,
   "id": "65b999bc-03c4-49a2-8aef-324fccee3f96",
   "metadata": {},
   "outputs": [],
   "source": [
    "from tensorflow.keras.datasets import imdb\n",
    "(train_data, train_labels), (test_data, test_labels) = imdb.load_data(\n",
    "    num_words=10000)"
   ]
  },
  {
   "cell_type": "code",
   "execution_count": 2,
   "id": "35ef79a5-409e-43ce-92fb-8abf45011a40",
   "metadata": {},
   "outputs": [
    {
     "data": {
      "text/plain": [
       "[1,\n",
       " 14,\n",
       " 22,\n",
       " 16,\n",
       " 43,\n",
       " 530,\n",
       " 973,\n",
       " 1622,\n",
       " 1385,\n",
       " 65,\n",
       " 458,\n",
       " 4468,\n",
       " 66,\n",
       " 3941,\n",
       " 4,\n",
       " 173,\n",
       " 36,\n",
       " 256,\n",
       " 5,\n",
       " 25,\n",
       " 100,\n",
       " 43,\n",
       " 838,\n",
       " 112,\n",
       " 50,\n",
       " 670,\n",
       " 2,\n",
       " 9,\n",
       " 35,\n",
       " 480,\n",
       " 284,\n",
       " 5,\n",
       " 150,\n",
       " 4,\n",
       " 172,\n",
       " 112,\n",
       " 167,\n",
       " 2,\n",
       " 336,\n",
       " 385,\n",
       " 39,\n",
       " 4,\n",
       " 172,\n",
       " 4536,\n",
       " 1111,\n",
       " 17,\n",
       " 546,\n",
       " 38,\n",
       " 13,\n",
       " 447,\n",
       " 4,\n",
       " 192,\n",
       " 50,\n",
       " 16,\n",
       " 6,\n",
       " 147,\n",
       " 2025,\n",
       " 19,\n",
       " 14,\n",
       " 22,\n",
       " 4,\n",
       " 1920,\n",
       " 4613,\n",
       " 469,\n",
       " 4,\n",
       " 22,\n",
       " 71,\n",
       " 87,\n",
       " 12,\n",
       " 16,\n",
       " 43,\n",
       " 530,\n",
       " 38,\n",
       " 76,\n",
       " 15,\n",
       " 13,\n",
       " 1247,\n",
       " 4,\n",
       " 22,\n",
       " 17,\n",
       " 515,\n",
       " 17,\n",
       " 12,\n",
       " 16,\n",
       " 626,\n",
       " 18,\n",
       " 2,\n",
       " 5,\n",
       " 62,\n",
       " 386,\n",
       " 12,\n",
       " 8,\n",
       " 316,\n",
       " 8,\n",
       " 106,\n",
       " 5,\n",
       " 4,\n",
       " 2223,\n",
       " 5244,\n",
       " 16,\n",
       " 480,\n",
       " 66,\n",
       " 3785,\n",
       " 33,\n",
       " 4,\n",
       " 130,\n",
       " 12,\n",
       " 16,\n",
       " 38,\n",
       " 619,\n",
       " 5,\n",
       " 25,\n",
       " 124,\n",
       " 51,\n",
       " 36,\n",
       " 135,\n",
       " 48,\n",
       " 25,\n",
       " 1415,\n",
       " 33,\n",
       " 6,\n",
       " 22,\n",
       " 12,\n",
       " 215,\n",
       " 28,\n",
       " 77,\n",
       " 52,\n",
       " 5,\n",
       " 14,\n",
       " 407,\n",
       " 16,\n",
       " 82,\n",
       " 2,\n",
       " 8,\n",
       " 4,\n",
       " 107,\n",
       " 117,\n",
       " 5952,\n",
       " 15,\n",
       " 256,\n",
       " 4,\n",
       " 2,\n",
       " 7,\n",
       " 3766,\n",
       " 5,\n",
       " 723,\n",
       " 36,\n",
       " 71,\n",
       " 43,\n",
       " 530,\n",
       " 476,\n",
       " 26,\n",
       " 400,\n",
       " 317,\n",
       " 46,\n",
       " 7,\n",
       " 4,\n",
       " 2,\n",
       " 1029,\n",
       " 13,\n",
       " 104,\n",
       " 88,\n",
       " 4,\n",
       " 381,\n",
       " 15,\n",
       " 297,\n",
       " 98,\n",
       " 32,\n",
       " 2071,\n",
       " 56,\n",
       " 26,\n",
       " 141,\n",
       " 6,\n",
       " 194,\n",
       " 7486,\n",
       " 18,\n",
       " 4,\n",
       " 226,\n",
       " 22,\n",
       " 21,\n",
       " 134,\n",
       " 476,\n",
       " 26,\n",
       " 480,\n",
       " 5,\n",
       " 144,\n",
       " 30,\n",
       " 5535,\n",
       " 18,\n",
       " 51,\n",
       " 36,\n",
       " 28,\n",
       " 224,\n",
       " 92,\n",
       " 25,\n",
       " 104,\n",
       " 4,\n",
       " 226,\n",
       " 65,\n",
       " 16,\n",
       " 38,\n",
       " 1334,\n",
       " 88,\n",
       " 12,\n",
       " 16,\n",
       " 283,\n",
       " 5,\n",
       " 16,\n",
       " 4472,\n",
       " 113,\n",
       " 103,\n",
       " 32,\n",
       " 15,\n",
       " 16,\n",
       " 5345,\n",
       " 19,\n",
       " 178,\n",
       " 32]"
      ]
     },
     "execution_count": 2,
     "metadata": {},
     "output_type": "execute_result"
    }
   ],
   "source": [
    " train_data[0]"
   ]
  },
  {
   "cell_type": "code",
   "execution_count": 3,
   "id": "25c2b0e2-52ae-4f0a-8e13-6cb24ce2b643",
   "metadata": {},
   "outputs": [
    {
     "data": {
      "text/plain": [
       "1"
      ]
     },
     "execution_count": 3,
     "metadata": {},
     "output_type": "execute_result"
    }
   ],
   "source": [
    "train_labels[0]"
   ]
  },
  {
   "cell_type": "code",
   "execution_count": 4,
   "id": "9b3e758d-fd23-4608-9437-14e16d96ef1a",
   "metadata": {},
   "outputs": [
    {
     "data": {
      "text/plain": [
       "9999"
      ]
     },
     "execution_count": 4,
     "metadata": {},
     "output_type": "execute_result"
    }
   ],
   "source": [
    "max([max(sequence) for sequence in train_data])"
   ]
  },
  {
   "cell_type": "markdown",
   "id": "44f12da6-c5f5-44e6-83ad-3178c91ad635",
   "metadata": {},
   "source": [
    "### Decoding the reviews to text"
   ]
  },
  {
   "cell_type": "code",
   "execution_count": 5,
   "id": "cbd433cb-e523-4088-8469-cc26917776bb",
   "metadata": {},
   "outputs": [],
   "source": [
    "word_index = imdb.get_word_index()\n",
    "reverse_word_index = dict(\n",
    "    [(value, key) for (key, value) in word_index.items()])\n",
    "decoded_review = \" \".join(\n",
    "    [reverse_word_index.get(i - 3, \"?\") for i in train_data[0]])"
   ]
  },
  {
   "cell_type": "markdown",
   "id": "a27e11ef-7d12-4fe4-b52d-8e9096760f9b",
   "metadata": {},
   "source": [
    "### performing the encoding in integer sequence via multi-hot encoding"
   ]
  },
  {
   "cell_type": "code",
   "execution_count": 6,
   "id": "941cd0c3-82e4-440a-9e6b-78ef2c4f094a",
   "metadata": {},
   "outputs": [
    {
     "data": {
      "text/plain": [
       "array([0., 1., 1., ..., 0., 0., 0.])"
      ]
     },
     "execution_count": 6,
     "metadata": {},
     "output_type": "execute_result"
    }
   ],
   "source": [
    "import numpy as np\n",
    "def vectorize_sequences(sequences, dimension=10000):\n",
    "    results = np.zeros((len(sequences), dimension))\n",
    "    for i, sequence in enumerate(sequences):\n",
    "        for j in sequence:\n",
    "            results[i, j] = 1.\n",
    "    return results\n",
    "x_train = vectorize_sequences(train_data)\n",
    "x_test = vectorize_sequences(test_data)\n",
    "\n",
    "x_train[0]"
   ]
  },
  {
   "cell_type": "code",
   "execution_count": 7,
   "id": "19e3bea1-5c22-403e-a4b2-f70e38b46160",
   "metadata": {},
   "outputs": [],
   "source": [
    "y_train = np.asarray(train_labels).astype(\"float32\")\n",
    "y_test = np.asarray(test_labels).astype(\"float32\")"
   ]
  },
  {
   "cell_type": "code",
   "execution_count": 8,
   "id": "c20aa20e-a56c-4b91-a5cb-b685d742680d",
   "metadata": {},
   "outputs": [],
   "source": [
    "from tensorflow import keras\n",
    "from tensorflow.keras import layers"
   ]
  },
  {
   "cell_type": "code",
   "execution_count": 9,
   "id": "ca612a6c-d26b-43cc-ba30-d99a69e5805d",
   "metadata": {},
   "outputs": [],
   "source": [
    "# Creating and running the model for the traing set and validation set.\n",
    "model = keras.Sequential([\n",
    "    layers.Dense(16, activation=\"relu\"),\n",
    "    layers.Dense(16, activation=\"relu\"),\n",
    "    layers.Dense(1, activation=\"sigmoid\")\n",
    "])\n",
    "\n",
    "model.compile(optimizer=\"rmsprop\",\n",
    "              loss=\"binary_crossentropy\",\n",
    "              metrics=[\"accuracy\"])"
   ]
  },
  {
   "cell_type": "markdown",
   "id": "e82fe262-76ef-4fed-b9ae-65dfb93df8ca",
   "metadata": {},
   "source": []
  },
  {
   "cell_type": "code",
   "execution_count": 10,
   "id": "f4239db6-748f-4bb6-a49d-975b77a6cb98",
   "metadata": {},
   "outputs": [],
   "source": [
    "# setting aside the validation set\n",
    "x_val = x_train[:10000]\n",
    "partial_x_train = x_train[10000:]\n",
    "y_val = y_train[:10000]\n",
    "partial_y_train = y_train[10000:]"
   ]
  },
  {
   "cell_type": "code",
   "execution_count": 29,
   "id": "aa0bf877-ec19-43d3-9e4e-3a778fe7ba42",
   "metadata": {},
   "outputs": [
    {
     "name": "stdout",
     "output_type": "stream",
     "text": [
      "Epoch 1/20\n",
      "30/30 [==============================] - 2s 35ms/step - loss: 0.5864 - accuracy: 0.7691 - val_loss: 0.5172 - val_accuracy: 0.7505\n",
      "Epoch 2/20\n",
      "30/30 [==============================] - 1s 24ms/step - loss: 0.4081 - accuracy: 0.8897 - val_loss: 0.3867 - val_accuracy: 0.8723\n",
      "Epoch 3/20\n",
      "30/30 [==============================] - 1s 24ms/step - loss: 0.2989 - accuracy: 0.9141 - val_loss: 0.3251 - val_accuracy: 0.8796\n",
      "Epoch 4/20\n",
      "30/30 [==============================] - 1s 21ms/step - loss: 0.2320 - accuracy: 0.9293 - val_loss: 0.2846 - val_accuracy: 0.8916\n",
      "Epoch 5/20\n",
      "30/30 [==============================] - 1s 21ms/step - loss: 0.1869 - accuracy: 0.9429 - val_loss: 0.2789 - val_accuracy: 0.8884\n",
      "Epoch 6/20\n",
      "30/30 [==============================] - 1s 24ms/step - loss: 0.1563 - accuracy: 0.9532 - val_loss: 0.2762 - val_accuracy: 0.8903\n",
      "Epoch 7/20\n",
      "30/30 [==============================] - 1s 21ms/step - loss: 0.1340 - accuracy: 0.9586 - val_loss: 0.2864 - val_accuracy: 0.8863\n",
      "Epoch 8/20\n",
      "30/30 [==============================] - 1s 27ms/step - loss: 0.1138 - accuracy: 0.9679 - val_loss: 0.2906 - val_accuracy: 0.8868\n",
      "Epoch 9/20\n",
      "30/30 [==============================] - 1s 21ms/step - loss: 0.0986 - accuracy: 0.9720 - val_loss: 0.3195 - val_accuracy: 0.8833\n",
      "Epoch 10/20\n",
      "30/30 [==============================] - 1s 21ms/step - loss: 0.0843 - accuracy: 0.9771 - val_loss: 0.3213 - val_accuracy: 0.8858\n",
      "Epoch 11/20\n",
      "30/30 [==============================] - 1s 21ms/step - loss: 0.0714 - accuracy: 0.9835 - val_loss: 0.3479 - val_accuracy: 0.8812\n",
      "Epoch 12/20\n",
      "30/30 [==============================] - 1s 21ms/step - loss: 0.0611 - accuracy: 0.9860 - val_loss: 0.3662 - val_accuracy: 0.8821\n",
      "Epoch 13/20\n",
      "30/30 [==============================] - 1s 27ms/step - loss: 0.0519 - accuracy: 0.9893 - val_loss: 0.3804 - val_accuracy: 0.8762\n",
      "Epoch 14/20\n",
      "30/30 [==============================] - 1s 24ms/step - loss: 0.0440 - accuracy: 0.9915 - val_loss: 0.4096 - val_accuracy: 0.8770\n",
      "Epoch 15/20\n",
      "30/30 [==============================] - 1s 27ms/step - loss: 0.0352 - accuracy: 0.9945 - val_loss: 0.4408 - val_accuracy: 0.8748\n",
      "Epoch 16/20\n",
      "30/30 [==============================] - 1s 25ms/step - loss: 0.0298 - accuracy: 0.9955 - val_loss: 0.4645 - val_accuracy: 0.8747\n",
      "Epoch 17/20\n",
      "30/30 [==============================] - 1s 24ms/step - loss: 0.0244 - accuracy: 0.9966 - val_loss: 0.4841 - val_accuracy: 0.8705\n",
      "Epoch 18/20\n",
      "30/30 [==============================] - 1s 20ms/step - loss: 0.0195 - accuracy: 0.9972 - val_loss: 0.5239 - val_accuracy: 0.8694\n",
      "Epoch 19/20\n",
      "30/30 [==============================] - 1s 18ms/step - loss: 0.0159 - accuracy: 0.9979 - val_loss: 0.5776 - val_accuracy: 0.8688\n",
      "Epoch 20/20\n",
      "30/30 [==============================] - 1s 21ms/step - loss: 0.0127 - accuracy: 0.9985 - val_loss: 0.5775 - val_accuracy: 0.8686\n"
     ]
    }
   ],
   "source": [
    "history = model.fit(partial_x_train,\n",
    "                    partial_y_train,\n",
    "                    epochs=20,\n",
    "                    batch_size=512,\n",
    "                    validation_data=(x_val, y_val))"
   ]
  },
  {
   "cell_type": "code",
   "execution_count": 11,
   "id": "371d3cab-2e70-4aeb-aa1d-13124fadb3cf",
   "metadata": {},
   "outputs": [
    {
     "data": {
      "text/plain": [
       "dict_keys(['loss', 'accuracy', 'val_loss', 'val_accuracy'])"
      ]
     },
     "execution_count": 11,
     "metadata": {},
     "output_type": "execute_result"
    }
   ],
   "source": [
    "history_dict = history.history\n",
    "history_dict.keys()"
   ]
  },
  {
   "cell_type": "markdown",
   "id": "40354590-c115-4c5e-bb7d-d34437895cab",
   "metadata": {},
   "source": [
    "### Plotting the Loss for training and validation data"
   ]
  },
  {
   "cell_type": "code",
   "execution_count": 12,
   "id": "fba441a7-5ac7-44b6-a590-e5ac44ac5d86",
   "metadata": {},
   "outputs": [
    {
     "data": {
      "image/png": "[encoded data removed]",
      "text/plain": [
       "<Figure size 432x288 with 1 Axes>"
      ]
     },
     "metadata": {
      "needs_background": "light"
     },
     "output_type": "display_data"
    }
   ],
   "source": [
    "import matplotlib.pyplot as plt\n",
    "history_dict = history.history\n",
    "loss_values = history_dict[\"loss\"]\n",
    "val_loss_values = history_dict[\"val_loss\"]\n",
    "epochs = range(1, len(loss_values) + 1)\n",
    "plt.plot(epochs, loss_values, \"bo\", label=\"Training loss\")\n",
    "plt.plot(epochs, val_loss_values, \"b\", label=\"Validation loss\")\n",
    "plt.title(\"Training and validation loss\")\n",
    "plt.xlabel(\"Epochs\")\n",
    "plt.ylabel(\"Loss\")\n",
    "plt.legend()\n",
    "plt.show()"
   ]
  },
  {
   "cell_type": "markdown",
   "id": "42bb64ec-31f8-4682-afa5-ce835bb8f85c",
   "metadata": {},
   "source": [
    "### Plotting the accuracy of training and validation set"
   ]
  },
  {
   "cell_type": "code",
   "execution_count": 13,
   "id": "086d7672-a790-4b40-b9ec-253d68179a7e",
   "metadata": {},
   "outputs": [
    {
     "data": {
      "image/png": "[encoded data removed]",
      "text/plain": [
       "<Figure size 432x288 with 1 Axes>"
      ]
     },
     "metadata": {
      "needs_background": "light"
     },
     "output_type": "display_data"
    }
   ],
   "source": [
    "plt.clf()\n",
    "acc = history_dict[\"accuracy\"]\n",
    "val_acc = history_dict[\"val_accuracy\"]\n",
    "plt.plot(epochs, acc, \"bo\", label=\"Training acc\")\n",
    "plt.plot(epochs, val_acc, \"b\", label=\"Validation acc\")\n",
    "plt.title(\"Training and validation accuracy\")\n",
    "plt.xlabel(\"Epochs\")\n",
    "plt.ylabel(\"Accuracy\")\n",
    "plt.legend()\n",
    "plt.show()"
   ]
  },
  {
   "cell_type": "code",
   "execution_count": 14,
   "id": "a5c6aeab-747a-43fb-b41d-3a90f4bd7fd9",
   "metadata": {},
   "outputs": [
    {
     "name": "stdout",
     "output_type": "stream",
     "text": [
      "Epoch 1/4\n",
      "49/49 [==============================] - 2s 19ms/step - loss: 0.4777 - accuracy: 0.8180\n",
      "Epoch 2/4\n",
      "49/49 [==============================] - 1s 17ms/step - loss: 0.2787 - accuracy: 0.9052\n",
      "Epoch 3/4\n",
      "49/49 [==============================] - 1s 13ms/step - loss: 0.2110 - accuracy: 0.9272\n",
      "Epoch 4/4\n",
      "49/49 [==============================] - 1s 13ms/step - loss: 0.1753 - accuracy: 0.9382\n",
      "782/782 [==============================] - 1s 602us/step - loss: 0.2907 - accuracy: 0.8838\n"
     ]
    }
   ],
   "source": [
    "# Running the model for 4 epochs.\n",
    "model = keras.Sequential([\n",
    "    layers.Dense(16, activation=\"relu\"),\n",
    "    layers.Dense(16, activation=\"relu\"),\n",
    "    layers.Dense(1, activation=\"sigmoid\")\n",
    "])\n",
    "model.compile(optimizer=\"rmsprop\",\n",
    "              loss=\"binary_crossentropy\",\n",
    "              metrics=[\"accuracy\"])\n",
    "Basic= model.fit(x_train, y_train, epochs=4, batch_size=512)\n",
    "results = model.evaluate(x_test, y_test)"
   ]
  },
  {
   "cell_type": "code",
   "execution_count": 15,
   "id": "accd6578-9cae-4aba-9c81-ca030b0ad2c3",
   "metadata": {},
   "outputs": [
    {
     "data": {
      "text/plain": [
       "[0.290727436542511, 0.883840024471283]"
      ]
     },
     "execution_count": 15,
     "metadata": {},
     "output_type": "execute_result"
    }
   ],
   "source": [
    "results"
   ]
  },
  {
   "cell_type": "code",
   "execution_count": 16,
   "id": "0531059d-b184-405b-829c-d239caa2da54",
   "metadata": {},
   "outputs": [
    {
     "name": "stdout",
     "output_type": "stream",
     "text": [
      "Epoch 1/4\n",
      "49/49 [==============================] - 2s 19ms/step - loss: 0.4425 - accuracy: 0.8247\n",
      "Epoch 2/4\n",
      "49/49 [==============================] - 1s 17ms/step - loss: 0.2500 - accuracy: 0.9086\n",
      "Epoch 3/4\n",
      "49/49 [==============================] - 1s 14ms/step - loss: 0.1951 - accuracy: 0.9287\n",
      "Epoch 4/4\n",
      "49/49 [==============================] - 1s 13ms/step - loss: 0.1639 - accuracy: 0.9419\n",
      "782/782 [==============================] - 1s 617us/step - loss: 0.3278 - accuracy: 0.8731\n"
     ]
    }
   ],
   "source": [
    "# creating a model with incresed in layers.\n",
    "model = keras.Sequential([\n",
    "    layers.Dense(16, activation=\"relu\"),\n",
    "    layers.Dense(16, activation=\"relu\"),\n",
    "    layers.Dense(16, activation=\"relu\"),\n",
    "    layers.Dense(1, activation=\"sigmoid\")\n",
    "])\n",
    "model.compile(optimizer=\"rmsprop\",\n",
    "              loss=\"binary_crossentropy\",\n",
    "              metrics=[\"accuracy\"])\n",
    "AddingLayers= model.fit(x_train, y_train, epochs=4, batch_size=512)\n",
    "results2 = model.evaluate(x_test, y_test)"
   ]
  },
  {
   "cell_type": "code",
   "execution_count": 17,
   "id": "ae18dd55-9d32-42ba-9100-469696083bed",
   "metadata": {},
   "outputs": [
    {
     "data": {
      "text/plain": [
       "[0.32783547043800354, 0.8730800151824951]"
      ]
     },
     "execution_count": 17,
     "metadata": {},
     "output_type": "execute_result"
    }
   ],
   "source": [
    "results2"
   ]
  },
  {
   "cell_type": "code",
   "execution_count": 18,
   "id": "321b0d1f-0c03-47fe-a7ab-1beac5dea516",
   "metadata": {},
   "outputs": [
    {
     "name": "stdout",
     "output_type": "stream",
     "text": [
      "Epoch 1/4\n",
      "49/49 [==============================] - 1s 17ms/step - loss: 0.4370 - accuracy: 0.8272\n",
      "Epoch 2/4\n",
      "49/49 [==============================] - 1s 17ms/step - loss: 0.2679 - accuracy: 0.9099\n",
      "Epoch 3/4\n",
      "49/49 [==============================] - 1s 19ms/step - loss: 0.2132 - accuracy: 0.9280\n",
      "Epoch 4/4\n",
      "49/49 [==============================] - 1s 27ms/step - loss: 0.1814 - accuracy: 0.9377\n",
      "782/782 [==============================] - 1s 620us/step - loss: 0.2816 - accuracy: 0.8868\n"
     ]
    }
   ],
   "source": [
    "# creating a model with decreased in layers.\n",
    "model = keras.Sequential([\n",
    "    layers.Dense(16, activation=\"relu\"),\n",
    "    layers.Dense(1, activation=\"sigmoid\")\n",
    "])\n",
    "model.compile(optimizer=\"rmsprop\",\n",
    "              loss=\"binary_crossentropy\",\n",
    "              metrics=[\"accuracy\"])\n",
    "ReducedLayers= model.fit(x_train, y_train, epochs=4, batch_size=512)\n",
    "results3 = model.evaluate(x_test, y_test)"
   ]
  },
  {
   "cell_type": "code",
   "execution_count": 19,
   "id": "778b5a08-5717-4b85-96e0-52258cb79b99",
   "metadata": {},
   "outputs": [
    {
     "data": {
      "text/plain": [
       "[0.2815677225589752, 0.8868399858474731]"
      ]
     },
     "execution_count": 19,
     "metadata": {},
     "output_type": "execute_result"
    }
   ],
   "source": [
    "results3"
   ]
  },
  {
   "cell_type": "code",
   "execution_count": 22,
   "id": "d5e8d938-28a3-48bd-9291-5785b321178f",
   "metadata": {},
   "outputs": [
    {
     "name": "stdout",
     "output_type": "stream",
     "text": [
      "Epoch 1/4\n",
      "49/49 [==============================] - 2s 29ms/step - loss: 0.4368 - accuracy: 0.8168\n",
      "Epoch 2/4\n",
      "49/49 [==============================] - 1s 25ms/step - loss: 0.2447 - accuracy: 0.9104\n",
      "Epoch 3/4\n",
      "49/49 [==============================] - 1s 17ms/step - loss: 0.1881 - accuracy: 0.9312\n",
      "Epoch 4/4\n",
      "49/49 [==============================] - 1s 18ms/step - loss: 0.1554 - accuracy: 0.9444\n",
      "782/782 [==============================] - 1s 664us/step - loss: 0.3194 - accuracy: 0.8763\n"
     ]
    }
   ],
   "source": [
    "### Testing the loss and accuarcy of the 32 units\n",
    "model = keras.Sequential([\n",
    "    layers.Dense(32, activation=\"relu\"),\n",
    "    layers.Dense(32, activation=\"relu\"),\n",
    "    layers.Dense(1, activation=\"sigmoid\")\n",
    "])\n",
    "model.compile(optimizer=\"rmsprop\",\n",
    "              loss=\"binary_crossentropy\",\n",
    "              metrics=[\"accuracy\"])\n",
    "Unitswith32= model.fit(x_train, y_train, epochs=4, batch_size=512)\n",
    "resultsof32units = model.evaluate(x_test, y_test)"
   ]
  },
  {
   "cell_type": "code",
   "execution_count": 23,
   "id": "d5bf1563-8700-4caa-a706-eb5f7d53e616",
   "metadata": {},
   "outputs": [
    {
     "data": {
      "text/plain": [
       "[0.31940874457359314, 0.8762800097465515]"
      ]
     },
     "execution_count": 23,
     "metadata": {},
     "output_type": "execute_result"
    }
   ],
   "source": [
    "resultsof32units"
   ]
  },
  {
   "cell_type": "code",
   "execution_count": 10,
   "id": "ea1459f5-de57-48bb-b1d3-c1e901c1d400",
   "metadata": {},
   "outputs": [
    {
     "name": "stdout",
     "output_type": "stream",
     "text": [
      "Epoch 1/4\n",
      "49/49 [==============================] - 3s 39ms/step - loss: 0.4144 - accuracy: 0.8172\n",
      "Epoch 2/4\n",
      "49/49 [==============================] - 2s 33ms/step - loss: 0.2388 - accuracy: 0.9052\n",
      "Epoch 3/4\n",
      "49/49 [==============================] - 1s 27ms/step - loss: 0.1814 - accuracy: 0.9297\n",
      "Epoch 4/4\n",
      "49/49 [==============================] - 1s 25ms/step - loss: 0.1507 - accuracy: 0.9431\n",
      "782/782 [==============================] - 1s 1ms/step - loss: 0.3538 - accuracy: 0.8647\n"
     ]
    }
   ],
   "source": [
    "### Testing the loss and accuarcy of the 64 units\n",
    "model = keras.Sequential([\n",
    "    layers.Dense(64, activation=\"relu\"),\n",
    "    layers.Dense(64, activation=\"relu\"),\n",
    "    layers.Dense(1, activation=\"sigmoid\")\n",
    "])\n",
    "model.compile(optimizer=\"rmsprop\",\n",
    "              loss=\"binary_crossentropy\",\n",
    "              metrics=[\"accuracy\"])\n",
    "Unitswith64= model.fit(x_train, y_train, epochs=4, batch_size=512)\n",
    "resultsof64units = model.evaluate(x_test, y_test)"
   ]
  },
  {
   "cell_type": "code",
   "execution_count": 11,
   "id": "62ad5b92-0cb5-4cb2-a692-27fb03c07295",
   "metadata": {},
   "outputs": [
    {
     "data": {
      "text/plain": [
       "[0.3538137972354889, 0.8646799921989441]"
      ]
     },
     "execution_count": 11,
     "metadata": {},
     "output_type": "execute_result"
    }
   ],
   "source": [
    "resultsof64units"
   ]
  },
  {
   "cell_type": "code",
   "execution_count": 24,
   "id": "999731ea-2abc-4468-9b0a-e56493eb722c",
   "metadata": {},
   "outputs": [
    {
     "name": "stdout",
     "output_type": "stream",
     "text": [
      "Epoch 1/4\n",
      "49/49 [==============================] - 2s 15ms/step - loss: 0.1750 - accuracy: 0.7671\n",
      "Epoch 2/4\n",
      "49/49 [==============================] - 1s 16ms/step - loss: 0.0883 - accuracy: 0.9082\n",
      "Epoch 3/4\n",
      "49/49 [==============================] - 1s 13ms/step - loss: 0.0624 - accuracy: 0.9285\n",
      "Epoch 4/4\n",
      "49/49 [==============================] - 1s 14ms/step - loss: 0.0507 - accuracy: 0.9419\n",
      "782/782 [==============================] - 1s 608us/step - loss: 0.0891 - accuracy: 0.8814\n"
     ]
    }
   ],
   "source": [
    "### using the mse loss function \n",
    "model = keras.Sequential([\n",
    "    layers.Dense(16, activation=\"relu\"),\n",
    "    layers.Dense(16, activation=\"relu\"),\n",
    "    layers.Dense(1, activation=\"sigmoid\")\n",
    "])\n",
    "model.compile(optimizer=\"rmsprop\",\n",
    "              loss=\"mse\",\n",
    "              metrics=[\"accuracy\"])\n",
    "Mse_Lossfunction = model.fit(x_train, y_train, epochs=4, batch_size=512)\n",
    "resultsofMSE = model.evaluate(x_test, y_test)"
   ]
  },
  {
   "cell_type": "code",
   "execution_count": 25,
   "id": "0e5007cf-4996-473c-8126-e4d7b04e83c2",
   "metadata": {},
   "outputs": [
    {
     "name": "stdout",
     "output_type": "stream",
     "text": [
      "Epoch 1/4\n",
      "49/49 [==============================] - 2s 17ms/step - loss: 0.4269 - accuracy: 0.8292\n",
      "Epoch 2/4\n",
      "49/49 [==============================] - 1s 16ms/step - loss: 0.2353 - accuracy: 0.9149\n",
      "Epoch 3/4\n",
      "49/49 [==============================] - 1s 14ms/step - loss: 0.1762 - accuracy: 0.9366\n",
      "Epoch 4/4\n",
      "49/49 [==============================] - 1s 13ms/step - loss: 0.1475 - accuracy: 0.9467\n",
      "782/782 [==============================] - 1s 677us/step - loss: 0.3356 - accuracy: 0.8740\n"
     ]
    }
   ],
   "source": [
    "### using the tanh activation function \n",
    "model = keras.Sequential([\n",
    "    layers.Dense(16, activation=\"tanh\"),\n",
    "    layers.Dense(16, activation=\"tanh\"),\n",
    "    layers.Dense(1, activation=\"sigmoid\")\n",
    "])\n",
    "model.compile(optimizer=\"rmsprop\",\n",
    "              loss=\"binary_crossentropy\",\n",
    "              metrics=[\"accuracy\"])\n",
    "Activation_tanh= model.fit(x_train, y_train, epochs=4, batch_size=512)\n",
    "resultsoftanh = model.evaluate(x_test, y_test)"
   ]
  },
  {
   "cell_type": "code",
   "execution_count": 11,
   "id": "62a1026c-44fb-4ae9-b82d-55dbd3e9268b",
   "metadata": {},
   "outputs": [
    {
     "name": "stdout",
     "output_type": "stream",
     "text": [
      "Epoch 1/20\n",
      "30/30 [==============================] - 2s 44ms/step - loss: 0.5910 - accuracy: 0.7900 - val_loss: 0.4908 - val_accuracy: 0.8304\n",
      "Epoch 2/20\n",
      "30/30 [==============================] - 1s 24ms/step - loss: 0.3944 - accuracy: 0.8953 - val_loss: 0.3868 - val_accuracy: 0.8867\n",
      "Epoch 3/20\n",
      "30/30 [==============================] - 1s 27ms/step - loss: 0.3307 - accuracy: 0.9134 - val_loss: 0.3830 - val_accuracy: 0.8778\n",
      "Epoch 4/20\n",
      "30/30 [==============================] - 1s 24ms/step - loss: 0.2995 - accuracy: 0.9259 - val_loss: 0.4010 - val_accuracy: 0.8681\n",
      "Epoch 5/20\n",
      "30/30 [==============================] - 1s 24ms/step - loss: 0.2786 - accuracy: 0.9351 - val_loss: 0.3614 - val_accuracy: 0.8869\n",
      "Epoch 6/20\n",
      "30/30 [==============================] - 1s 24ms/step - loss: 0.2645 - accuracy: 0.9381 - val_loss: 0.3663 - val_accuracy: 0.8848\n",
      "Epoch 7/20\n",
      "30/30 [==============================] - 1s 24ms/step - loss: 0.2614 - accuracy: 0.9378 - val_loss: 0.3864 - val_accuracy: 0.8774\n",
      "Epoch 8/20\n",
      "30/30 [==============================] - 1s 24ms/step - loss: 0.2489 - accuracy: 0.9434 - val_loss: 0.3701 - val_accuracy: 0.8836\n",
      "Epoch 9/20\n",
      "30/30 [==============================] - 1s 24ms/step - loss: 0.2433 - accuracy: 0.9452 - val_loss: 0.3785 - val_accuracy: 0.8818\n",
      "Epoch 10/20\n",
      "30/30 [==============================] - 1s 24ms/step - loss: 0.2377 - accuracy: 0.9467 - val_loss: 0.3804 - val_accuracy: 0.8812\n",
      "Epoch 11/20\n",
      "30/30 [==============================] - 1s 24ms/step - loss: 0.2330 - accuracy: 0.9484 - val_loss: 0.3964 - val_accuracy: 0.8758\n",
      "Epoch 12/20\n",
      "30/30 [==============================] - 1s 24ms/step - loss: 0.2241 - accuracy: 0.9525 - val_loss: 0.4547 - val_accuracy: 0.8628\n",
      "Epoch 13/20\n",
      "30/30 [==============================] - 1s 24ms/step - loss: 0.2276 - accuracy: 0.9483 - val_loss: 0.3922 - val_accuracy: 0.8798\n",
      "Epoch 14/20\n",
      "30/30 [==============================] - 1s 24ms/step - loss: 0.2171 - accuracy: 0.9557 - val_loss: 0.4796 - val_accuracy: 0.8580\n",
      "Epoch 15/20\n",
      "30/30 [==============================] - 1s 24ms/step - loss: 0.2167 - accuracy: 0.9551 - val_loss: 0.4004 - val_accuracy: 0.8793\n",
      "Epoch 16/20\n",
      "30/30 [==============================] - 1s 28ms/step - loss: 0.2187 - accuracy: 0.9521 - val_loss: 0.4260 - val_accuracy: 0.8710\n",
      "Epoch 17/20\n",
      "30/30 [==============================] - 1s 30ms/step - loss: 0.2058 - accuracy: 0.9589 - val_loss: 0.4786 - val_accuracy: 0.8548\n",
      "Epoch 18/20\n",
      "30/30 [==============================] - 1s 27ms/step - loss: 0.2132 - accuracy: 0.9556 - val_loss: 0.4141 - val_accuracy: 0.8756\n",
      "Epoch 19/20\n",
      "30/30 [==============================] - 1s 28ms/step - loss: 0.2056 - accuracy: 0.9573 - val_loss: 0.4134 - val_accuracy: 0.8780\n",
      "Epoch 20/20\n",
      "30/30 [==============================] - 1s 24ms/step - loss: 0.2046 - accuracy: 0.9581 - val_loss: 0.4397 - val_accuracy: 0.8734\n",
      "782/782 [==============================] - 1s 630us/step - loss: 0.4587 - accuracy: 0.8647\n"
     ]
    }
   ],
   "source": [
    "### Applying the L2 Regularization techinque to the mmodel.\n",
    "\n",
    "from tensorflow.keras import regularizers\n",
    "model = keras.Sequential([\n",
    "    layers.Dense(16,\n",
    "                 kernel_regularizer=regularizers.l2(0.002),\n",
    "                 activation=\"relu\"),\n",
    "    layers.Dense(16,\n",
    "                 kernel_regularizer=regularizers.l2(0.002),\n",
    "                 activation=\"relu\"),\n",
    "    layers.Dense(1, activation=\"sigmoid\")\n",
    "])\n",
    "model.compile(optimizer=\"rmsprop\",\n",
    "              loss=\"binary_crossentropy\",\n",
    "              metrics=[\"accuracy\"])\n",
    "L2_Regularization_tech = model.fit(x_train, y_train, epochs=20, batch_size=512, validation_split=0.4)\n",
    "resultsforL2_Regularization = model.evaluate(x_test, y_test)"
   ]
  },
  {
   "cell_type": "code",
   "execution_count": 14,
   "id": "cb8b52cf-0936-4dcc-9324-8d4767b4cb1b",
   "metadata": {},
   "outputs": [
    {
     "name": "stdout",
     "output_type": "stream",
     "text": [
      "Epoch 1/20\n",
      "30/30 [==============================] - 3s 42ms/step - loss: 0.6361 - accuracy: 0.6346 - val_loss: 0.5156 - val_accuracy: 0.8398\n",
      "Epoch 2/20\n",
      "30/30 [==============================] - 1s 21ms/step - loss: 0.5174 - accuracy: 0.7625 - val_loss: 0.3934 - val_accuracy: 0.8750\n",
      "Epoch 3/20\n",
      "30/30 [==============================] - 1s 24ms/step - loss: 0.4233 - accuracy: 0.8296 - val_loss: 0.3338 - val_accuracy: 0.8804\n",
      "Epoch 4/20\n",
      "30/30 [==============================] - 1s 24ms/step - loss: 0.3578 - accuracy: 0.8697 - val_loss: 0.3026 - val_accuracy: 0.8860\n",
      "Epoch 5/20\n",
      "30/30 [==============================] - 1s 21ms/step - loss: 0.3127 - accuracy: 0.8914 - val_loss: 0.2938 - val_accuracy: 0.8822\n",
      "Epoch 6/20\n",
      "30/30 [==============================] - 1s 23ms/step - loss: 0.2707 - accuracy: 0.9069 - val_loss: 0.2734 - val_accuracy: 0.8935\n",
      "Epoch 7/20\n",
      "30/30 [==============================] - 1s 34ms/step - loss: 0.2404 - accuracy: 0.9230 - val_loss: 0.2806 - val_accuracy: 0.8879\n",
      "Epoch 8/20\n",
      "30/30 [==============================] - 1s 25ms/step - loss: 0.2074 - accuracy: 0.9331 - val_loss: 0.2813 - val_accuracy: 0.8940\n",
      "Epoch 9/20\n",
      "30/30 [==============================] - 1s 27ms/step - loss: 0.1848 - accuracy: 0.9429 - val_loss: 0.3037 - val_accuracy: 0.8899\n",
      "Epoch 10/20\n",
      "30/30 [==============================] - 1s 27ms/step - loss: 0.1667 - accuracy: 0.9483 - val_loss: 0.3189 - val_accuracy: 0.8891\n",
      "Epoch 11/20\n",
      "30/30 [==============================] - 1s 24ms/step - loss: 0.1543 - accuracy: 0.9508 - val_loss: 0.3274 - val_accuracy: 0.8907\n",
      "Epoch 12/20\n",
      "30/30 [==============================] - 1s 28ms/step - loss: 0.1388 - accuracy: 0.9573 - val_loss: 0.3495 - val_accuracy: 0.8899\n",
      "Epoch 13/20\n",
      "30/30 [==============================] - 1s 24ms/step - loss: 0.1265 - accuracy: 0.9603 - val_loss: 0.3793 - val_accuracy: 0.8882\n",
      "Epoch 14/20\n",
      "30/30 [==============================] - 1s 24ms/step - loss: 0.1133 - accuracy: 0.9645 - val_loss: 0.4118 - val_accuracy: 0.8883\n",
      "Epoch 15/20\n",
      "30/30 [==============================] - 1s 24ms/step - loss: 0.1036 - accuracy: 0.9681 - val_loss: 0.4176 - val_accuracy: 0.8868\n",
      "Epoch 16/20\n",
      "30/30 [==============================] - 1s 21ms/step - loss: 0.0958 - accuracy: 0.9719 - val_loss: 0.4411 - val_accuracy: 0.8869\n",
      "Epoch 17/20\n",
      "30/30 [==============================] - 1s 21ms/step - loss: 0.0915 - accuracy: 0.9714 - val_loss: 0.4789 - val_accuracy: 0.8876\n",
      "Epoch 18/20\n",
      "30/30 [==============================] - 1s 18ms/step - loss: 0.0878 - accuracy: 0.9725 - val_loss: 0.5466 - val_accuracy: 0.8847\n",
      "Epoch 19/20\n",
      "30/30 [==============================] - 1s 20ms/step - loss: 0.0873 - accuracy: 0.9756 - val_loss: 0.5490 - val_accuracy: 0.8821\n",
      "Epoch 20/20\n",
      "30/30 [==============================] - 1s 20ms/step - loss: 0.0783 - accuracy: 0.9772 - val_loss: 0.5565 - val_accuracy: 0.8868\n",
      "782/782 [==============================] - 1s 665us/step - loss: 0.6075 - accuracy: 0.8708\n"
     ]
    }
   ],
   "source": [
    "### Adding dropout technique to the model.\n",
    "model = keras.Sequential([\n",
    "    layers.Dense(16, activation=\"relu\"),\n",
    "    layers.Dropout(0.5),\n",
    "    layers.Dense(16, activation=\"relu\"),\n",
    "    layers.Dropout(0.5),\n",
    "    layers.Dense(1, activation=\"sigmoid\")\n",
    "])\n",
    "model.compile(optimizer=\"rmsprop\",\n",
    "              loss=\"binary_crossentropy\",\n",
    "              metrics=[\"accuracy\"])\n",
    "Adding_dropout_tech =model.fit(x_train, y_train, epochs=20, batch_size=512, validation_split=0.4)\n",
    "resultsofdropout = model.evaluate(x_test, y_test)"
   ]
  },
  {
   "cell_type": "code",
   "execution_count": 16,
   "id": "c69a7d25-8739-4b91-b70c-7ab4d70d2533",
   "metadata": {},
   "outputs": [
    {
     "data": {
      "text/plain": [
       "<matplotlib.legend.Legend at 0x7f37b454b5f8>"
      ]
     },
     "execution_count": 16,
     "metadata": {},
     "output_type": "execute_result"
    },
    {
     "data": {
      "image/png": "[encoded data removed]",
      "text/plain": [
       "<Figure size 432x288 with 1 Axes>"
      ]
     },
     "metadata": {
      "needs_background": "light"
     },
     "output_type": "display_data"
    }
   ],
   "source": [
    "# Plotting the training loss and validation loss of model for L2_Regularization technique.\n",
    "import matplotlib.pyplot as plt\n",
    "train_loss = L2_Regularization_tech.history['loss']\n",
    "val_loss = L2_Regularization_tech.history['val_loss']\n",
    "epochs = range(1, len(train_loss) + 1)\n",
    "plt.plot(epochs, train_loss, 'b', label='Training Loss')\n",
    "plt.plot(epochs, val_loss, 'r', label='Validation Loss')\n",
    "plt.title('Training and Validation Loss for L2_Regularization')\n",
    "plt.xlabel('Epochs')\n",
    "plt.ylabel('Loss')\n",
    "plt.legend()"
   ]
  },
  {
   "cell_type": "code",
   "execution_count": 15,
   "id": "7f7a2377-08aa-4da2-a2b7-b3fc39544f07",
   "metadata": {},
   "outputs": [
    {
     "data": {
      "image/png": "[encoded data removed]",
      "text/plain": [
       "<Figure size 432x288 with 1 Axes>"
      ]
     },
     "metadata": {
      "needs_background": "light"
     },
     "output_type": "display_data"
    }
   ],
   "source": [
    "# plotting the traing and validation loss with dropout technique.\n",
    "import matplotlib.pyplot as plt\n",
    "train_loss = Adding_dropout_tech.history['loss']\n",
    "val_loss = Adding_dropout_tech.history['val_loss']\n",
    "epochs = range(1, len(train_loss) + 1)\n",
    "plt.plot(epochs, train_loss, 'b', label='Training Loss')\n",
    "plt.plot(epochs, val_loss, 'r', label='Validation Loss')\n",
    "plt.title('Training and Validation Loss with Dropout')\n",
    "plt.xlabel('Epochs')\n",
    "plt.ylabel('Loss')\n",
    "plt.legend()\n",
    "plt.show()"
   ]
  },
  {
   "cell_type": "code",
   "execution_count": null,
   "id": "2e94587a-a87b-4f50-bdc8-dd42d24c1be4",
   "metadata": {},
   "outputs": [],
   "source": []
  }
 ],
 "metadata": {
  "kernelspec": {
   "display_name": "Python 3",
   "language": "python",
   "name": "python3"
  },
  "language_info": {
   "codemirror_mode": {
    "name": "ipython",
    "version": 3
   },
   "file_extension": ".py",
   "mimetype": "text/x-python",
   "name": "python",
   "nbconvert_exporter": "python",
   "pygments_lexer": "ipython3",
   "version": "3.6.8"
  }
 },
 "nbformat": 4,
 "nbformat_minor": 5
}
